{
 "cells": [
  {
   "cell_type": "markdown",
   "id": "d2dcc86d-c750-4187-986d-bef023208425",
   "metadata": {},
   "source": [
    "# Plotting"
   ]
  },
  {
   "cell_type": "markdown",
   "id": "ff1e4b80-a14f-4a2b-b6c7-21e16dbf3741",
   "metadata": {},
   "source": [
    "PYroMat class methods natively support numpy arrays, which makes plotting easy."
   ]
  },
  {
   "cell_type": "code",
   "execution_count": 1,
   "id": "c6a7f6ef-e100-4b18-b963-808a42ebf698",
   "metadata": {},
   "outputs": [
    {
     "data": {
      "text/plain": [
       "[<matplotlib.lines.Line2D at 0x7fdf78bc4c10>]"
      ]
     },
     "execution_count": 1,
     "metadata": {},
     "output_type": "execute_result"
    },
    {
     "data": {
      "image/png": "[encoded data removed]",
      "text/plain": [
       "<Figure size 432x288 with 1 Axes>"
      ]
     },
     "metadata": {
      "needs_background": "light"
     },
     "output_type": "display_data"
    }
   ],
   "source": [
    "import matplotlib.pyplot as plt\n",
    "import numpy as np\n",
    "import pyromat as pm\n",
    "T = np.linspace(300.,1000.,101)\n",
    "air = pm.get('mp.H2O')\n",
    "plt.plot(T, air.cp(T))"
   ]
  },
  {
   "cell_type": "code",
   "execution_count": null,
   "id": "6901e1ee-48fd-4d84-a890-f2075c64fa19",
   "metadata": {},
   "outputs": [],
   "source": []
  }
 ],
 "metadata": {
  "kernelspec": {
   "display_name": "Python 3 (ipykernel)",
   "language": "python",
   "name": "python3"
  },
  "language_info": {
   "codemirror_mode": {
    "name": "ipython",
    "version": 3
   },
   "file_extension": ".py",
   "mimetype": "text/x-python",
   "name": "python",
   "nbconvert_exporter": "python",
   "pygments_lexer": "ipython3",
   "version": "3.9.7"
  }
 },
 "nbformat": 4,
 "nbformat_minor": 5
}
