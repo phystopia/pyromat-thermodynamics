{
 "cells": [
  {
   "cell_type": "markdown",
   "id": "2d21b1a3-2bb0-4abe-9471-259ae06a31e0",
   "metadata": {},
   "source": [
    "# Steam"
   ]
  },
  {
   "cell_type": "markdown",
   "id": "f0c6de27-8624-4bc2-8ee6-e7a3e0bf1c6e",
   "metadata": {},
   "source": [
    "For working with multi-phase substances like steam, it is sometimes important to calculate properties that are \"under the dome.\" There is a discontinuity in fluid properties at a phase change. For example, at 1 atmosphere, the enthalpy of steam jumps from about 419kJ/kg to about 2,676kJ/kg. In theory, there is no form of water possesses 1,500kJ/kg at atmospheric pressure, but a mixture of vapor and liquid does. The percent by mass of that mixture made up of vapor is called quality, and it is denoted with an *x*."
   ]
  },
  {
   "cell_type": "markdown",
   "id": "d15ab2ae-e7f5-482f-8670-26bf1c4d4bb5",
   "metadata": {},
   "source": [
    "## Using quality in properties"
   ]
  },
  {
   "cell_type": "markdown",
   "id": "51bad7a7-1c09-4010-b70f-94526b28c4c4",
   "metadata": {},
   "source": [
    "Instead of the typical temperature and pressure call signature, quality can be an argument to steam's properties. Note that when quality is specified, the state must be on the saturation curve. Specifying pressure or temperature has the same effect."
   ]
  },
  {
   "cell_type": "code",
   "execution_count": 1,
   "id": "9482a1d1-0779-49e7-8806-06c74824efe7",
   "metadata": {},
   "outputs": [],
   "source": [
    "import pyromat as pm"
   ]
  },
  {
   "cell_type": "code",
   "execution_count": 2,
   "id": "18924b92-5dca-4e6c-8212-ea445015a864",
   "metadata": {},
   "outputs": [
    {
     "data": {
      "text/plain": [
       "array([1761.80651878])"
      ]
     },
     "execution_count": 2,
     "metadata": {},
     "output_type": "execute_result"
    }
   ],
   "source": [
    "H2O = pm.get('mp.H2O')"
   ]
  },
  {
   "cell_type": "code",
   "execution_count": null,
   "id": "f4fd5468-678c-483d-b1bf-80457d6f6b15",
   "metadata": {},
   "outputs": [],
   "source": [
    "H2O.h(T=450., x=0.5)"
   ]
  },
  {
   "cell_type": "code",
   "execution_count": 3,
   "id": "d4c84957-73db-4d2a-ab57-3958a39c5a29",
   "metadata": {},
   "outputs": [
    {
     "data": {
      "text/plain": [
       "array([1761.80651878])"
      ]
     },
     "execution_count": 3,
     "metadata": {},
     "output_type": "execute_result"
    }
   ],
   "source": [
    "p = H2O.ps(T=450.)"
   ]
  },
  {
   "cell_type": "code",
   "execution_count": null,
   "id": "0892224b-ecd7-4ba7-a012-20f8805cf2a1",
   "metadata": {},
   "outputs": [],
   "source": [
    "H2O.h(p=p, x=0.5)"
   ]
  },
  {
   "cell_type": "markdown",
   "id": "b220a8d8-1d45-4b27-ac22-abd4ced3a532",
   "metadata": {},
   "source": [
    "Quality obeys the same array rules as does any other argument to a property method."
   ]
  },
  {
   "cell_type": "code",
   "execution_count": 7,
   "id": "79a4348a-451a-4770-8945-a22efc9580ca",
   "metadata": {},
   "outputs": [
    {
     "data": {
      "text/plain": [
       "array([ 749.17150636,  951.69850884, 1154.22551133, 1356.75251381,\n",
       "       1559.2795163 , 1761.80651878])"
      ]
     },
     "execution_count": 7,
     "metadata": {},
     "output_type": "execute_result"
    }
   ],
   "source": [
    "H2O.h(T=450., x=[0,.1, .2, .3, .4, .5])"
   ]
  },
  {
   "cell_type": "markdown",
   "id": "6f5a3fe6-2631-48d4-93ee-4e178cbb9625",
   "metadata": {},
   "source": [
    "## Retrieving quality from properties"
   ]
  },
  {
   "cell_type": "markdown",
   "id": "251b851c-6911-49b5-9acb-97134e7f6bb5",
   "metadata": {},
   "source": [
    "The inverse properties also support quality. There is an optional keyword parameter called \"quality\" that, if set to \"True,\" prompts `h_T` and `s_T` to return both temperature and quality. Here, we get the saturation temperature, pressure, and liquid/vapor enthalpies all in one command. Then, `T_h` reports that at 9.32041bar, water with an enthalpy of 2000kJ/kg is at 450 Kelvin and has 0.618 quality."
   ]
  },
  {
   "cell_type": "code",
   "execution_count": 12,
   "id": "ac9bfd63-89b2-4668-a35e-da348d12ea96",
   "metadata": {},
   "outputs": [
    {
     "data": {
      "text/plain": [
       "(array([749.17150636]), array([2774.44153121]))"
      ]
     },
     "execution_count": 12,
     "metadata": {},
     "output_type": "execute_result"
    }
   ],
   "source": [
    "H2O.hs(T=450.)"
   ]
  },
  {
   "cell_type": "code",
   "execution_count": 13,
   "id": "4cdfb113-be3f-4796-9d88-1d9aa591c6ee",
   "metadata": {},
   "outputs": [
    {
     "data": {
      "text/plain": [
       "(array([449.99254981]), array([0.61761899]))"
      ]
     },
     "execution_count": 13,
     "metadata": {},
     "output_type": "execute_result"
    }
   ],
   "source": [
    "H2O.T_h(h = 2000., p=9.32041, quality=True)"
   ]
  },
  {
   "cell_type": "markdown",
   "id": "29e89bef-3b54-4950-804f-722bf4a53509",
   "metadata": {},
   "source": [
    "Authored By:<br>\n",
    "**Christopher R. Martin, Ph.D.**<br>\n",
    "Associate Professor of Mechanical Engineering<br>\n",
    "The Pennsylvania State University, Altoona College<br>\n",
    "crm28@psu.edu<br>\n",
    "©2021 Released under the GPLv3 License"
   ]
  }
 ],
 "metadata": {
  "kernelspec": {
   "display_name": "Python 3 (ipykernel)",
   "language": "python",
   "name": "python3"
  },
  "language_info": {
   "codemirror_mode": {
    "name": "ipython",
    "version": 3
   },
   "file_extension": ".py",
   "mimetype": "text/x-python",
   "name": "python",
   "nbconvert_exporter": "python",
   "pygments_lexer": "ipython3",
   "version": "3.9.7"
  }
 },
 "nbformat": 4,
 "nbformat_minor": 5
}
