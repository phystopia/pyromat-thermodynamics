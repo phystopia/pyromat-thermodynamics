{
 "cells": [
  {
   "cell_type": "markdown",
   "id": "1be8f374-0693-4b5e-bcfe-9c4683ca117e",
   "metadata": {},
   "source": [
    "# Problem 4-141, Çengel."
   ]
  },
  {
   "cell_type": "markdown",
   "id": "01dd2ce0-41d9-46a6-9fb1-b7532ffdb288",
   "metadata": {},
   "source": [
    "ÇENGEL, Yunus A., BOLES, Michael A., KANOǦLU, Mehmet (2019). *Thermodynamics: an Engineering Approach*. 9th. ed., McGraw-Hill."
   ]
  },
  {
   "cell_type": "markdown",
   "id": "123cd1d6-5eaf-45c2-bc32-955bffea7812",
   "metadata": {},
   "source": [
    "A piston–cylinder device initially contains 0.35 kg of steam at 3.5 MPa, superheated by 7.4°C. Now the steam loses heat to the surroundings and the piston moves down, hitting a set of stops at which point the cylinder contains saturated liquid water. The cooling continues until the cylinder contains water at 200°C. Determine: <br>\n",
    "\n",
    "a. the final pressure. <br>\n",
    "b. the quality (if mixture). <br>\n",
    "c. the boundary work. <br>\n",
    "d. the amount of heat transfer when the piston first hits the stops. <br>\n",
    "e. the total heat transfer."
   ]
  },
  {
   "cell_type": "code",
   "execution_count": 152,
   "id": "b871d950-f812-43c3-9537-b29c9b329e83",
   "metadata": {},
   "outputs": [],
   "source": [
    "import pyromat as pm\n",
    "import numpy as np\n",
    "import matplotlib.pyplot as plt\n",
    "\n",
    "pm.config[\"def_p\"] = 100\n",
    "\n",
    "water = pm.get(\"mp.H2O\")\n",
    "\n",
    "m_water = 0.35"
   ]
  },
  {
   "cell_type": "markdown",
   "id": "07486281-0284-4972-8a9d-9d454f553898",
   "metadata": {},
   "source": [
    "## State 1"
   ]
  },
  {
   "cell_type": "markdown",
   "id": "2b74e855-d216-4e25-99ed-369f57a92ccc",
   "metadata": {},
   "source": [
    "### Initial Pressure: 3500 kPa"
   ]
  },
  {
   "cell_type": "code",
   "execution_count": 153,
   "id": "926c7dde-dbb8-4873-a659-76816f3e5ac6",
   "metadata": {},
   "outputs": [],
   "source": [
    "pm.config[\"unit_pressure\"] = \"kPa\"\n",
    "p1 = 3500"
   ]
  },
  {
   "cell_type": "markdown",
   "id": "a97d8b31-d3cd-47c2-9e3a-6fff6b0d9f3f",
   "metadata": {},
   "source": [
    "### Temperature 1"
   ]
  },
  {
   "cell_type": "code",
   "execution_count": 154,
   "id": "157cf6f4-8d1c-405e-82df-be50680d21a4",
   "metadata": {},
   "outputs": [
    {
     "name": "stdout",
     "output_type": "stream",
     "text": [
      "T1 : [523.1]  K  =  [250.] ºC\n"
     ]
    }
   ],
   "source": [
    "T1 = water.Ts(p = p1) + 7.4\n",
    "print('T1 :', np.round(T1,1),' K  = ', np.round(T1 - 273.15,1), 'ºC')"
   ]
  },
  {
   "cell_type": "markdown",
   "id": "a4514ce1-23f3-4030-b75c-1cddabf5b04e",
   "metadata": {},
   "source": [
    "### Density & Specific Volume 1"
   ]
  },
  {
   "cell_type": "code",
   "execution_count": 155,
   "id": "374322f6-4d58-4e22-a7c7-921641672a21",
   "metadata": {
    "tags": []
   },
   "outputs": [
    {
     "name": "stdout",
     "output_type": "stream",
     "text": [
      "density : [17.022]  kg/m3    specific volume: [0.05875]  m3/kg\n"
     ]
    }
   ],
   "source": [
    "d1 = water.d(T = T1, p = p1)\n",
    "v1 = 1/d1\n",
    "print('density :', np.round(d1,3),' kg/m3    specific volume:', np.round(v1,5),' m3/kg')"
   ]
  },
  {
   "cell_type": "markdown",
   "id": "a7bd877e-0afe-4708-ab19-2f983f189933",
   "metadata": {},
   "source": [
    "### Volume 1"
   ]
  },
  {
   "cell_type": "code",
   "execution_count": 156,
   "id": "fea74fbf-c5eb-497a-a88a-b09688ec5c90",
   "metadata": {},
   "outputs": [
    {
     "name": "stdout",
     "output_type": "stream",
     "text": [
      "Volume 1 : [0.02056]  m3\n"
     ]
    }
   ],
   "source": [
    "V1 = m_water * v1\n",
    "print('Volume 1 :', np.round(V1,5),' m3')"
   ]
  },
  {
   "cell_type": "markdown",
   "id": "16fa50e1-fb1a-424e-802e-3f44141ad3fd",
   "metadata": {},
   "source": [
    "## State 2"
   ]
  },
  {
   "cell_type": "markdown",
   "id": "78d13488-ff1b-422c-9113-24af08ed4e50",
   "metadata": {},
   "source": [
    "### Pressure 2 = Pressure 1"
   ]
  },
  {
   "cell_type": "code",
   "execution_count": 157,
   "id": "a4dc657c-a333-45ab-a74b-aa7f1cee8be6",
   "metadata": {},
   "outputs": [],
   "source": [
    "p2 = p1"
   ]
  },
  {
   "cell_type": "markdown",
   "id": "4d30b0da-25ef-47e1-a89b-3b331b47a35f",
   "metadata": {},
   "source": [
    "### Temperature 2"
   ]
  },
  {
   "cell_type": "code",
   "execution_count": 158,
   "id": "6fe8112b-484f-4d59-8345-2329ebae8df9",
   "metadata": {},
   "outputs": [
    {
     "name": "stdout",
     "output_type": "stream",
     "text": [
      "T2 : [515.7]  K  =  [242.6] ºC\n"
     ]
    }
   ],
   "source": [
    "T2 = water.Ts(p = p1)\n",
    "print('T2 :', np.round(T2,1),' K  = ', np.round(T2 - 273.15,1), 'ºC')"
   ]
  },
  {
   "cell_type": "markdown",
   "id": "ace97787-ac74-4f9c-a0f3-5716d5fe0442",
   "metadata": {},
   "source": [
    "### Density & Specific Volume 2"
   ]
  },
  {
   "cell_type": "code",
   "execution_count": 159,
   "id": "a4dc3424-a91d-4000-9963-60b719696202",
   "metadata": {
    "tags": []
   },
   "outputs": [
    {
     "name": "stdout",
     "output_type": "stream",
     "text": [
      "density : [809.811]  kg/m3    specific volume: [0.001235]  m3/kg\n"
     ]
    }
   ],
   "source": [
    "d2 = water.ds(p = p2)[0]\n",
    "v2 = 1/d2\n",
    "print('density :', np.round(d2,3),' kg/m3    specific volume:', np.round(v2,6),' m3/kg')"
   ]
  },
  {
   "cell_type": "markdown",
   "id": "aeccf2fd-8027-417d-ba77-acfb366459db",
   "metadata": {},
   "source": [
    "### Volume 2"
   ]
  },
  {
   "cell_type": "code",
   "execution_count": 160,
   "id": "52aecf06-f320-4335-9d98-011a967d3946",
   "metadata": {},
   "outputs": [
    {
     "name": "stdout",
     "output_type": "stream",
     "text": [
      "Volume 2 : [0.0004322]  m3\n"
     ]
    }
   ],
   "source": [
    "V2 = m_water * v2\n",
    "print('Volume 2 :', np.round(V2,7),' m3')"
   ]
  },
  {
   "cell_type": "markdown",
   "id": "447d7452-f31d-4670-aaf9-79eebb1196fd",
   "metadata": {},
   "source": [
    "## State 3"
   ]
  },
  {
   "cell_type": "markdown",
   "id": "94953c62-4e84-432b-b9a2-711ba69bc697",
   "metadata": {},
   "source": [
    "### Temperature 3"
   ]
  },
  {
   "cell_type": "code",
   "execution_count": 161,
   "id": "78d735eb-07ed-41fe-9868-1a5a3cf612d7",
   "metadata": {},
   "outputs": [],
   "source": [
    "T3 = 200 + 273.15"
   ]
  },
  {
   "cell_type": "markdown",
   "id": "45eb9209-e0c2-42b2-a557-42a4195deb20",
   "metadata": {},
   "source": [
    "### Pressure 3"
   ]
  },
  {
   "cell_type": "code",
   "execution_count": 162,
   "id": "0b7ab721-fa7b-44e9-9a0b-763b350bb00d",
   "metadata": {},
   "outputs": [
    {
     "name": "stdout",
     "output_type": "stream",
     "text": [
      "Pressure 3: 1554.9  kPa\n"
     ]
    }
   ],
   "source": [
    "p3 = water.ps(T = T3)\n",
    "print('Pressure 3:', np.round(p3,1),' kPa')"
   ]
  },
  {
   "cell_type": "markdown",
   "id": "ff7871ce-c9e5-415a-87ce-60c59865b274",
   "metadata": {},
   "source": [
    "### Volume 3"
   ]
  },
  {
   "cell_type": "code",
   "execution_count": 163,
   "id": "c4b5ff1f-8d8d-4bd8-a886-2b924c3bc2dd",
   "metadata": {},
   "outputs": [
    {
     "name": "stdout",
     "output_type": "stream",
     "text": [
      "density : [864.658]  kg/m3    specific volume: [0.001157]  m3/kg\n"
     ]
    }
   ],
   "source": [
    "d3 = water.d(T = T3, p = p3)\n",
    "v3 = 1/d3\n",
    "print('density :', np.round(d3,3),' kg/m3    specific volume:', np.round(v3,6),' m3/kg')"
   ]
  },
  {
   "cell_type": "code",
   "execution_count": 164,
   "id": "d42e3528-49e1-49be-8967-ecb5c0f357f2",
   "metadata": {},
   "outputs": [
    {
     "name": "stdout",
     "output_type": "stream",
     "text": [
      "Volume 3 : [0.0004048]  m3\n"
     ]
    }
   ],
   "source": [
    "V3 = m_water * v3\n",
    "print('Volume 3 :', np.round(V3,7),' m3')"
   ]
  },
  {
   "cell_type": "markdown",
   "id": "a42d380e-eca2-486f-84cb-df97c4c9a18f",
   "metadata": {},
   "source": [
    "### Enthalpy 3"
   ]
  },
  {
   "cell_type": "code",
   "execution_count": 165,
   "id": "eb09d0fa-87fc-42a8-9bba-50dd5b89e7f8",
   "metadata": {},
   "outputs": [
    {
     "name": "stdout",
     "output_type": "stream",
     "text": [
      "Enthalpy 3: [852.28]  kJ/kg\n"
     ]
    }
   ],
   "source": [
    "h3 = water.h(T = T3, p = p3)\n",
    "print('Enthalpy 3:', np.round(h3,2),' kJ/kg')"
   ]
  },
  {
   "cell_type": "markdown",
   "id": "80e70afc-a0d0-482d-a1cd-f29f496b7c3b",
   "metadata": {},
   "source": [
    "### Quality 3"
   ]
  },
  {
   "cell_type": "code",
   "execution_count": 166,
   "id": "a941ffd9-220d-4cfe-bc0a-5024bc92770c",
   "metadata": {},
   "outputs": [
    {
     "data": {
      "text/plain": [
       "(array([473.15]), array([0.00036774]))"
      ]
     },
     "execution_count": 166,
     "metadata": {},
     "output_type": "execute_result"
    }
   ],
   "source": [
    "water.T_h(h = 853, p = p3, quality = True)"
   ]
  },
  {
   "cell_type": "markdown",
   "id": "058bb576-987b-45c1-b666-30c0b3da1822",
   "metadata": {},
   "source": [
    "## Proccess 1 --> 2"
   ]
  },
  {
   "cell_type": "markdown",
   "id": "586a4514-e4a3-4458-afba-7d66946e4030",
   "metadata": {},
   "source": [
    "$ Q_{12} - W_{12} = \\Delta U_{12} $"
   ]
  },
  {
   "cell_type": "markdown",
   "id": "6707cd54-eed2-4103-8f91-605b2762040b",
   "metadata": {},
   "source": [
    "$ \\Delta U_{12} = U_2 - U_1 $"
   ]
  },
  {
   "cell_type": "code",
   "execution_count": 167,
   "id": "6a2e57e3-bf85-4bc5-abf8-6155149b2440",
   "metadata": {},
   "outputs": [
    {
     "name": "stdout",
     "output_type": "stream",
     "text": [
      "Du12 = [1045.48] - [2623.93] = [-1578.45]  kJ/kg\n"
     ]
    }
   ],
   "source": [
    "u1 = water.e(T = T1, p = p1)\n",
    "u2 = water.e(T = T2, p = p2)\n",
    "\n",
    "Du12 = u2 - u1\n",
    "\n",
    "print('Du12 =', np.round(u2,2),'-', np.round(u1,2),'=', np.round(Du12,2),' kJ/kg')"
   ]
  },
  {
   "cell_type": "code",
   "execution_count": 168,
   "id": "73f93ab6-d79b-4ec8-aaa6-bc1e488cfb58",
   "metadata": {},
   "outputs": [
    {
     "name": "stdout",
     "output_type": "stream",
     "text": [
      "DU12 = [-552.46] kJ\n"
     ]
    }
   ],
   "source": [
    "DU12 = m_water * Du12\n",
    "\n",
    "print('DU12 =', np.round(DU12,2),'kJ')"
   ]
  },
  {
   "cell_type": "markdown",
   "id": "0fd3925d-0ea2-4851-b6bc-302667aac61f",
   "metadata": {},
   "source": [
    "$ W_{12} = P_1 \\cdot (V_2 - V_1) $"
   ]
  },
  {
   "cell_type": "code",
   "execution_count": 169,
   "id": "dea3fb32-7047-449a-8752-b363f251ed2c",
   "metadata": {},
   "outputs": [
    {
     "name": "stdout",
     "output_type": "stream",
     "text": [
      "W12 = 3500  x ( [0.001235] - [0.058748] )= [-201.3]  kJ/kg\n"
     ]
    }
   ],
   "source": [
    "W12 = p1 * (v2 - v1)\n",
    "\n",
    "print('W12 =', np.round(p1,4),' x (', np.round(v2,6),'-', np.round(v1,6),')=', np.round(W12,2),' kJ/kg')"
   ]
  },
  {
   "cell_type": "markdown",
   "id": "94856c05-a0a0-4575-aef3-bfda3680e54c",
   "metadata": {},
   "source": [
    "$ Q_{12} = \\Delta U_{12} + W_{12} $"
   ]
  },
  {
   "cell_type": "code",
   "execution_count": 170,
   "id": "b7ea12c2-6634-4c8a-b31a-8df91652d63a",
   "metadata": {},
   "outputs": [
    {
     "name": "stdout",
     "output_type": "stream",
     "text": [
      "Q12 = [-552.456]  + ( [-201.296661] = [-753.75]  kJ\n"
     ]
    }
   ],
   "source": [
    "Q12 = DU12 + W12\n",
    "\n",
    "print('Q12 =', np.round(DU12,4),' + (', np.round(W12,6),'=', np.round(Q12,2),' kJ')"
   ]
  },
  {
   "cell_type": "code",
   "execution_count": 171,
   "id": "9a9631d1-1015-4ea1-a6aa-ebbaded7541a",
   "metadata": {},
   "outputs": [],
   "source": [
    "p = np.arange(1.,22063.)\n",
    "T = water.Ts(p=p)\n",
    "s = water.ss(p=p)\n",
    "d = water.ds(p=p)\n",
    "vf= 1/d[0]\n",
    "vg= 1/d[1]"
   ]
  },
  {
   "cell_type": "code",
   "execution_count": 172,
   "id": "88b52adb-8d57-42a0-963b-f37c4441acbb",
   "metadata": {},
   "outputs": [
    {
     "data": {
      "text/plain": [
       "Text(0.5, 0, 'specific volume (v)')"
      ]
     },
     "execution_count": 172,
     "metadata": {},
     "output_type": "execute_result"
    },
    {
     "data": {
      "image/png": "[encoded data removed]",
      "text/plain": [
       "<Figure size 1080x720 with 1 Axes>"
      ]
     },
     "metadata": {
      "needs_background": "light"
     },
     "output_type": "display_data"
    }
   ],
   "source": [
    "font = {'family' : 'Helvetica',\n",
    "        'size'   : 22}\n",
    "plt.figure(figsize=(15,10))\n",
    "plt.xscale(\"log\")\n",
    "plt.yscale(\"log\")\n",
    "plt.title('P-v Diagram for Water')\n",
    "plt.rc('font', **font)\n",
    "plt.plot(vf,p, 'b--')\n",
    "plt.plot(vg,p,'r--')\n",
    "plt.plot([v1,v2],[p1,p2],'g',linewidth=2)\n",
    "plt.plot([v2,v3],[p2,p3],'g',linewidth=2)\n",
    "plt.ylabel('Pressure (kPa)')\n",
    "plt.xlabel('specific volume (v)')"
   ]
  },
  {
   "cell_type": "code",
   "execution_count": 173,
   "id": "86d4cb25-9010-4e7b-9eba-09a90847b7ec",
   "metadata": {},
   "outputs": [
    {
     "data": {
      "text/plain": [
       "Text(0.5, 0, 'specific volume (v)')"
      ]
     },
     "execution_count": 173,
     "metadata": {},
     "output_type": "execute_result"
    },
    {
     "data": {
      "image/png": "[encoded data removed]",
      "text/plain": [
       "<Figure size 1080x720 with 1 Axes>"
      ]
     },
     "metadata": {
      "needs_background": "light"
     },
     "output_type": "display_data"
    }
   ],
   "source": [
    "font = {'family' : 'Helvetica',\n",
    "        'size'   : 22}\n",
    "plt.figure(figsize=(15,10))\n",
    "plt.xscale(\"log\")\n",
    "plt.yscale(\"log\")\n",
    "plt.title('P-v Diagram for Water')\n",
    "plt.rc('font', **font)\n",
    "plt.axis([0.001, 0.1, 1500, 4000])\n",
    "plt.plot(vf,p, 'b--')\n",
    "plt.plot(vg,p,'r--')\n",
    "plt.plot([v1,v2],[p1,p2],'g',linewidth=2.5)\n",
    "plt.plot([v2,v3],[p2,p3],'g',linewidth=2.5)\n",
    "plt.ylabel('Pressure (kPa)')\n",
    "plt.xlabel('specific volume (v)')"
   ]
  },
  {
   "cell_type": "code",
   "execution_count": null,
   "id": "fb664511-b37a-4d08-b2f6-72fe3259600a",
   "metadata": {},
   "outputs": [],
   "source": []
  },
  {
   "cell_type": "code",
   "execution_count": null,
   "id": "3e6c0306-5a0d-4d97-b247-0ed194b7d329",
   "metadata": {},
   "outputs": [],
   "source": []
  }
 ],
 "metadata": {
  "kernelspec": {
   "display_name": "Python 3 (ipykernel)",
   "language": "python",
   "name": "python3"
  },
  "language_info": {
   "codemirror_mode": {
    "name": "ipython",
    "version": 3
   },
   "file_extension": ".py",
   "mimetype": "text/x-python",
   "name": "python",
   "nbconvert_exporter": "python",
   "pygments_lexer": "ipython3",
   "version": "3.9.7"
  }
 },
 "nbformat": 4,
 "nbformat_minor": 5
}
