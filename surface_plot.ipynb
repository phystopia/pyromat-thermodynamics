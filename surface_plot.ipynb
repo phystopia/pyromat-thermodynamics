{
 "cells": [
  {
   "cell_type": "markdown",
   "id": "485eaeeb-a36c-45eb-943f-82178af42fde",
   "metadata": {},
   "source": [
    "# Making surface plots"
   ]
  },
  {
   "cell_type": "markdown",
   "id": "bcf4be28-81b3-4915-a0a6-67e444302720",
   "metadata": {},
   "source": [
    "It is often useful to view properties as surfaces over temperature and pressure, but the code is not usually easy. In this example, adding on the saturation lines is actually far more code than generating the surfaces."
   ]
  },
  {
   "cell_type": "markdown",
   "id": "d339d827-abc3-4253-802b-6426be4b8309",
   "metadata": {},
   "source": [
    "# Steam phase change demo"
   ]
  },
  {
   "cell_type": "markdown",
   "id": "14131118-adeb-4c7d-840e-7a2e68020e99",
   "metadata": {},
   "source": [
    "By Chris Martin (c) 2016 <br>\n",
    "GPL v3.0 <br>\n",
    "Enjoy!"
   ]
  },
  {
   "cell_type": "markdown",
   "id": "00a5b01b-cfa5-4928-bd92-1eb72e105afb",
   "metadata": {},
   "source": [
    "In this code, we generate a surface plot that spans the saturation curve from triple point to critical point.  We'll add two red lines to show where the liquid- and gas-phase saturation properties are in each plot.  "
   ]
  },
  {
   "cell_type": "code",
   "execution_count": 6,
   "id": "66b57df5-e4e4-4b2d-ae2f-9fbc2f81b813",
   "metadata": {},
   "outputs": [],
   "source": [
    "import pyromat as pyro\n",
    "import matplotlib.pyplot as plt\n",
    "from mpl_toolkits.mplot3d import Axes3D\n",
    "import numpy as np"
   ]
  },
  {
   "cell_type": "markdown",
   "id": "536434f4-09fa-4f2d-b9f2-ec79afda586f",
   "metadata": {},
   "source": [
    "Start with a blank slate"
   ]
  },
  {
   "cell_type": "code",
   "execution_count": 7,
   "id": "628c675b-922b-4540-8d94-ba1e81cb43bf",
   "metadata": {},
   "outputs": [],
   "source": [
    "plt.close('all')"
   ]
  },
  {
   "cell_type": "markdown",
   "id": "b26a7623-82f7-4a31-9cb2-0767c9db9333",
   "metadata": {},
   "source": [
    "Get the steam object"
   ]
  },
  {
   "cell_type": "code",
   "execution_count": 8,
   "id": "54451f64-2f1e-494d-8038-939cff5455a8",
   "metadata": {},
   "outputs": [],
   "source": [
    "S = pyro.get('mp.H2O')"
   ]
  },
  {
   "cell_type": "markdown",
   "id": "0dd93aec-7a93-48b5-9d74-012366035336",
   "metadata": {},
   "source": [
    "Get the critical and triple point properties"
   ]
  },
  {
   "cell_type": "code",
   "execution_count": 9,
   "id": "84870496-573f-4e0d-aa7c-f5657c084a90",
   "metadata": {},
   "outputs": [],
   "source": [
    "Tt,pt = S.triple()\n",
    "Tc,pc = S.critical()"
   ]
  },
  {
   "cell_type": "markdown",
   "id": "8d7a51a2-ec7b-4cd8-bf6b-e5905bfea48e",
   "metadata": {},
   "source": [
    "Explore the temperatures between Tt and Tc in 5K increments"
   ]
  },
  {
   "cell_type": "code",
   "execution_count": 10,
   "id": "fa1e85a2-cd98-4605-970c-a55a6ad4ea1f",
   "metadata": {},
   "outputs": [],
   "source": [
    "Ts = np.arange(Tt,Tc,5.)"
   ]
  },
  {
   "cell_type": "markdown",
   "id": "332bff21-4854-4833-9df1-3c79bc8a345d",
   "metadata": {},
   "source": [
    "Now, obtain the saturation properties. <br>\n",
    "Note that when a saturation property is called with the \"tp\" flag True it also returns the saturation temperature and pressure. This is more efficient than separate calls to Ts and ps."
   ]
  },
  {
   "cell_type": "code",
   "execution_count": 11,
   "id": "f9f82ba7-770a-497c-858e-fdb01c131110",
   "metadata": {},
   "outputs": [
    {
     "ename": "TypeError",
     "evalue": "_sat_argparse() got an unexpected keyword argument 'tp'",
     "output_type": "error",
     "traceback": [
      "\u001b[0;31m---------------------------------------------------------------------------\u001b[0m",
      "\u001b[0;31mTypeError\u001b[0m                                 Traceback (most recent call last)",
      "\u001b[0;32m/var/folders/0l/h55fmpnj56107xxc5gy6sn040000gn/T/ipykernel_35434/183542281.py\u001b[0m in \u001b[0;36m<module>\u001b[0;34m\u001b[0m\n\u001b[0;32m----> 1\u001b[0;31m \u001b[0mTs\u001b[0m\u001b[0;34m,\u001b[0m\u001b[0mps\u001b[0m\u001b[0;34m,\u001b[0m\u001b[0mdL\u001b[0m\u001b[0;34m,\u001b[0m\u001b[0mdV\u001b[0m \u001b[0;34m=\u001b[0m \u001b[0mS\u001b[0m\u001b[0;34m.\u001b[0m\u001b[0mds\u001b[0m\u001b[0;34m(\u001b[0m\u001b[0mT\u001b[0m\u001b[0;34m=\u001b[0m\u001b[0mTs\u001b[0m\u001b[0;34m,\u001b[0m\u001b[0mtp\u001b[0m\u001b[0;34m=\u001b[0m\u001b[0;32mTrue\u001b[0m\u001b[0;34m)\u001b[0m\u001b[0;34m\u001b[0m\u001b[0;34m\u001b[0m\u001b[0m\n\u001b[0m",
      "\u001b[0;32m/opt/anaconda3/lib/python3.9/site-packages/pyromat/registry/mp1.py\u001b[0m in \u001b[0;36mds\u001b[0;34m(self, *varg, **kwarg)\u001b[0m\n\u001b[1;32m   2771\u001b[0m \u001b[0;34m[\u001b[0m\u001b[0munit_matter\u001b[0m \u001b[0;34m/\u001b[0m \u001b[0munit_volume\u001b[0m\u001b[0;34m]\u001b[0m\u001b[0;34m\u001b[0m\u001b[0;34m\u001b[0m\u001b[0m\n\u001b[1;32m   2772\u001b[0m \"\"\"\n\u001b[0;32m-> 2773\u001b[0;31m         \u001b[0m_\u001b[0m\u001b[0;34m,\u001b[0m\u001b[0mdL\u001b[0m\u001b[0;34m,\u001b[0m\u001b[0mdV\u001b[0m \u001b[0;34m=\u001b[0m \u001b[0mself\u001b[0m\u001b[0;34m.\u001b[0m\u001b[0m_sat_argparse\u001b[0m\u001b[0;34m(\u001b[0m\u001b[0;34m*\u001b[0m\u001b[0mvarg\u001b[0m\u001b[0;34m,\u001b[0m \u001b[0;34m**\u001b[0m\u001b[0mkwarg\u001b[0m\u001b[0;34m)\u001b[0m\u001b[0;34m\u001b[0m\u001b[0;34m\u001b[0m\u001b[0m\n\u001b[0m\u001b[1;32m   2774\u001b[0m         \u001b[0;31m# Get a conversion factor\u001b[0m\u001b[0;34m\u001b[0m\u001b[0;34m\u001b[0m\u001b[0m\n\u001b[1;32m   2775\u001b[0m         conv = pm.units.matter(1., self.data['mw'],\n",
      "\u001b[0;31mTypeError\u001b[0m: _sat_argparse() got an unexpected keyword argument 'tp'"
     ]
    }
   ],
   "source": [
    "Ts,ps,dL,dV = S.ds(T=Ts,tp=True)"
   ]
  },
  {
   "cell_type": "markdown",
   "id": "6c8ff51d-6e95-4abe-96cc-0be5d4df8b45",
   "metadata": {},
   "source": [
    "It is faster to explicitly pass both Ts and ps to the saturation methods. This saves them a redundant call to Ts or ps since both are required anyway."
   ]
  },
  {
   "cell_type": "code",
   "execution_count": null,
   "id": "8e6b40e1-2186-4d9d-bade-ad674d2f6395",
   "metadata": {},
   "outputs": [],
   "source": [
    "hL,hV = S.hs(T=Ts,p=ps)\n",
    "sL,sV = S.ss(T=Ts,p=ps)\n",
    "eL,eV = S.es(T=Ts,p=ps)"
   ]
  },
  {
   "cell_type": "markdown",
   "id": "6a4d45d1-158b-49e7-b7a5-57ed2f28940e",
   "metadata": {},
   "source": [
    "Note that this code results in warnings that the accuracy of saturation properties is reduced above 623.15K.  This is normal; PYro is simply making sure the user is aware that saturation properties in this region can be difficult to provide accurately."
   ]
  },
  {
   "cell_type": "markdown",
   "id": "2426a446-6b82-474a-9f78-1771ef828495",
   "metadata": {},
   "source": [
    "Now, crank out some surface plots."
   ]
  },
  {
   "cell_type": "code",
   "execution_count": null,
   "id": "83af7fec-ea4b-4ca5-875d-7ba48aecbfcd",
   "metadata": {},
   "outputs": [],
   "source": [
    "T,p = np.meshgrid(Ts,ps)"
   ]
  },
  {
   "cell_type": "markdown",
   "id": "c76a3e3e-4b3d-4d63-8bb9-48c3684f7262",
   "metadata": {},
   "source": [
    "Calculate density, enthalpy, entropy, and internal energy"
   ]
  },
  {
   "cell_type": "code",
   "execution_count": null,
   "id": "b41621cc-219a-4f1e-aa70-ff8ce332922c",
   "metadata": {},
   "outputs": [],
   "source": [
    "d = S.d(T,p)\n",
    "h = S.h(T,p)\n",
    "s = S.s(T,p)\n",
    "e = S.e(T,p)\n",
    "\n",
    "\n",
    "f = plt.figure(1)\n",
    "ax = f.add_subplot(111,projection='3d')\n",
    "ax.plot_surface(T,p,d)\n",
    "ax.plot(Ts,ps,dL,'r')\n",
    "ax.plot(Ts,ps,dV,'r')\n",
    "ax.set_xlabel('T')\n",
    "ax.set_ylabel('p')\n",
    "ax.set_zlabel('density')\n",
    "\n",
    "f = plt.figure(2)\n",
    "ax = f.add_subplot(111,projection='3d')\n",
    "ax.plot_surface(T,p,h)\n",
    "ax.plot(Ts,ps,hL,'r')\n",
    "ax.plot(Ts,ps,hV,'r')\n",
    "ax.set_xlabel('T')\n",
    "ax.set_ylabel('p')\n",
    "ax.set_zlabel('enthalpy')\n",
    "\n",
    "f = plt.figure(3)\n",
    "ax = f.add_subplot(111,projection='3d')\n",
    "ax.plot_surface(T,p,s)\n",
    "ax.plot(Ts,ps,sL,'r')\n",
    "ax.plot(Ts,ps,sV,'r')\n",
    "ax.set_xlabel('T')\n",
    "ax.set_ylabel('p')\n",
    "ax.set_zlabel('entropy')\n",
    "\n",
    "f = plt.figure(4)\n",
    "ax = f.add_subplot(111,projection='3d')\n",
    "ax.plot_surface(T,p,e)\n",
    "ax.plot(Ts,ps,eL,'r')\n",
    "ax.plot(Ts,ps,eV,'r')\n",
    "ax.set_xlabel('T')\n",
    "ax.set_ylabel('p')\n",
    "ax.set_zlabel('energy')\n",
    "\n",
    "plt.show(block=False)"
   ]
  },
  {
   "cell_type": "code",
   "execution_count": null,
   "id": "69f4173c-755c-407e-9d7c-901214ad4251",
   "metadata": {},
   "outputs": [],
   "source": []
  }
 ],
 "metadata": {
  "kernelspec": {
   "display_name": "Python 3 (ipykernel)",
   "language": "python",
   "name": "python3"
  },
  "language_info": {
   "codemirror_mode": {
    "name": "ipython",
    "version": 3
   },
   "file_extension": ".py",
   "mimetype": "text/x-python",
   "name": "python",
   "nbconvert_exporter": "python",
   "pygments_lexer": "ipython3",
   "version": "3.9.7"
  }
 },
 "nbformat": 4,
 "nbformat_minor": 5
}
