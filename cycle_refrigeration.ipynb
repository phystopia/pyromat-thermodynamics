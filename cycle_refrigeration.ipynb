{
  "cells": [
    {
      "cell_type": "markdown",
      "metadata": {
        "id": "view-in-github",
        "colab_type": "text"
      },
      "source": [
        "<a href=\"https://colab.research.google.com/github/phystopia/pyromat-thermodynamics/blob/main/cycle_refrigeration.ipynb\" target=\"_parent\"><img src=\"https://colab.research.google.com/assets/colab-badge.svg\" alt=\"Open In Colab\"/></a>"
      ]
    },
    {
      "cell_type": "code",
      "execution_count": null,
      "id": "9235a206-8687-481b-abd7-11c28d8e3e99",
      "metadata": {
        "id": "9235a206-8687-481b-abd7-11c28d8e3e99"
      },
      "outputs": [],
      "source": [
        "import numpy as np\n",
        "import matplotlib.pyplot as plt"
      ]
    },
    {
      "cell_type": "markdown",
      "id": "ac8d33cc-1e32-4fae-8cf7-7fc68c56459d",
      "metadata": {
        "id": "ac8d33cc-1e32-4fae-8cf7-7fc68c56459d"
      },
      "source": [
        "# Cycle - Refrigerators & Heat Pumps"
      ]
    },
    {
      "cell_type": "markdown",
      "id": "a167ed7d-2a7e-495a-96f9-b127c86bb54f",
      "metadata": {
        "id": "a167ed7d-2a7e-495a-96f9-b127c86bb54f"
      },
      "source": [
        "Nitrogen $(N_2)$ gas in a piston–cylinder assembly undergoes a thermodynamic cycle that starts in state *1* with $P_1 = 100 \\, \\mathrm{kPa}$ and $\\upsilon_1 = 0,5995 \\, \\mathrm{\\frac{m^3}{kg}}$ and continues in the following way: <br>\n",
        "**Process 1➛2:** polytropic compression $\\left( P \\cdot \\upsilon^n = \\mathrm{constant} \\right)$ with $n=1.399462$, until $P_2 = 400 \\, \\mathrm{kPa}$. <br>\n",
        "**Process 2➛3:** isochoric depressurization  $\\left( \\upsilon = \\upsilon_2 \\right)$ from $P_2$ to $P_3 = P_1$. <br>\n",
        "**Process 3➛1:** isobaric expansion $\\left( P = P_1 \\right)$ from $\\upsilon_3$ to $\\upsilon_1$."
      ]
    },
    {
      "cell_type": "markdown",
      "id": "501ecec8-cdc9-4dd7-8ee5-82f85c560ae5",
      "metadata": {
        "id": "501ecec8-cdc9-4dd7-8ee5-82f85c560ae5"
      },
      "source": [
        "## Gas Data and Initial Values of the Problem"
      ]
    },
    {
      "cell_type": "markdown",
      "id": "6aa7d149-a59f-49f9-8708-55a308f51ad3",
      "metadata": {
        "id": "6aa7d149-a59f-49f9-8708-55a308f51ad3"
      },
      "source": [
        "**Gas constant**"
      ]
    },
    {
      "cell_type": "code",
      "execution_count": null,
      "id": "40828bb6-5d75-49eb-b29b-778c27e76951",
      "metadata": {
        "id": "40828bb6-5d75-49eb-b29b-778c27e76951"
      },
      "outputs": [],
      "source": [
        "R_n2 = 0.2968"
      ]
    },
    {
      "cell_type": "markdown",
      "id": "786d6861-2a1b-4ba1-86cb-d35fa9d7525d",
      "metadata": {
        "id": "786d6861-2a1b-4ba1-86cb-d35fa9d7525d"
      },
      "source": [
        "**Specific heat @ constant volume**"
      ]
    },
    {
      "cell_type": "code",
      "execution_count": null,
      "id": "48b2a70e-9d92-4677-98c7-c50ab2b17249",
      "metadata": {
        "id": "48b2a70e-9d92-4677-98c7-c50ab2b17249"
      },
      "outputs": [],
      "source": [
        "cv_n2 = 0.743"
      ]
    },
    {
      "cell_type": "markdown",
      "id": "b13122ca-02df-435d-8d8f-35ebcf843bb4",
      "metadata": {
        "id": "b13122ca-02df-435d-8d8f-35ebcf843bb4"
      },
      "source": [
        "**Polytropic exponent** "
      ]
    },
    {
      "cell_type": "code",
      "execution_count": null,
      "id": "ec0deba9-baf5-4f7c-90cf-9228755322ce",
      "metadata": {
        "id": "ec0deba9-baf5-4f7c-90cf-9228755322ce"
      },
      "outputs": [],
      "source": [
        "n = 1.399462"
      ]
    },
    {
      "cell_type": "markdown",
      "id": "f9593508-43c7-40b6-8475-29fe02b42f79",
      "metadata": {
        "id": "f9593508-43c7-40b6-8475-29fe02b42f79"
      },
      "source": [
        "**Initial Values:** <br>\n",
        "The given data are the initial pressure $(P_1)$ and specific volume $(\\upsilon_1)$, as well as the pressure at state 2 $(P_2)$."
      ]
    },
    {
      "cell_type": "code",
      "execution_count": null,
      "id": "2b5528cd-f745-4ce1-acca-629270956765",
      "metadata": {
        "id": "2b5528cd-f745-4ce1-acca-629270956765",
        "outputId": "63f9ceaa-51e2-4fbc-8f01-9ac824014b20"
      },
      "outputs": [
        {
          "name": "stdout",
          "output_type": "stream",
          "text": [
            "P1: 100 kPa\n"
          ]
        }
      ],
      "source": [
        "P1 = 100 # kPa\n",
        "print('P1:', P1,'kPa')"
      ]
    },
    {
      "cell_type": "code",
      "execution_count": null,
      "id": "122d71cb-a8d7-4c57-b49f-6bc9d00d0c12",
      "metadata": {
        "id": "122d71cb-a8d7-4c57-b49f-6bc9d00d0c12",
        "outputId": "1a88cb8c-8167-4055-c69c-c23a07f73b66"
      },
      "outputs": [
        {
          "name": "stdout",
          "output_type": "stream",
          "text": [
            "v1: 0.5995 m³/kg\n"
          ]
        }
      ],
      "source": [
        "v1 = 0.5995 # m³/kg\n",
        "print('v1:', v1,'m³/kg')"
      ]
    },
    {
      "cell_type": "code",
      "execution_count": null,
      "id": "dcca8a01-e035-4749-bbbd-9f24aa16ca74",
      "metadata": {
        "id": "dcca8a01-e035-4749-bbbd-9f24aa16ca74",
        "outputId": "26723eaa-12c0-4d36-c45c-47979c9785f8"
      },
      "outputs": [
        {
          "name": "stdout",
          "output_type": "stream",
          "text": [
            "P2: 400 kPa\n"
          ]
        }
      ],
      "source": [
        "P2 = 400 # kPa\n",
        "print('P2:', P2,'kPa')"
      ]
    },
    {
      "cell_type": "markdown",
      "id": "9490922b-e243-492d-b16d-1196e656584a",
      "metadata": {
        "id": "9490922b-e243-492d-b16d-1196e656584a"
      },
      "source": [
        "## States"
      ]
    },
    {
      "cell_type": "markdown",
      "id": "93e78300-a4b0-4787-b017-f1e5ae96f2e6",
      "metadata": {
        "id": "93e78300-a4b0-4787-b017-f1e5ae96f2e6"
      },
      "source": [
        "### State 1"
      ]
    },
    {
      "cell_type": "markdown",
      "id": "8b38cf2c-93c8-43f6-9da7-d80a02f0873d",
      "metadata": {
        "id": "8b38cf2c-93c8-43f6-9da7-d80a02f0873d"
      },
      "source": [
        "$$ P_1 \\, \\upsilon_1 = R \\, T $$ <br>\n",
        "$$ T = \\frac{P_1 \\, \\upsilon_1}{R_{_{N_2}}} $$"
      ]
    },
    {
      "cell_type": "code",
      "execution_count": null,
      "id": "31611ad6-cf56-40a5-a53f-717657f8eae3",
      "metadata": {
        "id": "31611ad6-cf56-40a5-a53f-717657f8eae3",
        "outputId": "c52afd5a-a91b-490b-f2c3-1d5845731330"
      },
      "outputs": [
        {
          "name": "stdout",
          "output_type": "stream",
          "text": [
            "T1: 202.0 K\n"
          ]
        }
      ],
      "source": [
        "T1 = P1 * v1 / R_n2\n",
        "print('T1:', np.round(T1,1),'K')"
      ]
    },
    {
      "cell_type": "markdown",
      "id": "01829941-e98a-499a-a98c-92f50904dd49",
      "metadata": {
        "id": "01829941-e98a-499a-a98c-92f50904dd49"
      },
      "source": [
        "### State 2"
      ]
    },
    {
      "cell_type": "markdown",
      "id": "047ed3f1-ca76-4513-8e76-27cd44d7d954",
      "metadata": {
        "id": "047ed3f1-ca76-4513-8e76-27cd44d7d954"
      },
      "source": [
        "$$ \\upsilon_2 = \\upsilon_1 \\; \\left( \\frac{P_1}{P_2} \\right)^{\\frac{1}{n}} $$"
      ]
    },
    {
      "cell_type": "code",
      "execution_count": null,
      "id": "4b5ade97-c635-45b0-aec2-f293f2c21177",
      "metadata": {
        "id": "4b5ade97-c635-45b0-aec2-f293f2c21177",
        "outputId": "03f1d951-5d1f-41e2-a2dd-f3fa64ab7e96"
      },
      "outputs": [
        {
          "name": "stdout",
          "output_type": "stream",
          "text": [
            "v2: 0.2226 m³/kg\n"
          ]
        }
      ],
      "source": [
        "v2 = v1 * np.power(P1/P2,1/n)\n",
        "print('v2:', np.round(v2,4), 'm³/kg')"
      ]
    },
    {
      "cell_type": "markdown",
      "id": "8bae22cd-7c1a-460d-8d06-d6e895df2a76",
      "metadata": {
        "id": "8bae22cd-7c1a-460d-8d06-d6e895df2a76"
      },
      "source": [
        "$$ T_2 = \\frac{P_2 \\, \\upsilon_2}{R_{_{N_2}}} $$"
      ]
    },
    {
      "cell_type": "code",
      "execution_count": null,
      "id": "04a257e4-d1a1-4a16-a572-a81075c802ad",
      "metadata": {
        "id": "04a257e4-d1a1-4a16-a572-a81075c802ad",
        "outputId": "d7ff6cc1-6a78-403e-e07c-2c9f46148907"
      },
      "outputs": [
        {
          "name": "stdout",
          "output_type": "stream",
          "text": [
            "T2: 300.04 K\n"
          ]
        }
      ],
      "source": [
        "T2 = P2 * v2 / R_n2\n",
        "print('T2:', np.round(T2,2),'K')"
      ]
    },
    {
      "cell_type": "markdown",
      "id": "4be3ff5d-1811-476a-9d4f-2905d9bd68e6",
      "metadata": {
        "id": "4be3ff5d-1811-476a-9d4f-2905d9bd68e6"
      },
      "source": [
        "### State 3"
      ]
    },
    {
      "cell_type": "code",
      "execution_count": null,
      "id": "f8640ce2-990e-4a2c-9f23-0b1f7ca2455c",
      "metadata": {
        "id": "f8640ce2-990e-4a2c-9f23-0b1f7ca2455c",
        "outputId": "700ef85e-9fdd-4ffd-fcd2-fba2c3f2f3a0"
      },
      "outputs": [
        {
          "name": "stdout",
          "output_type": "stream",
          "text": [
            "P3: 100 kPa\n"
          ]
        }
      ],
      "source": [
        "P3 = P1\n",
        "print('P3:', P3,'kPa')"
      ]
    },
    {
      "cell_type": "code",
      "execution_count": null,
      "id": "1d684273-18e7-426a-9e6c-d14a089d7c00",
      "metadata": {
        "id": "1d684273-18e7-426a-9e6c-d14a089d7c00",
        "outputId": "eefa4373-534d-43b4-fa09-29cb0f490d83"
      },
      "outputs": [
        {
          "name": "stdout",
          "output_type": "stream",
          "text": [
            "v2: 0.2226 m³/kg\n"
          ]
        }
      ],
      "source": [
        "v3 = v2\n",
        "print('v2:', np.round(v3,4), 'm³/kg')"
      ]
    },
    {
      "cell_type": "markdown",
      "id": "7a9f51cd-28fa-4b11-b1c7-a2c940d5d074",
      "metadata": {
        "id": "7a9f51cd-28fa-4b11-b1c7-a2c940d5d074"
      },
      "source": [
        "$$ T_3 = \\frac{P_3 \\, \\upsilon_3}{R_{_{N_2}}} $$"
      ]
    },
    {
      "cell_type": "code",
      "execution_count": null,
      "id": "f186cc06-b07b-4a8d-be8d-10d7cc8ca09f",
      "metadata": {
        "id": "f186cc06-b07b-4a8d-be8d-10d7cc8ca09f",
        "outputId": "4a3a1b84-bf7b-4dd6-9e3e-0f4718f2693f"
      },
      "outputs": [
        {
          "name": "stdout",
          "output_type": "stream",
          "text": [
            "T3: 75.01 K\n"
          ]
        }
      ],
      "source": [
        "T3 = P3 * v3 / R_n2\n",
        "print('T3:', np.round(T3,2),'K')"
      ]
    },
    {
      "cell_type": "markdown",
      "id": "dfe4e026-9a20-44fe-a7b8-f6b0ff21bcac",
      "metadata": {
        "tags": [],
        "id": "dfe4e026-9a20-44fe-a7b8-f6b0ff21bcac"
      },
      "source": [
        "## Processes"
      ]
    },
    {
      "cell_type": "markdown",
      "id": "0a4001ce-4550-427f-abba-c6e6b4827a9b",
      "metadata": {
        "jp-MarkdownHeadingCollapsed": true,
        "tags": [],
        "id": "0a4001ce-4550-427f-abba-c6e6b4827a9b"
      },
      "source": [
        "### Process *1* $\\rightarrow$ *2*: Polytropic compression"
      ]
    },
    {
      "cell_type": "markdown",
      "id": "cf0cc3c2-1152-439b-8817-38f12fbf5dde",
      "metadata": {
        "id": "cf0cc3c2-1152-439b-8817-38f12fbf5dde"
      },
      "source": [
        "**Specific work:**"
      ]
    },
    {
      "cell_type": "markdown",
      "id": "2367274e-1bc3-4771-8c3f-6a114d487c58",
      "metadata": {
        "id": "2367274e-1bc3-4771-8c3f-6a114d487c58"
      },
      "source": [
        "$$ w_{_{1 \\rightarrow 2}} = \\frac{P_2 \\, \\upsilon_2 - P_1 \\, \\upsilon_1}{1-n} $$"
      ]
    },
    {
      "cell_type": "code",
      "execution_count": null,
      "id": "5f8c4c23-31a5-4e5f-8046-4df804315a12",
      "metadata": {
        "id": "5f8c4c23-31a5-4e5f-8046-4df804315a12",
        "outputId": "2b09fcc7-39a8-4a83-eb9e-f0856666ecab"
      },
      "outputs": [
        {
          "name": "stdout",
          "output_type": "stream",
          "text": [
            "w12: -72.852 kJ/kg\n"
          ]
        }
      ],
      "source": [
        "n=1.399462\n",
        "w12 = (P2 * v2 - P1 * v1 ) / (1 - n)\n",
        "print('w12:', np.round(w12,3), 'kJ/kg')"
      ]
    },
    {
      "cell_type": "markdown",
      "id": "89456db4-7e56-4017-98e1-deaa58ff1244",
      "metadata": {
        "id": "89456db4-7e56-4017-98e1-deaa58ff1244"
      },
      "source": [
        "**Specific change in internal energy:**"
      ]
    },
    {
      "cell_type": "markdown",
      "id": "3ece3cae-9f74-4015-b72c-0caf8d2cc5e5",
      "metadata": {
        "id": "3ece3cae-9f74-4015-b72c-0caf8d2cc5e5"
      },
      "source": [
        "$$ \\Delta u_{_{1 \\rightarrow 2}} = c_{v_{_{N_2}}} \\, \\left( T_2 - T_1 \\right) $$"
      ]
    },
    {
      "cell_type": "code",
      "execution_count": null,
      "id": "46a9c1fd-ecf7-4e7b-b0cb-56fd0df94109",
      "metadata": {
        "id": "46a9c1fd-ecf7-4e7b-b0cb-56fd0df94109",
        "outputId": "74f13198-fede-4140-fc21-283f15ad5094"
      },
      "outputs": [
        {
          "name": "stdout",
          "output_type": "stream",
          "text": [
            "u12: 72.852 kJ/kg\n"
          ]
        }
      ],
      "source": [
        "u12 = cv_n2 * (T2 - T1)\n",
        "print('u12:', np.round(u12,3), 'kJ/kg')"
      ]
    },
    {
      "cell_type": "markdown",
      "id": "c3d54fcd-bece-4bf1-b89d-156cdcffd56d",
      "metadata": {
        "id": "c3d54fcd-bece-4bf1-b89d-156cdcffd56d"
      },
      "source": [
        "**Specific heat:**"
      ]
    },
    {
      "cell_type": "markdown",
      "id": "0a716de9-ee8a-4cf1-9602-9a61851c4de6",
      "metadata": {
        "id": "0a716de9-ee8a-4cf1-9602-9a61851c4de6"
      },
      "source": [
        "$$ q_{_{1 \\rightarrow 2}} = \\Delta u_{_{1 \\rightarrow 2}} + w_{_{1 \\rightarrow 2}} $$"
      ]
    },
    {
      "cell_type": "code",
      "execution_count": null,
      "id": "f6c2fd6a-e39b-4956-995d-0ccef949fcb3",
      "metadata": {
        "id": "f6c2fd6a-e39b-4956-995d-0ccef949fcb3",
        "outputId": "60ec2fda-cdbf-4583-ab4f-a49dfc2a7ca2"
      },
      "outputs": [
        {
          "name": "stdout",
          "output_type": "stream",
          "text": [
            "q12: 0.0 kJ/kg\n"
          ]
        }
      ],
      "source": [
        "q12 = u12 + w12\n",
        "print('q12:', np.round(q12,3), 'kJ/kg')"
      ]
    },
    {
      "cell_type": "markdown",
      "id": "5593f248-6b66-4e50-82e5-a0d071cc1323",
      "metadata": {
        "id": "5593f248-6b66-4e50-82e5-a0d071cc1323"
      },
      "source": [
        "The fact that $q_{_{1 \\rightarrow 2}} = 0$ means that this process is **adiabatic**, *i. e.* the system does not interchange heat with the environment."
      ]
    },
    {
      "cell_type": "markdown",
      "id": "0ea694f8-e76f-437f-83f4-6742c8acb08b",
      "metadata": {
        "jp-MarkdownHeadingCollapsed": true,
        "tags": [],
        "id": "0ea694f8-e76f-437f-83f4-6742c8acb08b"
      },
      "source": [
        "### Proceso 2 $\\rightarrow$ 3: Isochoric depressurization"
      ]
    },
    {
      "cell_type": "markdown",
      "id": "83c3e075-b1be-4ef3-8906-0f98628a3e5c",
      "metadata": {
        "id": "83c3e075-b1be-4ef3-8906-0f98628a3e5c"
      },
      "source": [
        "**Specific work:**"
      ]
    },
    {
      "cell_type": "markdown",
      "id": "1d269da2-25a2-45aa-ab94-57304e92e371",
      "metadata": {
        "id": "1d269da2-25a2-45aa-ab94-57304e92e371"
      },
      "source": [
        "$$ w_{_{2 \\rightarrow 3}} = 0 $$"
      ]
    },
    {
      "cell_type": "code",
      "execution_count": null,
      "id": "88a1a9b5-8497-47f4-a635-da942e0e1c1e",
      "metadata": {
        "id": "88a1a9b5-8497-47f4-a635-da942e0e1c1e",
        "outputId": "504dbcd9-00a3-40f8-9e90-3699660c70a0"
      },
      "outputs": [
        {
          "name": "stdout",
          "output_type": "stream",
          "text": [
            "w23: 0 kJ/kg\n"
          ]
        }
      ],
      "source": [
        "w23 = 0\n",
        "print('w23:', np.round(w23,3), 'kJ/kg')"
      ]
    },
    {
      "cell_type": "markdown",
      "id": "c961b32f-f9f6-494a-871f-f5a3973fe708",
      "metadata": {
        "id": "c961b32f-f9f6-494a-871f-f5a3973fe708"
      },
      "source": [
        "**Change in specific internal energy:**"
      ]
    },
    {
      "cell_type": "markdown",
      "id": "3e5a2dcf-8ad6-4084-96bd-16eb21a928ed",
      "metadata": {
        "id": "3e5a2dcf-8ad6-4084-96bd-16eb21a928ed"
      },
      "source": [
        "$$ \\Delta u_{_{2 \\rightarrow 3}} = c_{v_{_{N_2}}} \\, \\left( T_3 - T_2 \\right) $$"
      ]
    },
    {
      "cell_type": "code",
      "execution_count": null,
      "id": "acdf20ad-1bee-4a43-8367-aa432a7e7198",
      "metadata": {
        "id": "acdf20ad-1bee-4a43-8367-aa432a7e7198",
        "outputId": "d6ec83a8-5f22-4553-b0c4-077a4e439841"
      },
      "outputs": [
        {
          "name": "stdout",
          "output_type": "stream",
          "text": [
            "u23: -167.197 kJ/kg\n"
          ]
        }
      ],
      "source": [
        "u23 = cv_n2 * (T3 - T2)\n",
        "print('u23:', np.round(u23,3), 'kJ/kg')"
      ]
    },
    {
      "cell_type": "markdown",
      "id": "cd05e47a-5a00-4e4c-8e17-3a29b7b22007",
      "metadata": {
        "id": "cd05e47a-5a00-4e4c-8e17-3a29b7b22007"
      },
      "source": [
        "$$ q_{_{2 \\rightarrow 3}} = \\Delta u_{_{2 \\rightarrow 3}} + w_{_{2 \\rightarrow 3}} $$"
      ]
    },
    {
      "cell_type": "code",
      "execution_count": null,
      "id": "41b191b1-2bc5-40f1-a52e-9d672a284e31",
      "metadata": {
        "id": "41b191b1-2bc5-40f1-a52e-9d672a284e31",
        "outputId": "1f4790bc-700a-4489-8973-5e90098f628c"
      },
      "outputs": [
        {
          "name": "stdout",
          "output_type": "stream",
          "text": [
            "q23: -167.197 kJ/kg\n"
          ]
        }
      ],
      "source": [
        "q23 = u23 + w23\n",
        "print('q23:', np.round(q23,3), 'kJ/kg')"
      ]
    },
    {
      "cell_type": "markdown",
      "id": "75d604d0-b1d4-410e-b99b-e33fefc9233a",
      "metadata": {
        "jp-MarkdownHeadingCollapsed": true,
        "tags": [],
        "id": "75d604d0-b1d4-410e-b99b-e33fefc9233a"
      },
      "source": [
        "### Process 3 $\\rightarrow$ 1: Isobaric Expansion"
      ]
    },
    {
      "cell_type": "markdown",
      "id": "05581de1-1d97-469b-bf6a-94893129eba0",
      "metadata": {
        "id": "05581de1-1d97-469b-bf6a-94893129eba0"
      },
      "source": [
        "**Specific work:**"
      ]
    },
    {
      "cell_type": "markdown",
      "id": "adc8a38b-ba52-49b5-8f63-5169a543c1d8",
      "metadata": {
        "id": "adc8a38b-ba52-49b5-8f63-5169a543c1d8"
      },
      "source": [
        "$$ w_{_{3 \\rightarrow 1}} = P_3 \\cdot \\left(\\upsilon_1 - \\upsilon_3 \\right) $$"
      ]
    },
    {
      "cell_type": "code",
      "execution_count": null,
      "id": "e6389dd0-0711-48a9-a263-a8a691e478d2",
      "metadata": {
        "id": "e6389dd0-0711-48a9-a263-a8a691e478d2",
        "outputId": "62e2a647-d2e7-49f3-e0fc-91436f2a7dc2"
      },
      "outputs": [
        {
          "name": "stdout",
          "output_type": "stream",
          "text": [
            "w31: 37.687 kJ/kg\n"
          ]
        }
      ],
      "source": [
        "w31 = P3 * (v1 - v3)\n",
        "print('w31:', np.round(w31,3), 'kJ/kg')"
      ]
    },
    {
      "cell_type": "markdown",
      "id": "aec4efa8-f4a9-4ce9-99b6-1c0613299bb0",
      "metadata": {
        "id": "aec4efa8-f4a9-4ce9-99b6-1c0613299bb0"
      },
      "source": [
        "**Specific change in internal energy:**"
      ]
    },
    {
      "cell_type": "markdown",
      "id": "cc9d87b1-e63e-4629-af2e-4762d8398630",
      "metadata": {
        "id": "cc9d87b1-e63e-4629-af2e-4762d8398630"
      },
      "source": [
        "$$ \\Delta u_{_{3 \\rightarrow 1}} = c_{v_{_{N_2}}} \\, \\left( T_1 - T_3 \\right) $$"
      ]
    },
    {
      "cell_type": "code",
      "execution_count": null,
      "id": "92785f0b-dba7-4442-873a-1ba90b8d6060",
      "metadata": {
        "id": "92785f0b-dba7-4442-873a-1ba90b8d6060",
        "outputId": "6271e190-1f8d-4df3-b81e-5aec15312e35"
      },
      "outputs": [
        {
          "name": "stdout",
          "output_type": "stream",
          "text": [
            "u31: 94.345 kJ/kg\n"
          ]
        }
      ],
      "source": [
        "u31 = cv_n2 * (T1 - T3)\n",
        "print('u31:', np.round(u31,3), 'kJ/kg')"
      ]
    },
    {
      "cell_type": "markdown",
      "id": "8d735099-6b9e-4074-bc33-9a06d9e4465c",
      "metadata": {
        "id": "8d735099-6b9e-4074-bc33-9a06d9e4465c"
      },
      "source": [
        "**Specific heat:**"
      ]
    },
    {
      "cell_type": "markdown",
      "id": "3ee8dcfe-52e2-4b09-89f0-bb6afdd5cefc",
      "metadata": {
        "id": "3ee8dcfe-52e2-4b09-89f0-bb6afdd5cefc"
      },
      "source": [
        "$$ q_{_{3 \\rightarrow 1}} = \\Delta u_{_{3 \\rightarrow 1}} + w_{_{3 \\rightarrow 1}} $$"
      ]
    },
    {
      "cell_type": "code",
      "execution_count": null,
      "id": "6b11cfed-096b-4271-bbae-be25ad17f160",
      "metadata": {
        "id": "6b11cfed-096b-4271-bbae-be25ad17f160",
        "outputId": "928a2f0d-2cde-426a-9b65-a4ed4ca87f14"
      },
      "outputs": [
        {
          "name": "stdout",
          "output_type": "stream",
          "text": [
            "q31: 132.032 kJ/kg\n"
          ]
        }
      ],
      "source": [
        "q31 = u31 + w31\n",
        "print('q31:', np.round(q31,3), 'kJ/kg')"
      ]
    },
    {
      "cell_type": "markdown",
      "id": "119eb49b-5631-41f7-8c96-9b3528b74495",
      "metadata": {
        "jp-MarkdownHeadingCollapsed": true,
        "tags": [],
        "id": "119eb49b-5631-41f7-8c96-9b3528b74495"
      },
      "source": [
        "## Diagrama P-$\\upsilon$"
      ]
    },
    {
      "cell_type": "code",
      "execution_count": null,
      "id": "45366af9-3ed6-485f-a13e-4893954f986e",
      "metadata": {
        "id": "45366af9-3ed6-485f-a13e-4893954f986e"
      },
      "outputs": [],
      "source": [
        "points = 100"
      ]
    },
    {
      "cell_type": "code",
      "execution_count": null,
      "id": "0408f7a5-8f8b-4930-a2ad-53eeef0d4f98",
      "metadata": {
        "id": "0408f7a5-8f8b-4930-a2ad-53eeef0d4f98"
      },
      "outputs": [],
      "source": [
        "v = np.linspace(v1, v2, points)\n",
        "# print('specific volume:', v, 'm³')"
      ]
    },
    {
      "cell_type": "code",
      "execution_count": null,
      "id": "6c28dce8-84c9-490b-8ec0-ce385ffcf6c0",
      "metadata": {
        "id": "6c28dce8-84c9-490b-8ec0-ce385ffcf6c0"
      },
      "outputs": [],
      "source": [
        "P12 = P1 * np.power( v1/v, n)\n",
        "# print('Pressure:', np.round(P12,2), 'kPa')"
      ]
    },
    {
      "cell_type": "code",
      "execution_count": null,
      "id": "8961f3e6-eeed-427a-a9e5-0a8298e187c7",
      "metadata": {
        "id": "8961f3e6-eeed-427a-a9e5-0a8298e187c7"
      },
      "outputs": [],
      "source": [
        "P31 = P3 * np.power(v,0)\n",
        "# print('Pressure:', np.round(P31,2), 'kPa')"
      ]
    },
    {
      "cell_type": "code",
      "execution_count": null,
      "id": "94d4e58d-6640-45fb-b027-ca7366949b61",
      "metadata": {
        "id": "94d4e58d-6640-45fb-b027-ca7366949b61"
      },
      "outputs": [],
      "source": [
        "v23 = v2 * np.power(P12,0)\n",
        "# print('specific volume:', v23, 'm³')"
      ]
    },
    {
      "cell_type": "code",
      "execution_count": null,
      "id": "c29911a5-a4f5-4325-8cba-06cb4ae36c8e",
      "metadata": {
        "id": "c29911a5-a4f5-4325-8cba-06cb4ae36c8e",
        "outputId": "d53fd8e1-0e4c-4da9-e0ae-5aac6b3aeb42"
      },
      "outputs": [
        {
          "data": {
            "image/png": "[encoded data removed]",
            "text/plain": [
              "<Figure size 2000x1000 with 1 Axes>"
            ]
          },
          "metadata": {},
          "output_type": "display_data"
        }
      ],
      "source": [
        "font = {'family' : 'Helvetica',\n",
        "        'size'   : 22}\n",
        "\n",
        "fig, ax = plt.subplots(figsize = (20,10))\n",
        "\n",
        "plt.title(r'$P - \\upsilon \\; Diagram$')\n",
        "plt.rc('font', **font)\n",
        "\n",
        "plt.plot(  v,P12, 'g--', linewidth = 1.5, label = 'Adiabatic')\n",
        "plt.plot(v23,P12, 'b--', linewidth = 1.5, label = 'Isochoric')\n",
        "plt.plot(  v,P31, 'r--', linewidth = 1.5, label = 'Isobaric')\n",
        "\n",
        "plt.plot(v1, P1, 'go')\n",
        "plt.plot(v2, P2, 'go')\n",
        "plt.plot(v3, P3, 'bo')\n",
        "\n",
        "ax.text(v1 + 0.001, P1, 1, size = 16)\n",
        "ax.text(v2 - 0.005, P2, 2, size = 16)\n",
        "ax.text(v3 - 0.005, P3, 3, size = 16)\n",
        "\n",
        "ax.text(v2 + 0.1   , P1 + (P2-P1)/2, 'q = 0', size=16) # 1-2\n",
        "ax.text(v2 + 0.003 , P1 + (P2-P1)/2, 'q = -167,2 kJ/kg', size=16) # 2-3\n",
        "ax.text(v2 + 0.1   , P1 + 8        , 'q = +132,0 kJ/kg', size=16) # 3-1\n",
        "\n",
        "plt.ylabel(r'Pressure (kPa)')\n",
        "plt.xlabel(r'Specific volume $\\left( \\frac{m^3}{kg} \\right)$')\n",
        "\n",
        "plt.legend()\n",
        "plt.show()"
      ]
    },
    {
      "cell_type": "markdown",
      "id": "dca9b21a-f38b-4381-bdbe-7828656e680a",
      "metadata": {
        "tags": [],
        "id": "dca9b21a-f38b-4381-bdbe-7828656e680a"
      },
      "source": [
        "## Cycle"
      ]
    },
    {
      "cell_type": "markdown",
      "id": "4793605c-45d5-4e02-b40f-50faf8d6dd5b",
      "metadata": {
        "id": "4793605c-45d5-4e02-b40f-50faf8d6dd5b"
      },
      "source": [
        "### Energy Balance"
      ]
    },
    {
      "cell_type": "markdown",
      "id": "eb0c9d52-2e24-4753-a8fb-9d107e8b1755",
      "metadata": {
        "id": "eb0c9d52-2e24-4753-a8fb-9d107e8b1755"
      },
      "source": [
        "|      Process      |     w (kJ/kg)        |     $\\Delta$u (kJ/kg)       |      q (kJ/kg)       |\n",
        "| ----------------- | -------------------- | --------------------------- | -------------------- |\n",
        "| 1 $\\rightarrow$ 2 |       -72,9          |            72,9             |         0,0          |\n",
        "| 2 $\\rightarrow$ 3 |         0,0          |          -167,2             |      -167,2          |\n",
        "| 3 $\\rightarrow$ 1 |        37,7          |            94,3             |       132,0          |\n",
        "|     **Cycle**     |       -35,2          |            0,0              |       -35,2          |"
      ]
    },
    {
      "cell_type": "markdown",
      "id": "5af50db5-f634-4ab6-940f-cb34a03f05b7",
      "metadata": {
        "id": "5af50db5-f634-4ab6-940f-cb34a03f05b7"
      },
      "source": [
        "### Net specific work "
      ]
    },
    {
      "cell_type": "markdown",
      "id": "e86bb89b-a5fa-4d0b-9b5d-e0c86ca8b850",
      "metadata": {
        "id": "e86bb89b-a5fa-4d0b-9b5d-e0c86ca8b850"
      },
      "source": [
        "$$ w_{cycle} = \\sum w $$"
      ]
    },
    {
      "cell_type": "code",
      "execution_count": null,
      "id": "2da27db2-d32b-4ac8-8461-5e1400e84097",
      "metadata": {
        "id": "2da27db2-d32b-4ac8-8461-5e1400e84097",
        "outputId": "95ad528f-eef0-4ac7-caef-53f2fe56ffed"
      },
      "outputs": [
        {
          "name": "stdout",
          "output_type": "stream",
          "text": [
            "w_net: -35.164 kJ/kg\n"
          ]
        }
      ],
      "source": [
        "w_net = w12 + w23 + w31\n",
        "print('w_net:', np.round(w_net,3), 'kJ/kg')"
      ]
    },
    {
      "cell_type": "markdown",
      "id": "75f44d77-62d9-44c8-b8a2-04aaa2e652af",
      "metadata": {
        "id": "75f44d77-62d9-44c8-b8a2-04aaa2e652af"
      },
      "source": [
        "### Heat Taken from the Cold Reservoir"
      ]
    },
    {
      "cell_type": "markdown",
      "id": "f821c61b-116b-41ae-a27f-27d38f8c52f9",
      "metadata": {
        "id": "f821c61b-116b-41ae-a27f-27d38f8c52f9"
      },
      "source": [
        "$$ q_{in} = q_{_{3 \\rightarrow 1}} $$"
      ]
    },
    {
      "cell_type": "code",
      "execution_count": null,
      "id": "f0f62844-e7a5-433d-b0aa-5f46622f017b",
      "metadata": {
        "id": "f0f62844-e7a5-433d-b0aa-5f46622f017b",
        "outputId": "a751b321-8116-4012-83f1-d25abd9e6cae"
      },
      "outputs": [
        {
          "name": "stdout",
          "output_type": "stream",
          "text": [
            "q_in: 132.032 kJ/kg\n"
          ]
        }
      ],
      "source": [
        "q_in = q31\n",
        "print('q_in:', np.round(q_in,3), 'kJ/kg')"
      ]
    },
    {
      "cell_type": "markdown",
      "id": "fd5f42c4-67d8-46d2-b59c-ed50abfa546c",
      "metadata": {
        "id": "fd5f42c4-67d8-46d2-b59c-ed50abfa546c"
      },
      "source": [
        "### Heat Rejected to the Hot Reservoir"
      ]
    },
    {
      "cell_type": "markdown",
      "id": "1e7cc675-2c71-4809-81a2-2f78202ba613",
      "metadata": {
        "id": "1e7cc675-2c71-4809-81a2-2f78202ba613"
      },
      "source": [
        "$$ q_{out} = q_{_{2 \\rightarrow 3}} $$"
      ]
    },
    {
      "cell_type": "code",
      "execution_count": null,
      "id": "29776a21-ae19-4c2e-acbe-c96ca171ea22",
      "metadata": {
        "id": "29776a21-ae19-4c2e-acbe-c96ca171ea22",
        "outputId": "0c6c8862-d2dc-4d3a-f7ef-f8318642a36d"
      },
      "outputs": [
        {
          "name": "stdout",
          "output_type": "stream",
          "text": [
            "q_out: -167.197 kJ/kg\n"
          ]
        }
      ],
      "source": [
        "q_out = q23\n",
        "print('q_out:', np.round(q_out,3), 'kJ/kg')"
      ]
    },
    {
      "cell_type": "markdown",
      "id": "0b5458b1-cfc7-47a2-af5f-6a897d3ce403",
      "metadata": {
        "id": "0b5458b1-cfc7-47a2-af5f-6a897d3ce403"
      },
      "source": [
        "$$ T_C = T_3 $$"
      ]
    },
    {
      "cell_type": "markdown",
      "id": "7ab938c5-59a1-496e-8d2d-dc0357d9529f",
      "metadata": {
        "id": "7ab938c5-59a1-496e-8d2d-dc0357d9529f"
      },
      "source": [
        "For cycles of this type, $q_{in}$ is the energy transferred by heat into the system undergoing the cycle from the cold body, and $q_{out}$ is the energy discharged by heat transfer from the system to the hot body. To accomplish these energy transfers requires a net work input, $w_{cycle}$. "
      ]
    },
    {
      "cell_type": "markdown",
      "id": "2bdabb79-5237-4ba7-afa2-2f97462f4999",
      "metadata": {
        "id": "2bdabb79-5237-4ba7-afa2-2f97462f4999"
      },
      "source": [
        "The quantities $q_{in}$, $q_{out}$, and $w_{cycle}$ are related by the energy balance, which for refrigeration and heat pump cycles takes the form:"
      ]
    },
    {
      "cell_type": "markdown",
      "id": "0055e0ea-a421-46fa-ba76-76904046421a",
      "metadata": {
        "id": "0055e0ea-a421-46fa-ba76-76904046421a"
      },
      "source": [
        "$$ w_{cycle} = q_{out} - q_{in} $$"
      ]
    },
    {
      "cell_type": "markdown",
      "id": "bbbc5547-a2f6-47e5-8acc-73098e99a818",
      "metadata": {
        "id": "bbbc5547-a2f6-47e5-8acc-73098e99a818"
      },
      "source": [
        "## Refrigeration Cycle"
      ]
    },
    {
      "cell_type": "markdown",
      "id": "3370ce8f-4f2b-4194-aec9-9a2c707a0e8a",
      "metadata": {
        "id": "3370ce8f-4f2b-4194-aec9-9a2c707a0e8a"
      },
      "source": [
        "The objective of a refrigeration cycle is to cool a refrigerated space or to maintain the temperature within a dwelling or other building below that of the surroundings."
      ]
    },
    {
      "cell_type": "markdown",
      "id": "740b0a25-410e-46a7-842d-16ed5a190f91",
      "metadata": {
        "id": "740b0a25-410e-46a7-842d-16ed5a190f91"
      },
      "source": [
        "### Coefficient of Performance"
      ]
    },
    {
      "cell_type": "markdown",
      "id": "15cf4df4-fb54-44cc-85cc-8237a36e5d63",
      "metadata": {
        "id": "15cf4df4-fb54-44cc-85cc-8237a36e5d63"
      },
      "source": [
        "The performance of refrigeration cycles can be described as the ratio of the amount of energy received by the system undergoing the cycle from the cold body, $q_{in}$, to the net work into the system to accomplish this effect, $w_{cycle}$."
      ]
    },
    {
      "cell_type": "markdown",
      "id": "c47cc10b-cbfd-4c8e-93f9-d7a6b5f48366",
      "metadata": {
        "id": "c47cc10b-cbfd-4c8e-93f9-d7a6b5f48366"
      },
      "source": [
        "$$ CoP_{_R} = \\frac{\\mathrm{Desired} \\; \\mathrm{Output}}{\\mathrm{Required} \\; \\mathrm{Input}} = \\frac{q_{in}}{\\mid w_{cycle} \\mid} $$"
      ]
    },
    {
      "cell_type": "code",
      "execution_count": null,
      "id": "72197e8e-f1d0-45be-9371-0f6051f46251",
      "metadata": {
        "id": "72197e8e-f1d0-45be-9371-0f6051f46251",
        "outputId": "0e853fd7-ac82-4410-9f36-5eefe8e28ef6"
      },
      "outputs": [
        {
          "name": "stdout",
          "output_type": "stream",
          "text": [
            "COP_R = 3.755\n"
          ]
        }
      ],
      "source": [
        "cop_r = q_in / np.abs(w_net)\n",
        "print(\"COP_{_R} =\", np.round(cop_r,3))"
      ]
    },
    {
      "cell_type": "markdown",
      "id": "ac644d35-850b-4692-921e-a461b1662b96",
      "metadata": {
        "id": "ac644d35-850b-4692-921e-a461b1662b96"
      },
      "source": [
        "an alternative expression for $CoP_{_R}$ is obtained as:"
      ]
    },
    {
      "cell_type": "markdown",
      "id": "0f314d7d-0a9d-46df-a7dc-3cad354dde18",
      "metadata": {
        "id": "0f314d7d-0a9d-46df-a7dc-3cad354dde18"
      },
      "source": [
        "$$ CoP_{_R} = \\frac{q_{in}}{\\mid w_{net} \\mid} = \\frac{q_{in} }{\\mid q_{out} - q_{in} \\mid}= \\frac{1}{\\frac{\\mid q_{out} \\mid}{q_{in}} - 1}$$"
      ]
    },
    {
      "cell_type": "code",
      "execution_count": null,
      "id": "9470ab9a-7abd-4dae-b739-5db58fce541a",
      "metadata": {
        "id": "9470ab9a-7abd-4dae-b739-5db58fce541a",
        "outputId": "b239e9a5-30c8-457d-8f18-0e145103875f"
      },
      "outputs": [
        {
          "name": "stdout",
          "output_type": "stream",
          "text": [
            "COP_R = 3.755\n"
          ]
        }
      ],
      "source": [
        "cop_r = 1 / (np.abs(q_out)/q_in - 1)\n",
        "print(\"COP_R =\", np.round(cop_r,3))"
      ]
    },
    {
      "cell_type": "markdown",
      "id": "756e3725-5799-47e2-ad53-94dac7801515",
      "metadata": {
        "id": "756e3725-5799-47e2-ad53-94dac7801515"
      },
      "source": [
        "## Heat Pump Cycle"
      ]
    },
    {
      "cell_type": "markdown",
      "id": "a44f7dfc-f957-4570-a88c-196ba3b2cf4a",
      "metadata": {
        "id": "a44f7dfc-f957-4570-a88c-196ba3b2cf4a"
      },
      "source": [
        "The objective of a heat pump is to maintain the temperature within a dwelling or other building above that of the surroundings or to provide heating for certain industrial processes that occur at elevated temperatures."
      ]
    },
    {
      "cell_type": "markdown",
      "id": "90db1ab9-13f1-4733-8698-c6b462c60121",
      "metadata": {
        "id": "90db1ab9-13f1-4733-8698-c6b462c60121"
      },
      "source": [
        "### Coefficient of Performance"
      ]
    },
    {
      "cell_type": "markdown",
      "id": "3c0f9ae8-0262-4247-8496-a812b4fe7fe7",
      "metadata": {
        "id": "3c0f9ae8-0262-4247-8496-a812b4fe7fe7"
      },
      "source": [
        "The performance of heat pumps can be described as the ratio of the amount of energy discharged from the system undergoing the cycle to the hot body, $q_{out}$, to the net work into the system to accomplish this effect, $w_{cycle}$. "
      ]
    },
    {
      "cell_type": "markdown",
      "id": "0177b90d-1424-41f4-b0af-c327ed3287e4",
      "metadata": {
        "id": "0177b90d-1424-41f4-b0af-c327ed3287e4"
      },
      "source": [
        "$$ CoP_{_{HP}} = \\frac{\\mathrm{Desired} \\; \\mathrm{Output}}{\\mathrm{Required} \\; \\mathrm{Input}} = \\frac{q_{out}}{w_{cycle}} $$"
      ]
    },
    {
      "cell_type": "code",
      "execution_count": null,
      "id": "ccbe8927-41c6-4c98-87c8-4c60afb8dd50",
      "metadata": {
        "id": "ccbe8927-41c6-4c98-87c8-4c60afb8dd50",
        "outputId": "7fe5439e-ced8-4ad0-a0d5-40245b530bca"
      },
      "outputs": [
        {
          "name": "stdout",
          "output_type": "stream",
          "text": [
            "COP_hp = 4.755\n"
          ]
        }
      ],
      "source": [
        "cop_hp = q_out / w_net\n",
        "print(\"COP_hp =\", np.round(cop_hp,3))"
      ]
    },
    {
      "cell_type": "markdown",
      "id": "bf5d58ec-9f2a-45e9-bd7e-3175d496a3ca",
      "metadata": {
        "id": "bf5d58ec-9f2a-45e9-bd7e-3175d496a3ca"
      },
      "source": [
        "An alternative expression for this coefficient of performance is:"
      ]
    },
    {
      "cell_type": "markdown",
      "id": "a8a32c5b-1735-4aff-bdce-612de8cef108",
      "metadata": {
        "id": "a8a32c5b-1735-4aff-bdce-612de8cef108"
      },
      "source": [
        "$$ CoP_{_{HP}} = \\frac{q_{out}}{w_{net}} = \\frac{q_{out} }{q_{out} - q_{in}}= \\frac{1}{1 - \\frac{q_{in}}{\\mid q_{out} \\mid}}$$"
      ]
    },
    {
      "cell_type": "code",
      "execution_count": null,
      "id": "10e2fc78-7cc6-46e7-a1b4-945248986c1a",
      "metadata": {
        "id": "10e2fc78-7cc6-46e7-a1b4-945248986c1a",
        "outputId": "dc83fc2f-96ec-4405-c683-666a1adcb448"
      },
      "outputs": [
        {
          "name": "stdout",
          "output_type": "stream",
          "text": [
            "COP_hp = 4.755\n"
          ]
        }
      ],
      "source": [
        "cop_hp = 1 / (1 - q_in / np.abs(q_out))\n",
        "print(\"COP_hp =\", np.round(cop_hp,3))"
      ]
    },
    {
      "cell_type": "markdown",
      "id": "47921d00-e3c5-4a8b-b284-390d1814308a",
      "metadata": {
        "id": "47921d00-e3c5-4a8b-b284-390d1814308a"
      },
      "source": [
        "### Temperature of the Hot Reservoir (maximum temperature in the cycle)"
      ]
    },
    {
      "cell_type": "markdown",
      "id": "f8856b43-34be-48db-9342-d649d3b4b48b",
      "metadata": {
        "id": "f8856b43-34be-48db-9342-d649d3b4b48b"
      },
      "source": [
        "$$ T_H = T_1 $$"
      ]
    },
    {
      "cell_type": "code",
      "execution_count": null,
      "id": "a9f18bfa-565f-462f-870e-279f6ce1a65d",
      "metadata": {
        "colab": {
          "base_uri": "https://localhost:8080/"
        },
        "id": "a9f18bfa-565f-462f-870e-279f6ce1a65d",
        "outputId": "743bc671-8f5e-46ec-8ddd-05e361aece74"
      },
      "outputs": [
        {
          "name": "stdout",
          "output_type": "stream",
          "text": [
            "TH = 202.0 K\n"
          ]
        }
      ],
      "source": [
        "TH = T1\n",
        "print(\"TH =\", np.round(TH,1), \"K\")"
      ]
    },
    {
      "cell_type": "markdown",
      "id": "71d3f4be-993f-4d33-9557-be7c9738d10d",
      "metadata": {
        "id": "71d3f4be-993f-4d33-9557-be7c9738d10d",
        "tags": []
      },
      "source": [
        "### Temperature of the Cold Reservoir (minimum temperature in the cycle)"
      ]
    },
    {
      "cell_type": "code",
      "execution_count": null,
      "id": "dfbe5d80-3e94-407d-92e0-648efb0ce763",
      "metadata": {
        "colab": {
          "base_uri": "https://localhost:8080/"
        },
        "id": "dfbe5d80-3e94-407d-92e0-648efb0ce763",
        "outputId": "cfee977f-70fc-4b51-a198-f5fb58994a94",
        "tags": []
      },
      "outputs": [
        {
          "name": "stdout",
          "output_type": "stream",
          "text": [
            "TC = 75.0 K\n"
          ]
        }
      ],
      "source": [
        "TC = T3\n",
        "print(\"TC =\", np.round(TC,1), \"K\")"
      ]
    }
  ],
  "metadata": {
    "kernelspec": {
      "display_name": "Python 3 (ipykernel)",
      "language": "python",
      "name": "python3"
    },
    "language_info": {
      "codemirror_mode": {
        "name": "ipython",
        "version": 3
      },
      "file_extension": ".py",
      "mimetype": "text/x-python",
      "name": "python",
      "nbconvert_exporter": "python",
      "pygments_lexer": "ipython3",
      "version": "3.8.15"
    },
    "colab": {
      "provenance": [],
      "include_colab_link": true
    }
  },
  "nbformat": 4,
  "nbformat_minor": 5
}