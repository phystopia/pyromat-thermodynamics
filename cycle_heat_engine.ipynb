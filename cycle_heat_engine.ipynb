{
  "cells": [
    {
      "cell_type": "markdown",
      "metadata": {
        "id": "view-in-github",
        "colab_type": "text"
      },
      "source": [
        "<a href=\"https://colab.research.google.com/github/phystopia/pyromat-thermodynamics/blob/main/cycle_heat_engine.ipynb\" target=\"_parent\"><img src=\"https://colab.research.google.com/assets/colab-badge.svg\" alt=\"Open In Colab\"/></a>"
      ]
    },
    {
      "cell_type": "code",
      "execution_count": null,
      "id": "9235a206-8687-481b-abd7-11c28d8e3e99",
      "metadata": {
        "id": "9235a206-8687-481b-abd7-11c28d8e3e99"
      },
      "outputs": [],
      "source": [
        "import numpy as np\n",
        "import matplotlib.pyplot as plt"
      ]
    },
    {
      "cell_type": "markdown",
      "id": "46127e41-e088-431f-ab93-d6eb61439ff1",
      "metadata": {
        "tags": [],
        "id": "46127e41-e088-431f-ab93-d6eb61439ff1"
      },
      "source": [
        "# Heat Engine Cycle"
      ]
    },
    {
      "cell_type": "markdown",
      "id": "271a788c-6d4c-4be6-bb34-318d2aa3a39c",
      "metadata": {
        "id": "271a788c-6d4c-4be6-bb34-318d2aa3a39c"
      },
      "source": [
        "Carbon dioxide gas $(CO_2)$ contained within a piston–cylinder assembly undergoes three processes in series: <br>\n",
        "- **Process 1➛2:** isothermal expansion $\\left( P \\cdot \\upsilon = \\mathrm{constant} \\right)$, from $P_1 = 1000 \\, \\mathrm{kPa} $ and $ \\upsilon_1 = 0,05667 \\, \\mathrm{^{m^3}/_{kg}}$, to $\\upsilon_2 = 0,07556 \\, \\mathrm{^{m^3} / _{kg}}$. <br>\n",
        "- **Process 2➛3:** isobaric compression  at $P = P_2$ from $\\upsilon_2$ until $\\upsilon_3 = \\upsilon_1$. <br>\n",
        "- **Proceso 3➛1:** isochoric pressurization $(\\upsilon = \\upsilon_1)$ from $P_3 = P_2$ to $P_1$ ."
      ]
    },
    {
      "cell_type": "markdown",
      "id": "bad8523f-067e-470b-b034-dd4e1a7b018e",
      "metadata": {
        "tags": [],
        "id": "bad8523f-067e-470b-b034-dd4e1a7b018e"
      },
      "source": [
        "## Gas Data and Initial Values of the Problem"
      ]
    },
    {
      "cell_type": "markdown",
      "id": "c26807b1-ad60-4333-acbf-f132a9c7a12f",
      "metadata": {
        "id": "c26807b1-ad60-4333-acbf-f132a9c7a12f"
      },
      "source": [
        "**Gas constant**"
      ]
    },
    {
      "cell_type": "code",
      "execution_count": null,
      "id": "b777b36b-4c83-4136-a6ba-327918a797d1",
      "metadata": {
        "id": "b777b36b-4c83-4136-a6ba-327918a797d1"
      },
      "outputs": [],
      "source": [
        "R_co2 = 0.1889"
      ]
    },
    {
      "cell_type": "markdown",
      "id": "009ab793-0158-4de0-8eb4-4f3fe8e60308",
      "metadata": {
        "id": "009ab793-0158-4de0-8eb4-4f3fe8e60308"
      },
      "source": [
        "**Specific heat @ constant volume**"
      ]
    },
    {
      "cell_type": "code",
      "execution_count": null,
      "id": "c0d5b6df-6ffa-4de0-ab2c-78642c4ede67",
      "metadata": {
        "id": "c0d5b6df-6ffa-4de0-ab2c-78642c4ede67"
      },
      "outputs": [],
      "source": [
        "cv_co2 = 0.657"
      ]
    },
    {
      "cell_type": "markdown",
      "id": "610da969-4342-4e25-ad07-55cc644902c3",
      "metadata": {
        "id": "610da969-4342-4e25-ad07-55cc644902c3"
      },
      "source": [
        "**Initial Values:** <br>\n",
        "The given data are the initial pressure $(P_1)$ and specific volume $(\\upsilon_1)$, as well as the specific volume at state 2 $(\\upsilon_2)$. <br>\n"
      ]
    },
    {
      "cell_type": "code",
      "execution_count": null,
      "id": "a700f41d-0003-4026-bb47-78a87d0b1b38",
      "metadata": {
        "colab": {
          "base_uri": "https://localhost:8080/"
        },
        "id": "a700f41d-0003-4026-bb47-78a87d0b1b38",
        "outputId": "3bb3a69a-0816-4b4d-9928-1d627cee74a6"
      },
      "outputs": [
        {
          "output_type": "stream",
          "name": "stdout",
          "text": [
            "P1: 1000 kPa\n"
          ]
        }
      ],
      "source": [
        "P1 = 1000 # kPa\n",
        "print('P1:', P1,'kPa')"
      ]
    },
    {
      "cell_type": "code",
      "execution_count": null,
      "id": "b87220b9-ec4c-4666-8ff2-2a2e7206d5cc",
      "metadata": {
        "colab": {
          "base_uri": "https://localhost:8080/"
        },
        "id": "b87220b9-ec4c-4666-8ff2-2a2e7206d5cc",
        "outputId": "d8c034b4-bd3b-4539-e415-a41a678fef07"
      },
      "outputs": [
        {
          "output_type": "stream",
          "name": "stdout",
          "text": [
            "v1: 0.05667 m³/kg\n"
          ]
        }
      ],
      "source": [
        "v1 = 0.05667 # m³/kg\n",
        "print('v1:', v1,'m³/kg')"
      ]
    },
    {
      "cell_type": "code",
      "execution_count": null,
      "id": "1620c9a6-0f5d-410c-86ce-773197d97c94",
      "metadata": {
        "colab": {
          "base_uri": "https://localhost:8080/"
        },
        "id": "1620c9a6-0f5d-410c-86ce-773197d97c94",
        "outputId": "1c9c55e5-e919-4465-8ab4-da8e7455c87e"
      },
      "outputs": [
        {
          "output_type": "stream",
          "name": "stdout",
          "text": [
            "v2: 0.07556 m³/kg\n"
          ]
        }
      ],
      "source": [
        "v2 = 0.07556 # m³/kg\n",
        "print('v2:', v2,'m³/kg')"
      ]
    },
    {
      "cell_type": "markdown",
      "id": "dfa85172-91ea-463b-9745-77a8fae826fc",
      "metadata": {
        "tags": [],
        "id": "dfa85172-91ea-463b-9745-77a8fae826fc"
      },
      "source": [
        "## States"
      ]
    },
    {
      "cell_type": "markdown",
      "id": "ef498b4c-335c-436e-815d-fbf118b57049",
      "metadata": {
        "id": "ef498b4c-335c-436e-815d-fbf118b57049"
      },
      "source": [
        "### State 1"
      ]
    },
    {
      "cell_type": "markdown",
      "id": "dd0fa64b-69ee-4785-a6bd-c9962b404016",
      "metadata": {
        "id": "dd0fa64b-69ee-4785-a6bd-c9962b404016"
      },
      "source": [
        "The only unknown property of state 1 is temperature that can be found through:"
      ]
    },
    {
      "cell_type": "markdown",
      "id": "9e398e28-438d-408f-8088-ac3f7103e066",
      "metadata": {
        "id": "9e398e28-438d-408f-8088-ac3f7103e066"
      },
      "source": [
        "$$ P_1 \\, \\upsilon_1 = R_{_{CO_2}} \\, T $$ <br>\n",
        "$$ T = \\frac{P_1 \\, \\upsilon_1}{R_{_{CO_2}}} $$"
      ]
    },
    {
      "cell_type": "code",
      "execution_count": null,
      "id": "ca7ea79a-d834-467c-9116-c8f1bd5b1cb2",
      "metadata": {
        "colab": {
          "base_uri": "https://localhost:8080/"
        },
        "id": "ca7ea79a-d834-467c-9116-c8f1bd5b1cb2",
        "outputId": "8bde6583-fabf-441a-c5ca-378cd1b66cf0"
      },
      "outputs": [
        {
          "output_type": "stream",
          "name": "stdout",
          "text": [
            "T1: 300.0 K\n"
          ]
        }
      ],
      "source": [
        "T1 = P1 * v1 / R_co2\n",
        "print('T1:', np.round(T1,2),'K')"
      ]
    },
    {
      "cell_type": "markdown",
      "id": "a783888c-d159-4bc2-a86a-e642a36b3406",
      "metadata": {
        "id": "a783888c-d159-4bc2-a86a-e642a36b3406"
      },
      "source": [
        "### State 2"
      ]
    },
    {
      "cell_type": "markdown",
      "id": "ea271905-388b-47ac-b9be-e13e1d134357",
      "metadata": {
        "id": "ea271905-388b-47ac-b9be-e13e1d134357"
      },
      "source": [
        "Here, is necessary to find both $P_2$ and the temperature at which the process *1➛2* ocurrs."
      ]
    },
    {
      "cell_type": "markdown",
      "id": "cf6b4247-c1d4-427d-8bfb-fcb430969140",
      "metadata": {
        "id": "cf6b4247-c1d4-427d-8bfb-fcb430969140"
      },
      "source": [
        "$$ P_1 \\, \\upsilon_1 = P_2 \\, \\upsilon_2 $$ <br>\n",
        "$$ P_2 = P_1 \\, \\frac{\\upsilon_1}{\\upsilon_2} $$"
      ]
    },
    {
      "cell_type": "code",
      "execution_count": null,
      "id": "75fc5e9f-e91f-48ec-8369-5aa7fecec945",
      "metadata": {
        "colab": {
          "base_uri": "https://localhost:8080/"
        },
        "id": "75fc5e9f-e91f-48ec-8369-5aa7fecec945",
        "outputId": "981e3a69-58d2-4b41-fde1-1e5f9cd24a33"
      },
      "outputs": [
        {
          "output_type": "stream",
          "name": "stdout",
          "text": [
            "P2: 750.0 kPa\n"
          ]
        }
      ],
      "source": [
        "P2 = P1 * v1 / v2 # kPa\n",
        "print('P2:', P2,'kPa')"
      ]
    },
    {
      "cell_type": "markdown",
      "id": "443bfe6e-358f-493a-b6a4-6532865f9912",
      "metadata": {
        "id": "443bfe6e-358f-493a-b6a4-6532865f9912"
      },
      "source": [
        "$$ T_2 = T_1 $$"
      ]
    },
    {
      "cell_type": "code",
      "execution_count": null,
      "id": "ae41c424-c34d-4584-a806-c9b3962eb7a3",
      "metadata": {
        "tags": [],
        "colab": {
          "base_uri": "https://localhost:8080/"
        },
        "id": "ae41c424-c34d-4584-a806-c9b3962eb7a3",
        "outputId": "edc04bda-8647-4d8d-b357-97277d80e207"
      },
      "outputs": [
        {
          "output_type": "stream",
          "name": "stdout",
          "text": [
            "T2: 300.0 K\n"
          ]
        }
      ],
      "source": [
        "T2 = T1\n",
        "print('T2:', np.round(T2,2),'K')"
      ]
    },
    {
      "cell_type": "markdown",
      "id": "86b7fbce-f565-4312-82d7-64eac497dd2d",
      "metadata": {
        "id": "86b7fbce-f565-4312-82d7-64eac497dd2d"
      },
      "source": [
        "### State 3"
      ]
    },
    {
      "cell_type": "code",
      "execution_count": null,
      "id": "7f211f6d-f208-4eec-8151-a010b064f613",
      "metadata": {
        "tags": [],
        "colab": {
          "base_uri": "https://localhost:8080/"
        },
        "id": "7f211f6d-f208-4eec-8151-a010b064f613",
        "outputId": "595b4026-4eb7-4f30-d2c8-2c2eac15ec25"
      },
      "outputs": [
        {
          "output_type": "stream",
          "name": "stdout",
          "text": [
            "P3: 750.0 kPa\n"
          ]
        }
      ],
      "source": [
        "P3 = P2\n",
        "print('P3:', P3,'kPa')"
      ]
    },
    {
      "cell_type": "code",
      "execution_count": null,
      "id": "e0b0f538-02ee-4205-a415-e7bc26d29a5f",
      "metadata": {
        "tags": [],
        "colab": {
          "base_uri": "https://localhost:8080/"
        },
        "id": "e0b0f538-02ee-4205-a415-e7bc26d29a5f",
        "outputId": "7acec835-b442-4ab3-d96e-2d85c4b25710"
      },
      "outputs": [
        {
          "output_type": "stream",
          "name": "stdout",
          "text": [
            "v3: 0.05667 m³/kg\n"
          ]
        }
      ],
      "source": [
        "v3 = v1\n",
        "print('v3:', v3,'m³/kg')"
      ]
    },
    {
      "cell_type": "markdown",
      "id": "3f92dcda-6acd-403b-b586-79047bdb5066",
      "metadata": {
        "tags": [],
        "id": "3f92dcda-6acd-403b-b586-79047bdb5066"
      },
      "source": [
        "$$ T_3 = \\frac{P_3 \\, \\upsilon_3}{R_{_{CO_2}}} $$"
      ]
    },
    {
      "cell_type": "code",
      "execution_count": null,
      "id": "d289b3d7-0bfd-43de-892f-e242d42c6805",
      "metadata": {
        "tags": [],
        "colab": {
          "base_uri": "https://localhost:8080/"
        },
        "id": "d289b3d7-0bfd-43de-892f-e242d42c6805",
        "outputId": "36264bd0-877e-46f7-db55-1bd7bffe4cbf"
      },
      "outputs": [
        {
          "output_type": "stream",
          "name": "stdout",
          "text": [
            "T3: 225.0 K\n"
          ]
        }
      ],
      "source": [
        "T3 = P3 * v3 / R_co2\n",
        "print('T3:', np.round(T3,1),'K')"
      ]
    },
    {
      "cell_type": "markdown",
      "id": "373f31d4-2cc1-4767-b5c2-9b98a09849dc",
      "metadata": {
        "tags": [],
        "id": "373f31d4-2cc1-4767-b5c2-9b98a09849dc"
      },
      "source": [
        "## Processes"
      ]
    },
    {
      "cell_type": "markdown",
      "id": "61d9284e-fdba-4b1f-a622-f84341f76fff",
      "metadata": {
        "tags": [],
        "id": "61d9284e-fdba-4b1f-a622-f84341f76fff"
      },
      "source": [
        "### Process *1* $\\rightarrow$ *2*: Isothermal expansion"
      ]
    },
    {
      "cell_type": "markdown",
      "id": "faf49634-9ffb-4ef7-9dbf-2234ff505b89",
      "metadata": {
        "id": "faf49634-9ffb-4ef7-9dbf-2234ff505b89"
      },
      "source": [
        "**Specific work:**"
      ]
    },
    {
      "cell_type": "markdown",
      "id": "15c623bc-7fb4-483d-af30-cfc0dc725c9c",
      "metadata": {
        "id": "15c623bc-7fb4-483d-af30-cfc0dc725c9c"
      },
      "source": [
        "$$ w_{_{1 \\rightarrow 2}} = R_{_{CO_2}} \\, T_1 \\, \\ln \\left( \\frac{\\upsilon_2}{\\upsilon_1} \\right) $$"
      ]
    },
    {
      "cell_type": "code",
      "execution_count": null,
      "id": "328592da-5b08-49c6-9c99-3a64d56f21e7",
      "metadata": {
        "colab": {
          "base_uri": "https://localhost:8080/"
        },
        "id": "328592da-5b08-49c6-9c99-3a64d56f21e7",
        "outputId": "12e63c75-8841-4db1-a958-c0266efa076c"
      },
      "outputs": [
        {
          "output_type": "stream",
          "name": "stdout",
          "text": [
            "w12: 16.303 kJ/kg\n"
          ]
        }
      ],
      "source": [
        "w12 = R_co2 * T1 * np.log(v2/v1)\n",
        "print('w12:', np.round(w12,3), 'kJ/kg')"
      ]
    },
    {
      "cell_type": "markdown",
      "id": "a2d31eb7-3c70-48c3-a486-0a6611e9fda7",
      "metadata": {
        "id": "a2d31eb7-3c70-48c3-a486-0a6611e9fda7"
      },
      "source": [
        "**Specific internal energy:**"
      ]
    },
    {
      "cell_type": "markdown",
      "id": "c48ffdc7-6713-442e-aff1-3e81e9f5ce43",
      "metadata": {
        "id": "c48ffdc7-6713-442e-aff1-3e81e9f5ce43"
      },
      "source": [
        "$$ \\Delta u_{_{1 \\rightarrow 2}} = c_{v_{CO_2}} \\, \\left( T_2 - T_1 \\right) $$"
      ]
    },
    {
      "cell_type": "code",
      "execution_count": null,
      "id": "96f473be-ce92-4f24-b135-8f16b3fb4505",
      "metadata": {
        "colab": {
          "base_uri": "https://localhost:8080/"
        },
        "id": "96f473be-ce92-4f24-b135-8f16b3fb4505",
        "outputId": "d68edf1e-0e51-4f82-f5d2-6c23c3973b7c"
      },
      "outputs": [
        {
          "output_type": "stream",
          "name": "stdout",
          "text": [
            "u12: 0.0 kJ/kg\n"
          ]
        }
      ],
      "source": [
        "u12 = cv_co2 * (T2 - T1)\n",
        "print('u12:', np.round(u12,3), 'kJ/kg')"
      ]
    },
    {
      "cell_type": "markdown",
      "id": "bdac6314-733d-4422-8e31-72b904e23ba1",
      "metadata": {
        "id": "bdac6314-733d-4422-8e31-72b904e23ba1"
      },
      "source": [
        "**First Law of Thermodynamics**"
      ]
    },
    {
      "cell_type": "markdown",
      "id": "bfd9b126-4486-4a12-a591-65713591b4c7",
      "metadata": {
        "id": "bfd9b126-4486-4a12-a591-65713591b4c7"
      },
      "source": [
        "$$ q - w = \\Delta u $$ <br>"
      ]
    },
    {
      "cell_type": "markdown",
      "id": "d1dbaa28-1756-4d9a-a024-25dadec9e594",
      "metadata": {
        "id": "d1dbaa28-1756-4d9a-a024-25dadec9e594"
      },
      "source": [
        "From the First Law of Thermodynamics, **specific heat** can be found as:"
      ]
    },
    {
      "cell_type": "markdown",
      "id": "475f187e-9898-4b83-abc8-60ea13585744",
      "metadata": {
        "id": "475f187e-9898-4b83-abc8-60ea13585744"
      },
      "source": [
        "$$ q_{_{1 \\rightarrow 2}} = \\Delta u_{_{1 \\rightarrow 2}} + w_{_{1 \\rightarrow 2}} $$"
      ]
    },
    {
      "cell_type": "code",
      "execution_count": null,
      "id": "d5a09e1f-b703-41bd-88e3-bcd11ba0c4e0",
      "metadata": {
        "colab": {
          "base_uri": "https://localhost:8080/"
        },
        "id": "d5a09e1f-b703-41bd-88e3-bcd11ba0c4e0",
        "outputId": "3d0a2cd8-daa9-42c5-8447-b972d702f49a"
      },
      "outputs": [
        {
          "output_type": "stream",
          "name": "stdout",
          "text": [
            "q12: 16.303 kJ/kg\n"
          ]
        }
      ],
      "source": [
        "q12 = u12 + w12\n",
        "print('q12:', np.round(q12,3), 'kJ/kg')"
      ]
    },
    {
      "cell_type": "markdown",
      "id": "853d9d0a-9bac-4e24-8c7b-ba2d60b8b892",
      "metadata": {
        "tags": [],
        "id": "853d9d0a-9bac-4e24-8c7b-ba2d60b8b892"
      },
      "source": [
        "### Process *2* $\\rightarrow$ *3*: Isobaric compression"
      ]
    },
    {
      "cell_type": "markdown",
      "id": "8e2f9861-73df-489b-b1fb-5add2de0490c",
      "metadata": {
        "id": "8e2f9861-73df-489b-b1fb-5add2de0490c"
      },
      "source": [
        "**Specific work**"
      ]
    },
    {
      "cell_type": "markdown",
      "id": "cfeeb6a0-0f21-4dac-a16e-124489d572bb",
      "metadata": {
        "id": "cfeeb6a0-0f21-4dac-a16e-124489d572bb"
      },
      "source": [
        "$$ w_{_{2 \\rightarrow 3}} = P_2 \\, \\left( \\upsilon_3 - \\upsilon_2 \\right) $$"
      ]
    },
    {
      "cell_type": "code",
      "execution_count": null,
      "id": "a1a32cb5-658e-4d0f-a167-6415bbf6c23d",
      "metadata": {
        "colab": {
          "base_uri": "https://localhost:8080/"
        },
        "id": "a1a32cb5-658e-4d0f-a167-6415bbf6c23d",
        "outputId": "8bddad69-f630-4681-bc94-ce3ae90ad83e"
      },
      "outputs": [
        {
          "output_type": "stream",
          "name": "stdout",
          "text": [
            "w23: -14.168 kJ/kg\n"
          ]
        }
      ],
      "source": [
        "w23 = P2 * (v3 - v2)\n",
        "print('w23:', np.round(w23,3), 'kJ/kg')"
      ]
    },
    {
      "cell_type": "markdown",
      "id": "1fbaad95-5c45-4286-b6ea-95c557ef2baf",
      "metadata": {
        "id": "1fbaad95-5c45-4286-b6ea-95c557ef2baf"
      },
      "source": [
        "**Specific internal energy:**"
      ]
    },
    {
      "cell_type": "markdown",
      "id": "103c6060-f4ff-4b60-a159-cc34f5416349",
      "metadata": {
        "id": "103c6060-f4ff-4b60-a159-cc34f5416349"
      },
      "source": [
        "$$ u_{_{2 \\rightarrow 3}} = c_{v_{CO_2}} \\, \\left( T_3 - T_2 \\right) $$"
      ]
    },
    {
      "cell_type": "code",
      "execution_count": null,
      "id": "e8637415-8224-41b6-ab22-0e2300fb9101",
      "metadata": {
        "colab": {
          "base_uri": "https://localhost:8080/"
        },
        "id": "e8637415-8224-41b6-ab22-0e2300fb9101",
        "outputId": "eb06d830-21bb-4318-8c66-40bffc3ced62"
      },
      "outputs": [
        {
          "output_type": "stream",
          "name": "stdout",
          "text": [
            "u23: -49.275 kJ/kg\n"
          ]
        }
      ],
      "source": [
        "u23 = cv_co2 * (T3 - T2)\n",
        "print('u23:', np.round(u23,3), 'kJ/kg')"
      ]
    },
    {
      "cell_type": "markdown",
      "id": "55776d0b-3d3d-4927-8508-8126f17c2e70",
      "metadata": {
        "id": "55776d0b-3d3d-4927-8508-8126f17c2e70"
      },
      "source": [
        "**Specific heat:**"
      ]
    },
    {
      "cell_type": "markdown",
      "id": "ef1ec805-1684-47f2-b300-e2b824a58301",
      "metadata": {
        "id": "ef1ec805-1684-47f2-b300-e2b824a58301"
      },
      "source": [
        "$$ q_{_{2 \\rightarrow 3}} = \\Delta u_{_{2 \\rightarrow 3}} + w_{_{2 \\rightarrow 3}} $$"
      ]
    },
    {
      "cell_type": "code",
      "execution_count": null,
      "id": "392d4e75-d800-45f7-97b7-bf446155fbd6",
      "metadata": {
        "colab": {
          "base_uri": "https://localhost:8080/"
        },
        "id": "392d4e75-d800-45f7-97b7-bf446155fbd6",
        "outputId": "8e8bcefb-fe12-4121-c2b4-d1639dbb6b0a"
      },
      "outputs": [
        {
          "output_type": "stream",
          "name": "stdout",
          "text": [
            "q23: -63.443 kJ/kg\n"
          ]
        }
      ],
      "source": [
        "q23 = u23 + w23\n",
        "print('q23:', np.round(q23,3), 'kJ/kg')"
      ]
    },
    {
      "cell_type": "markdown",
      "id": "dac58b31-3f25-487a-8e4b-6dae20f70c5c",
      "metadata": {
        "tags": [],
        "id": "dac58b31-3f25-487a-8e4b-6dae20f70c5c"
      },
      "source": [
        "### Process *3* $\\rightarrow$ *1*: Isochoric pressurization"
      ]
    },
    {
      "cell_type": "markdown",
      "id": "b7740775-744c-44a8-9d43-49a8c9afd6fb",
      "metadata": {
        "id": "b7740775-744c-44a8-9d43-49a8c9afd6fb"
      },
      "source": [
        "**Specific work:**"
      ]
    },
    {
      "cell_type": "markdown",
      "id": "50ee65bf-2204-4537-8979-78bbdbe0827c",
      "metadata": {
        "id": "50ee65bf-2204-4537-8979-78bbdbe0827c"
      },
      "source": [
        "$$ w_{_{3 \\rightarrow 1}} = 0 $$"
      ]
    },
    {
      "cell_type": "code",
      "execution_count": null,
      "id": "aefbe16a-beec-4c87-8e51-15cff761c514",
      "metadata": {
        "colab": {
          "base_uri": "https://localhost:8080/"
        },
        "id": "aefbe16a-beec-4c87-8e51-15cff761c514",
        "outputId": "91b0afa3-4791-4760-ba80-249d747182f1"
      },
      "outputs": [
        {
          "output_type": "stream",
          "name": "stdout",
          "text": [
            "w31: 0 kJ/kg\n"
          ]
        }
      ],
      "source": [
        "w31 = 0\n",
        "print('w31:', np.round(w31,3), 'kJ/kg')"
      ]
    },
    {
      "cell_type": "markdown",
      "id": "db43b281-095e-4c84-b877-7ffe442b29bb",
      "metadata": {
        "id": "db43b281-095e-4c84-b877-7ffe442b29bb"
      },
      "source": [
        "**Change in specific internal energy:**"
      ]
    },
    {
      "cell_type": "markdown",
      "id": "71aca3e3-ae68-432b-a82b-54d90aacdf57",
      "metadata": {
        "id": "71aca3e3-ae68-432b-a82b-54d90aacdf57"
      },
      "source": [
        "$$ u_{_{3 \\rightarrow 1}} = c_{v_{CO_2}} \\, \\left( T_1 - T_3 \\right) $$"
      ]
    },
    {
      "cell_type": "code",
      "execution_count": null,
      "id": "768a8a71-c483-4711-a6fe-8b06e0c05372",
      "metadata": {
        "colab": {
          "base_uri": "https://localhost:8080/"
        },
        "id": "768a8a71-c483-4711-a6fe-8b06e0c05372",
        "outputId": "6d74888b-3cf7-4980-847e-305cfd8987f4"
      },
      "outputs": [
        {
          "output_type": "stream",
          "name": "stdout",
          "text": [
            "u31: 49.275 kJ/kg\n"
          ]
        }
      ],
      "source": [
        "u31 = cv_co2 * (T1 - T3)\n",
        "print('u31:', np.round(u31,3), 'kJ/kg')"
      ]
    },
    {
      "cell_type": "markdown",
      "id": "b12e20ce-01c5-4285-a510-b487dc723298",
      "metadata": {
        "id": "b12e20ce-01c5-4285-a510-b487dc723298"
      },
      "source": [
        "**Specific heat:**"
      ]
    },
    {
      "cell_type": "markdown",
      "id": "174c00e2-c380-4b11-9ae3-682e05ec6491",
      "metadata": {
        "id": "174c00e2-c380-4b11-9ae3-682e05ec6491"
      },
      "source": [
        "$$ q_{_{1 \\rightarrow 1}} = \\Delta u_{_{3 \\rightarrow 1}} + w_{_{3 \\rightarrow 1}} $$"
      ]
    },
    {
      "cell_type": "code",
      "execution_count": null,
      "id": "959fda6f-981a-49ac-ba0e-fcaa65a05112",
      "metadata": {
        "colab": {
          "base_uri": "https://localhost:8080/"
        },
        "id": "959fda6f-981a-49ac-ba0e-fcaa65a05112",
        "outputId": "2a2aacf4-9be9-4fea-f935-a92f1b7da0f2"
      },
      "outputs": [
        {
          "output_type": "stream",
          "name": "stdout",
          "text": [
            "q31: 49.275 kJ/kg\n"
          ]
        }
      ],
      "source": [
        "q31 = u31 + w31\n",
        "print('q31:', np.round(q31,3), 'kJ/kg')"
      ]
    },
    {
      "cell_type": "markdown",
      "id": "79dbb8d6-e1b9-4d53-9910-35b4027e1d27",
      "metadata": {
        "tags": [],
        "id": "79dbb8d6-e1b9-4d53-9910-35b4027e1d27"
      },
      "source": [
        "## P-$\\upsilon$ Diagram"
      ]
    },
    {
      "cell_type": "code",
      "execution_count": null,
      "id": "9af680cc-8e49-431e-b8b2-e1b65b13f49e",
      "metadata": {
        "id": "9af680cc-8e49-431e-b8b2-e1b65b13f49e"
      },
      "outputs": [],
      "source": [
        "points = 100"
      ]
    },
    {
      "cell_type": "code",
      "execution_count": null,
      "id": "1a309151-433f-4089-993f-271c55a624f2",
      "metadata": {
        "id": "1a309151-433f-4089-993f-271c55a624f2"
      },
      "outputs": [],
      "source": [
        "v = np.linspace(v1, v2, points)\n",
        "# print('specific volume:', v, 'm³/kg')"
      ]
    },
    {
      "cell_type": "code",
      "execution_count": null,
      "id": "bb8f6222-9827-422e-a5ea-796a722ba819",
      "metadata": {
        "id": "bb8f6222-9827-422e-a5ea-796a722ba819"
      },
      "outputs": [],
      "source": [
        "P12 = R_co2 * T1 / v\n",
        "# print('Pressure:', np.round(P12,2), 'kPa')"
      ]
    },
    {
      "cell_type": "code",
      "execution_count": null,
      "id": "17e8bddb-280f-4621-8d08-3350f3600817",
      "metadata": {
        "id": "17e8bddb-280f-4621-8d08-3350f3600817"
      },
      "outputs": [],
      "source": [
        "P23 = P3 * np.power(v,0)\n",
        "# print('Pressure:', np.round(P23,2), 'kPa')"
      ]
    },
    {
      "cell_type": "code",
      "execution_count": null,
      "id": "f1a59415-3e30-43a2-8a48-6ddfee3b50d5",
      "metadata": {
        "id": "f1a59415-3e30-43a2-8a48-6ddfee3b50d5"
      },
      "outputs": [],
      "source": [
        "v23 = v3 * np.power(P12,0)\n",
        "# print('specific volume:', v23, 'm³/kg')"
      ]
    },
    {
      "cell_type": "code",
      "execution_count": null,
      "id": "1e5f92ae-9730-4ef7-9c07-7969af33055a",
      "metadata": {
        "colab": {
          "base_uri": "https://localhost:8080/",
          "height": 675
        },
        "id": "1e5f92ae-9730-4ef7-9c07-7969af33055a",
        "outputId": "c8381aaf-de36-428c-9666-116f932bf504"
      },
      "outputs": [
        {
          "output_type": "display_data",
          "data": {
            "text/plain": [
              "<Figure size 1440x720 with 1 Axes>"
            ],
            "image/png": "[encoded data removed]"
          },
          "metadata": {
            "needs_background": "light"
          }
        }
      ],
      "source": [
        "font = {'family' : 'Helvetica',\n",
        "        'size'   : 22}\n",
        "\n",
        "fig, ax = plt.subplots(figsize=(20,10))\n",
        "\n",
        "plt.title(r'$P - \\upsilon \\; Diagram$')\n",
        "plt.rc('font', **font)\n",
        "\n",
        "plt.plot(  v,P12,'r--', linewidth = 1.5, label = 'Isothermal')\n",
        "plt.plot(  v,P23,'b--', linewidth = 1.5, label = 'Isobaric')\n",
        "plt.plot(v23,P12,'r--', linewidth = 1.5, label = 'Isochoric')\n",
        "\n",
        "plt.plot(v1,P1,'ro')\n",
        "plt.plot(v2,P2,'ro')\n",
        "plt.plot(v3,P3,'bo')\n",
        "\n",
        "ax.text(v1 - 0.0003, P1, 1, size=16)\n",
        "ax.text(v2 + 0.0001, P2, 2, size=16)\n",
        "ax.text(v3 - 0.0003, P3, 3, size=16)\n",
        "\n",
        "ax.text(v1 + 0.009 , P1 + (P2-P1)/2, 'q = +16,30 kJ/kg', size=16) # 1-2\n",
        "ax.text(v1 + 0.007 , P2 + 8        , 'q = -63,44 kJ/kg', size=16) # 2-3\n",
        "ax.text(v1 + 0.0002, P1 + (P2-P1)/2, 'q = +49,27 kJ/kg', size=16) # 3-1\n",
        "\n",
        "plt.ylabel(r'Pressure (kPa)')\n",
        "plt.xlabel(r'Specific volume $\\left( \\frac{m^3}{kg} \\right)$')\n",
        "\n",
        "plt.legend()\n",
        "plt.show()"
      ]
    },
    {
      "cell_type": "markdown",
      "id": "19bd85e1-8d83-421d-94aa-5cdbde5c2669",
      "metadata": {
        "id": "19bd85e1-8d83-421d-94aa-5cdbde5c2669"
      },
      "source": [
        "## Cycle"
      ]
    },
    {
      "cell_type": "markdown",
      "id": "30119680-1584-4d60-8be3-12a6adfad241",
      "metadata": {
        "id": "30119680-1584-4d60-8be3-12a6adfad241"
      },
      "source": [
        "### Energy Balance"
      ]
    },
    {
      "cell_type": "markdown",
      "id": "b11b16f2-1db6-4dce-ad19-ea0c63c3b503",
      "metadata": {
        "id": "b11b16f2-1db6-4dce-ad19-ea0c63c3b503"
      },
      "source": [
        "|      Process      |     w (kJ/kg)        |     $\\Delta$u (kJ/kg)       |      q (kJ/kg)       |\n",
        "| ----------------- | -------------------- | --------------------------- | -------------------- |\n",
        "| 1 $\\rightarrow$ 2 |       16,30          |            0,00             |       16,30          |\n",
        "| 2 $\\rightarrow$ 3 |      -14,17          |          -49,27             |      -63,44          |\n",
        "| 3 $\\rightarrow$ 1 |        0,0           |           49,27             |       49,27          |\n",
        "|     **Cycle**     |        2,13          |            0,00             |        2,13          |"
      ]
    },
    {
      "cell_type": "markdown",
      "id": "6213303d-aacb-4c1f-9cee-2d745497bc37",
      "metadata": {
        "id": "6213303d-aacb-4c1f-9cee-2d745497bc37"
      },
      "source": [
        "### Net specific work"
      ]
    },
    {
      "cell_type": "markdown",
      "id": "f41b8077-c9ad-4fb1-a933-b3d9c79b33b7",
      "metadata": {
        "id": "f41b8077-c9ad-4fb1-a933-b3d9c79b33b7"
      },
      "source": [
        "$$ w_{net} = \\sum w $$"
      ]
    },
    {
      "cell_type": "code",
      "execution_count": null,
      "id": "945f6d3c-10fc-4355-94eb-021859aca213",
      "metadata": {
        "colab": {
          "base_uri": "https://localhost:8080/"
        },
        "id": "945f6d3c-10fc-4355-94eb-021859aca213",
        "outputId": "e939c221-620f-494e-dd94-eb107aaf62f7"
      },
      "outputs": [
        {
          "output_type": "stream",
          "name": "stdout",
          "text": [
            "w_net: 2.135 kJ/kg\n"
          ]
        }
      ],
      "source": [
        "w_net = w12 + w23 + w31\n",
        "print('w_net:', np.round(w_net,3), 'kJ/kg')"
      ]
    },
    {
      "cell_type": "markdown",
      "id": "e93d8c88-dd20-4f40-b583-9ee5f64a60e2",
      "metadata": {
        "id": "e93d8c88-dd20-4f40-b583-9ee5f64a60e2"
      },
      "source": [
        "### Heat Taken from the Source (Hot Reservoir)"
      ]
    },
    {
      "cell_type": "markdown",
      "id": "14cb6095-0976-49ef-a994-a5a9e1b56692",
      "metadata": {
        "id": "14cb6095-0976-49ef-a994-a5a9e1b56692"
      },
      "source": [
        "$$ q_{in} =  q_{_{1 \\rightarrow 2}} + q_{_{3 \\rightarrow 1}} $$"
      ]
    },
    {
      "cell_type": "code",
      "execution_count": null,
      "id": "b5bdf9c0-444b-4914-ac43-01237a8fea65",
      "metadata": {
        "colab": {
          "base_uri": "https://localhost:8080/"
        },
        "id": "b5bdf9c0-444b-4914-ac43-01237a8fea65",
        "outputId": "4749615e-57c0-4913-872a-10d55eafab9e"
      },
      "outputs": [
        {
          "output_type": "stream",
          "name": "stdout",
          "text": [
            "q_in: 65.578 kJ/kg\n"
          ]
        }
      ],
      "source": [
        "q_in = q12 + q31\n",
        "print('q_in:', np.round(q_in,3), 'kJ/kg')"
      ]
    },
    {
      "cell_type": "markdown",
      "id": "66339a49-6900-4b6b-8ba2-d43826fdba33",
      "metadata": {
        "id": "66339a49-6900-4b6b-8ba2-d43826fdba33"
      },
      "source": [
        "### Heat Rejected to the Sink (Cold Reservoir)"
      ]
    },
    {
      "cell_type": "markdown",
      "id": "3e6306ff-191b-45b3-955c-154d4dba1481",
      "metadata": {
        "id": "3e6306ff-191b-45b3-955c-154d4dba1481"
      },
      "source": [
        "$$ q_{out} = q_{_{2 \\rightarrow 3}} $$"
      ]
    },
    {
      "cell_type": "code",
      "execution_count": null,
      "id": "bc0cae1c-881e-48f1-a15a-9e9560643755",
      "metadata": {
        "colab": {
          "base_uri": "https://localhost:8080/"
        },
        "id": "bc0cae1c-881e-48f1-a15a-9e9560643755",
        "outputId": "1a449d35-c5b1-4a4a-8902-80b853b417a7"
      },
      "outputs": [
        {
          "output_type": "stream",
          "name": "stdout",
          "text": [
            "q_out: -63.443 kJ/kg\n"
          ]
        }
      ],
      "source": [
        "q_out = q23\n",
        "print('q_out:', np.round(q_out,3), 'kJ/kg')"
      ]
    },
    {
      "cell_type": "markdown",
      "id": "eaedb5ad-b4aa-4ad8-a4c2-37a24fce507e",
      "metadata": {
        "id": "eaedb5ad-b4aa-4ad8-a4c2-37a24fce507e"
      },
      "source": [
        "### Thermodynamic Efficiency"
      ]
    },
    {
      "cell_type": "markdown",
      "id": "1789e694-efd1-4826-9fcb-9148ca73d4bd",
      "metadata": {
        "id": "1789e694-efd1-4826-9fcb-9148ca73d4bd"
      },
      "source": [
        "$$ \\eta = \\frac{\\mathrm{Desired} \\; \\mathrm{Output}}{\\mathrm{Required} \\; \\mathrm{Input}} \\; \\rightarrow \\; \\eta = \\frac{w_{net}}{q_{in}} $$"
      ]
    },
    {
      "cell_type": "code",
      "execution_count": null,
      "id": "5785c559-c1fc-4235-abeb-2f101694f5a8",
      "metadata": {
        "colab": {
          "base_uri": "https://localhost:8080/"
        },
        "id": "5785c559-c1fc-4235-abeb-2f101694f5a8",
        "outputId": "46e1a48c-8019-46fd-eccf-e7e615d66efa"
      },
      "outputs": [
        {
          "output_type": "stream",
          "name": "stdout",
          "text": [
            "𝝶 = 0.033\n"
          ]
        }
      ],
      "source": [
        "eta = w_net / q_in\n",
        "print(\"𝝶 =\", np.round(eta,3))"
      ]
    },
    {
      "cell_type": "markdown",
      "id": "b51d2481-0293-4a75-92e0-697b4cabd5a9",
      "metadata": {
        "id": "b51d2481-0293-4a75-92e0-697b4cabd5a9"
      },
      "source": [
        "That can be calculated otherwise as:"
      ]
    },
    {
      "cell_type": "markdown",
      "id": "6938f651-fdfa-447c-a0f6-8f0f31587403",
      "metadata": {
        "id": "6938f651-fdfa-447c-a0f6-8f0f31587403"
      },
      "source": [
        "$$ \\eta = \\frac{w_{net}}{q_{in}} = \\frac{q_{in} - \\mid q_{out} \\mid}{q_{in}}= 1 - \\frac{\\mid q_{out} \\mid}{q_{in}}$$"
      ]
    },
    {
      "cell_type": "code",
      "execution_count": null,
      "id": "cac5602e-59c3-46de-974f-89cddeb2404c",
      "metadata": {
        "colab": {
          "base_uri": "https://localhost:8080/"
        },
        "id": "cac5602e-59c3-46de-974f-89cddeb2404c",
        "outputId": "0f755d33-5430-4ba0-fae1-34b0b0b106d2"
      },
      "outputs": [
        {
          "output_type": "stream",
          "name": "stdout",
          "text": [
            "𝝶 = 0.033\n"
          ]
        }
      ],
      "source": [
        "eta_2 = 1 - np.abs(q_out/q_in)\n",
        "print(\"𝝶 =\", np.round(eta_2,3))"
      ]
    },
    {
      "cell_type": "markdown",
      "id": "822eb6f8-e75c-4e5b-a61b-1a4a7ecc0ee6",
      "metadata": {
        "id": "822eb6f8-e75c-4e5b-a61b-1a4a7ecc0ee6"
      },
      "source": [
        "### Temperature of the Hot Reservoir (maximum temperature in the cycle)"
      ]
    },
    {
      "cell_type": "markdown",
      "id": "115ebd48-81a9-4ec2-8828-8162a08fede2",
      "metadata": {
        "id": "115ebd48-81a9-4ec2-8828-8162a08fede2"
      },
      "source": [
        "$$ T_H = T_1 $$"
      ]
    },
    {
      "cell_type": "code",
      "execution_count": null,
      "id": "a6b46fa2-616c-42b9-8650-b417622a6eec",
      "metadata": {
        "colab": {
          "base_uri": "https://localhost:8080/"
        },
        "id": "a6b46fa2-616c-42b9-8650-b417622a6eec",
        "outputId": "1e4b5ccf-b362-45aa-c953-5c0dace78bca"
      },
      "outputs": [
        {
          "output_type": "stream",
          "name": "stdout",
          "text": [
            "TH = 300.0 K\n"
          ]
        }
      ],
      "source": [
        "TH = T1\n",
        "print(\"TH =\", np.round(TH,1), \"K\")"
      ]
    },
    {
      "cell_type": "markdown",
      "id": "cc622e03-06be-429e-95c0-d9563d55c471",
      "metadata": {
        "id": "cc622e03-06be-429e-95c0-d9563d55c471"
      },
      "source": [
        "### Temperature of the Cold Reservoir (minimum temperature in the cycle)"
      ]
    },
    {
      "cell_type": "markdown",
      "id": "d4b54c2c-4b2d-4b3f-8b9a-9095f01d1cc0",
      "metadata": {
        "id": "d4b54c2c-4b2d-4b3f-8b9a-9095f01d1cc0"
      },
      "source": [
        "$$ T_C = T_3 $$"
      ]
    },
    {
      "cell_type": "code",
      "execution_count": null,
      "id": "54597716-cfe1-4811-bf28-19ad1f068bce",
      "metadata": {
        "colab": {
          "base_uri": "https://localhost:8080/"
        },
        "id": "54597716-cfe1-4811-bf28-19ad1f068bce",
        "outputId": "7a460970-e8cf-4675-f584-3fd87cf48411"
      },
      "outputs": [
        {
          "output_type": "stream",
          "name": "stdout",
          "text": [
            "TC = 225.0 K\n"
          ]
        }
      ],
      "source": [
        "TC = T3\n",
        "print(\"TC =\", np.round(TC,1), \"K\")"
      ]
    },
    {
      "cell_type": "markdown",
      "id": "b4c966d2-e084-44e8-8fec-9a956b0a2a0b",
      "metadata": {
        "id": "b4c966d2-e084-44e8-8fec-9a956b0a2a0b",
        "tags": []
      },
      "source": [
        "### Reversible (Carnot) Efficiency"
      ]
    },
    {
      "cell_type": "markdown",
      "id": "7399186f-c54d-4962-a6ff-1ac41077c8dc",
      "metadata": {
        "id": "7399186f-c54d-4962-a6ff-1ac41077c8dc"
      },
      "source": [
        "$$ \\eta_{rev} = 1 - \\frac{T_C}{T_H} $$"
      ]
    },
    {
      "cell_type": "code",
      "execution_count": null,
      "id": "da0f7d3b-cd80-4d4c-8549-b2f0b59b60f8",
      "metadata": {
        "colab": {
          "base_uri": "https://localhost:8080/"
        },
        "id": "da0f7d3b-cd80-4d4c-8549-b2f0b59b60f8",
        "outputId": "e5dda50c-71c7-438a-9f35-c957f119ac36"
      },
      "outputs": [
        {
          "output_type": "stream",
          "name": "stdout",
          "text": [
            "𝝶_rev = 0.25\n"
          ]
        }
      ],
      "source": [
        "eta_rev = 1 - (TC / TH)\n",
        "print(\"𝝶_rev =\", np.round(eta_rev,2))"
      ]
    }
  ],
  "metadata": {
    "kernelspec": {
      "display_name": "Python 3 (ipykernel)",
      "language": "python",
      "name": "python3"
    },
    "language_info": {
      "codemirror_mode": {
        "name": "ipython",
        "version": 3
      },
      "file_extension": ".py",
      "mimetype": "text/x-python",
      "name": "python",
      "nbconvert_exporter": "python",
      "pygments_lexer": "ipython3",
      "version": "3.8.15"
    },
    "colab": {
      "provenance": [],
      "include_colab_link": true
    }
  },
  "nbformat": 4,
  "nbformat_minor": 5
}