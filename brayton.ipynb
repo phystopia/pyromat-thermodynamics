{
 "cells": [
  {
   "cell_type": "markdown",
   "id": "b3a3719d-1b70-44a4-b765-508f09c49885",
   "metadata": {
    "tags": []
   },
   "source": [
    "# A Brayton cycle analysis"
   ]
  },
  {
   "cell_type": "markdown",
   "id": "2b43f201-3793-43ab-a50e-cf6a38372ee1",
   "metadata": {},
   "source": [
    "The Brayton cycle is sometimes better known as a jet engine, but it is also at the heart of the most efficient power plants in the world. When air is the working fluid, we don't need heat exchangers; we can burn the fuel right in the working fluid. <br><br>\n",
    "The Brayton cycle uses three processes to separate four states: <br><br>\n",
    "(1) ambient air is compressed to some elevated pressure, <br>\n",
    "(2) fuel is burned at constant pressure to heat the working fluid, and <br>\n",
    "(3) work is extracted by a turbine. <br>\n",
    "Here's an example where we compute the mass flow required to produce a 100kW turbine using a 12:1 pressure ratio."
   ]
  },
  {
   "cell_type": "markdown",
   "id": "4ba307de-4ad2-497b-ac86-0ace2fb3c8c3",
   "metadata": {
    "tags": []
   },
   "source": [
    "# Brayton cycle demo"
   ]
  },
  {
   "cell_type": "markdown",
   "id": "7f07447d-2247-466e-b394-40801adb6353",
   "metadata": {},
   "source": [
    "**C.R. Martin** (c) 2016-2018 <br>\n",
    "GPL v3.0 <br>\n",
    "Enjoy!"
   ]
  },
  {
   "cell_type": "code",
   "execution_count": 1,
   "id": "3bc476c8-8072-419b-81a4-f2d890921b44",
   "metadata": {},
   "outputs": [],
   "source": [
    "import pyromat as pyro\n",
    "import numpy as np\n",
    "import matplotlib.pyplot as plt"
   ]
  },
  {
   "cell_type": "code",
   "execution_count": 2,
   "id": "6d314e51-afbf-4947-81d7-f3944522229a",
   "metadata": {},
   "outputs": [],
   "source": [
    "air = pyro.get('ig.air')"
   ]
  },
  {
   "cell_type": "markdown",
   "id": "bc97cc5b-ab9d-42ec-9aea-28eb52378287",
   "metadata": {},
   "source": [
    "Force the unit system into kJ, kg, bar, K"
   ]
  },
  {
   "cell_type": "code",
   "execution_count": 3,
   "id": "8e76cd05-181c-4fe5-93b6-0ab1e7810afa",
   "metadata": {},
   "outputs": [],
   "source": [
    "pyro.config['unit_energy'] = 'kJ'\n",
    "pyro.config['unit_matter'] = 'kg'\n",
    "pyro.config['unit_pressure'] = 'bar'\n",
    "pyro.config['unit_temperature'] = 'K'"
   ]
  },
  {
   "cell_type": "markdown",
   "id": "3fdee479-c648-4388-b65f-fc619ca51771",
   "metadata": {},
   "source": [
    "Let's design a gas turbine with a 100kW power output"
   ]
  },
  {
   "cell_type": "code",
   "execution_count": 4,
   "id": "522cc13b-8f23-47a9-bfcb-843d97797cd4",
   "metadata": {},
   "outputs": [],
   "source": [
    "Wnet = 100."
   ]
  },
  {
   "cell_type": "markdown",
   "id": "303c443d-69e1-4749-9f82-2c04b7615fe1",
   "metadata": {
    "tags": []
   },
   "source": [
    "## |Compressor| --> |Combustor| --> |Turbine|"
   ]
  },
  {
   "cell_type": "markdown",
   "id": "67871428-08a3-4175-99d0-731500fcc257",
   "metadata": {
    "tags": []
   },
   "source": [
    "There are three processes separating four states in a brayton cycle. <br><br>\n",
    "**(1) ---|Compressor|---> (2) ---|Combustor|---> (3) ---|Turbine|---> (4)**"
   ]
  },
  {
   "cell_type": "markdown",
   "id": "92d77349-a526-4771-97d0-cd0ef01d4e93",
   "metadata": {
    "tags": []
   },
   "source": [
    "### State 1"
   ]
  },
  {
   "cell_type": "markdown",
   "id": "801c8c39-966f-41b4-ab88-a7534f6dd3e2",
   "metadata": {},
   "source": [
    "The inlet is ambient temperature and pressure. In our example, we will use 1.013bar and 300K for p1 and T1."
   ]
  },
  {
   "cell_type": "code",
   "execution_count": 5,
   "id": "38fb2817-27a6-4253-9233-d75c553dee92",
   "metadata": {},
   "outputs": [],
   "source": [
    "p1 = 1.013\n",
    "T1 = 300."
   ]
  },
  {
   "cell_type": "markdown",
   "id": "281b21b2-295a-4f67-8100-d5cde134f1e0",
   "metadata": {},
   "source": [
    "### Compressor"
   ]
  },
  {
   "cell_type": "markdown",
   "id": "33433b60-45a6-42f1-9714-7539b9cc7529",
   "metadata": {},
   "source": [
    "**|Compressor|** is ideally an isentropic process designed to compress the incoming air to a certain pressure ratio, pr.  Let's use pr=12."
   ]
  },
  {
   "cell_type": "code",
   "execution_count": 6,
   "id": "75bd8840-8c6f-45dd-af50-32eac63e1a24",
   "metadata": {},
   "outputs": [],
   "source": [
    "pr = 12."
   ]
  },
  {
   "cell_type": "markdown",
   "id": "0d9ddaf1-bb5e-4f1b-ae1f-96bd3c498ad9",
   "metadata": {},
   "source": [
    "### State 2"
   ]
  },
  {
   "cell_type": "markdown",
   "id": "acd049b6-4c47-4e08-afba-7115f0c1cc68",
   "metadata": {},
   "source": [
    "Nothing about the compressor outlet is explicitly prescribed by design. We'll have to calculate our way here."
   ]
  },
  {
   "cell_type": "code",
   "execution_count": 7,
   "id": "b16d8157-0587-4834-b1e2-21428ee01d73",
   "metadata": {},
   "outputs": [],
   "source": [
    "s1 = air.s(T1,p1)   # what was the entropy at (1)?\n",
    "p2 = p1*pr\n",
    "T2 = air.T_s(s=s1,p=p2)    # find T2 for s=s1 and p=p1*pr"
   ]
  },
  {
   "cell_type": "markdown",
   "id": "dafa23b4-c207-4ed8-addf-a1c73e606e0c",
   "metadata": {},
   "source": [
    "How much work did that require?"
   ]
  },
  {
   "cell_type": "code",
   "execution_count": 8,
   "id": "4db6dae6-cf61-428b-ad0a-5fd91746dff2",
   "metadata": {},
   "outputs": [],
   "source": [
    "wc = air.h(T2,p2) - air.h(T1,p1)"
   ]
  },
  {
   "cell_type": "markdown",
   "id": "2ca225ed-a627-40c5-92bc-956dee86d44c",
   "metadata": {},
   "source": [
    "### Combustor"
   ]
  },
  {
   "cell_type": "markdown",
   "id": "feb504bc-0749-4612-abaa-0a6bcae35ad9",
   "metadata": {},
   "source": [
    "**|Combustor|** is where we add heat. We have to be careful not to damage the engine by adding too much heat.  We are limited by a maximum T3. For argument's sake, let's use 1700K.  That's pretty darn hot."
   ]
  },
  {
   "cell_type": "code",
   "execution_count": 9,
   "id": "eb6477dc-3fd1-4073-b19a-732b27394fc5",
   "metadata": {},
   "outputs": [],
   "source": [
    "T3 = 1700.\n",
    "p3 = p2"
   ]
  },
  {
   "cell_type": "markdown",
   "id": "e9613dcc-aac2-45a5-8c38-9d5d1f510cc6",
   "metadata": {},
   "source": [
    "How much heat did that take?"
   ]
  },
  {
   "cell_type": "code",
   "execution_count": 10,
   "id": "51a36319-65f9-425b-9fd3-ad6b820c3588",
   "metadata": {},
   "outputs": [],
   "source": [
    "qh = air.h(T3,p3) - air.h(T2,p2)"
   ]
  },
  {
   "cell_type": "markdown",
   "id": "adc696ad-d69c-408c-a214-341db8afafa8",
   "metadata": {},
   "source": [
    "### Turbine"
   ]
  },
  {
   "cell_type": "markdown",
   "id": "5580b43f-567c-4408-bef2-a8cad60680f1",
   "metadata": {},
   "source": [
    "**|Turbine|** is where we finally get our useful work. Some of it will have to go to the compressor to keep things going.  The rest of it, we keep. The turbine outlet (4) is ambient pressure again, but its temperature will be based on the turbine performance."
   ]
  },
  {
   "cell_type": "code",
   "execution_count": 11,
   "id": "515164ec-d0b7-4f2f-bb5c-d5eadd0a17dd",
   "metadata": {},
   "outputs": [],
   "source": [
    "s3 = air.s(T3,p3)\n",
    "s4 = s3 # Isentropic expansion to p1\n",
    "p4 = p1\n",
    "T4 = air.T_s(s=s4,p=p4)"
   ]
  },
  {
   "cell_type": "markdown",
   "id": "72c8e6e7-b48a-4ba2-b93a-11c2d9ef7522",
   "metadata": {},
   "source": [
    "How much work did we get?"
   ]
  },
  {
   "cell_type": "code",
   "execution_count": 12,
   "id": "0384c792-4e45-4d1e-8be9-96450df6622d",
   "metadata": {},
   "outputs": [],
   "source": [
    "wt = air.h(T3,p3) - air.h(T4,p4)"
   ]
  },
  {
   "cell_type": "markdown",
   "id": "4ad23c2a-9c5b-4cee-a2f0-cb589ebed17e",
   "metadata": {},
   "source": [
    "How much is left after we keep the compressor running?"
   ]
  },
  {
   "cell_type": "code",
   "execution_count": 13,
   "id": "43b6420b-6af9-494f-99ae-f525d294daa4",
   "metadata": {},
   "outputs": [],
   "source": [
    "wnet = wt - wc"
   ]
  },
  {
   "cell_type": "markdown",
   "id": "55eb885b-d313-4f2d-a0d9-853f60c40fa3",
   "metadata": {},
   "source": [
    "How much mass flow do we need to hit our target power output?"
   ]
  },
  {
   "cell_type": "code",
   "execution_count": 14,
   "id": "aed4f27a-ce1f-4e79-b4ee-2ab65b437627",
   "metadata": {},
   "outputs": [],
   "source": [
    "mdot = Wnet / wnet"
   ]
  },
  {
   "cell_type": "markdown",
   "id": "10b62bfd-5e29-45a5-abb2-ae4da9ffe93c",
   "metadata": {},
   "source": [
    "What is our efficiency?"
   ]
  },
  {
   "cell_type": "code",
   "execution_count": 15,
   "id": "6972cd06-2d43-41c4-9ab7-87e6ae20a047",
   "metadata": {},
   "outputs": [],
   "source": [
    "n = wnet / qh"
   ]
  },
  {
   "cell_type": "markdown",
   "id": "785b4949-82ef-4e11-9db3-0d93fb007a31",
   "metadata": {
    "tags": []
   },
   "source": [
    "## Diagrams"
   ]
  },
  {
   "cell_type": "markdown",
   "id": "75046da7-b9cd-4391-9210-83d4135bbaea",
   "metadata": {},
   "source": [
    "Generate some process diagrams"
   ]
  },
  {
   "cell_type": "code",
   "execution_count": 16,
   "id": "07dbe1c3-4591-40c0-94f6-f3a0120610f1",
   "metadata": {},
   "outputs": [
    {
     "data": {
      "text/plain": [
       "<Figure size 432x288 with 0 Axes>"
      ]
     },
     "execution_count": 16,
     "metadata": {},
     "output_type": "execute_result"
    },
    {
     "data": {
      "text/plain": [
       "<Figure size 432x288 with 0 Axes>"
      ]
     },
     "metadata": {},
     "output_type": "display_data"
    }
   ],
   "source": [
    "plt.close('all')\n",
    "plt.figure(1)"
   ]
  },
  {
   "cell_type": "markdown",
   "id": "f708e858-2a04-489b-bccb-e99151ec4982",
   "metadata": {},
   "source": [
    "### isentropic compression is a vertical line"
   ]
  },
  {
   "cell_type": "code",
   "execution_count": 17,
   "id": "6061be2c-cd0e-4061-ba1e-b985cad057e8",
   "metadata": {},
   "outputs": [
    {
     "name": "stderr",
     "output_type": "stream",
     "text": [
      "/opt/anaconda3/lib/python3.9/site-packages/numpy/core/_asarray.py:171: VisibleDeprecationWarning: Creating an ndarray from ragged nested sequences (which is a list-or-tuple of lists-or-tuples-or ndarrays with different lengths or shapes) is deprecated. If you meant to do this, you must specify 'dtype=object' when creating the ndarray.\n",
      "  return array(a, dtype, copy=False, order=order, subok=True)\n"
     ]
    },
    {
     "data": {
      "text/plain": [
       "[<matplotlib.lines.Line2D at 0x7fc32fb954c0>]"
      ]
     },
     "execution_count": 17,
     "metadata": {},
     "output_type": "execute_result"
    },
    {
     "data": {
      "image/png": "[encoded data removed]",
      "text/plain": [
       "<Figure size 432x288 with 1 Axes>"
      ]
     },
     "metadata": {
      "needs_background": "light"
     },
     "output_type": "display_data"
    }
   ],
   "source": [
    "plt.plot([s1,s1],[T1,T2],'r',linewidth=1.5)"
   ]
  },
  {
   "cell_type": "markdown",
   "id": "435755b7-48db-4752-bd0f-adc2f8b4e60a",
   "metadata": {},
   "source": [
    "### constant pressure heat addition"
   ]
  },
  {
   "cell_type": "code",
   "execution_count": 18,
   "id": "4c9c26a3-b048-49aa-9e35-8d0110e7e513",
   "metadata": {},
   "outputs": [
    {
     "data": {
      "text/plain": [
       "[<matplotlib.lines.Line2D at 0x7fc32fcd2280>]"
      ]
     },
     "execution_count": 18,
     "metadata": {},
     "output_type": "execute_result"
    },
    {
     "data": {
      "image/png": "[encoded data removed]",
      "text/plain": [
       "<Figure size 432x288 with 1 Axes>"
      ]
     },
     "metadata": {
      "needs_background": "light"
     },
     "output_type": "display_data"
    }
   ],
   "source": [
    "T = np.linspace(T2,T3,20,dtype=object)\n",
    "plt.plot(air.s(T=T,p=p2),T,'r',linewidth=1.5)"
   ]
  },
  {
   "cell_type": "markdown",
   "id": "ca84471c-e840-4e8d-a27d-134e618c125e",
   "metadata": {},
   "source": [
    "### isentropic expansion"
   ]
  },
  {
   "cell_type": "code",
   "execution_count": 19,
   "id": "2608ab26-7fa5-477e-9046-975bd03a9db3",
   "metadata": {},
   "outputs": [
    {
     "name": "stderr",
     "output_type": "stream",
     "text": [
      "/opt/anaconda3/lib/python3.9/site-packages/numpy/core/_asarray.py:171: VisibleDeprecationWarning: Creating an ndarray from ragged nested sequences (which is a list-or-tuple of lists-or-tuples-or ndarrays with different lengths or shapes) is deprecated. If you meant to do this, you must specify 'dtype=object' when creating the ndarray.\n",
      "  return array(a, dtype, copy=False, order=order, subok=True)\n"
     ]
    },
    {
     "data": {
      "text/plain": [
       "[<matplotlib.lines.Line2D at 0x7fc32fdf0e80>]"
      ]
     },
     "execution_count": 19,
     "metadata": {},
     "output_type": "execute_result"
    },
    {
     "data": {
      "image/png": "[encoded data removed]",
      "text/plain": [
       "<Figure size 432x288 with 1 Axes>"
      ]
     },
     "metadata": {
      "needs_background": "light"
     },
     "output_type": "display_data"
    }
   ],
   "source": [
    "plt.plot([s3,s3],[T3,T4],'r',linewidth=1.5)"
   ]
  },
  {
   "cell_type": "markdown",
   "id": "c0283d22-1588-41d2-85f7-b06be652bb3c",
   "metadata": {},
   "source": [
    "### The pseudo heat rejection process "
   ]
  },
  {
   "cell_type": "code",
   "execution_count": 20,
   "id": "7c6b5b02-73b1-4dd5-8178-030aa8d777e3",
   "metadata": {},
   "outputs": [],
   "source": [
    "T = np.linspace(T1,T4,20)"
   ]
  },
  {
   "cell_type": "code",
   "execution_count": 21,
   "id": "020fb7bb-8cfe-4fb0-a82f-d5823ac0dece",
   "metadata": {},
   "outputs": [
    {
     "data": {
      "text/plain": [
       "[<matplotlib.lines.Line2D at 0x7fc32fef5610>]"
      ]
     },
     "execution_count": 21,
     "metadata": {},
     "output_type": "execute_result"
    },
    {
     "data": {
      "image/png": "[encoded data removed]",
      "text/plain": [
       "<Figure size 432x288 with 1 Axes>"
      ]
     },
     "metadata": {
      "needs_background": "light"
     },
     "output_type": "display_data"
    }
   ],
   "source": [
    "plt.plot(air.s(T=T,p=p1),T,'r--',linewidth=1.5)"
   ]
  },
  {
   "cell_type": "markdown",
   "id": "e34114d1-0835-4308-ab4a-3393cc3fd4dd",
   "metadata": {},
   "source": [
    "### broaden the axes ranges"
   ]
  },
  {
   "cell_type": "code",
   "execution_count": 22,
   "id": "9216976e-b4d6-4e51-b190-bfb1d3b3ce0a",
   "metadata": {},
   "outputs": [
    {
     "data": {
      "text/plain": [
       "(200.0, 2000.0)"
      ]
     },
     "execution_count": 22,
     "metadata": {},
     "output_type": "execute_result"
    },
    {
     "data": {
      "image/png": "[encoded data removed]",
      "text/plain": [
       "<Figure size 432x288 with 1 Axes>"
      ]
     },
     "metadata": {
      "needs_background": "light"
     },
     "output_type": "display_data"
    }
   ],
   "source": [
    "ax = plt.gca()\n",
    "ax.set_xlim([6.1,8.5])\n",
    "ax.set_ylim([200,2000])"
   ]
  },
  {
   "cell_type": "markdown",
   "id": "71c833b8-839b-4ec4-b294-f2d8af22f2bc",
   "metadata": {},
   "source": [
    "### add labels and turn on the grid"
   ]
  },
  {
   "cell_type": "code",
   "execution_count": 23,
   "id": "dca0293b-2ba3-47fb-af55-2572f964a780",
   "metadata": {},
   "outputs": [
    {
     "data": {
      "image/png": "[encoded data removed]",
      "text/plain": [
       "<Figure size 432x288 with 1 Axes>"
      ]
     },
     "metadata": {
      "needs_background": "light"
     },
     "output_type": "display_data"
    }
   ],
   "source": [
    "plt.xlabel('Entropy, s (kJ/kg/K)')\n",
    "plt.ylabel('Temperature, T (K)')\n",
    "plt.grid('on')"
   ]
  },
  {
   "cell_type": "markdown",
   "id": "2ed922f7-2a54-43de-be4f-2fb182d52d73",
   "metadata": {},
   "source": [
    "### Add state labels"
   ]
  },
  {
   "cell_type": "raw",
   "id": "9f71919c-2d0f-40aa-8d53-f74d94105006",
   "metadata": {},
   "source": [
    "plt.text(s1-.1,T1,'(1)\\nT={:.1f}\\np={:.3f}'.format(float(T1),float(p1)),\n",
    "    ha='right',backgroundcolor='white')\n",
    "plt.text(s1-.1,T2,'(2)\\nT={:.1f}\\np={:.3f}'.format(float(T2),float(p2)),\n",
    "    ha='right',backgroundcolor='white')\n",
    "plt.text(s3+.1,T3,'(3)\\nT={:.1f}\\np={:.3f}'.format(float(T3),float(p3)),\n",
    "    ha='left',backgroundcolor='white')\n",
    "plt.text(s3+.1,T4,'(4)\\nT={:.1f}\\np={:.3f}'.format(float(T4),float(p4)),\n",
    "    ha='left',backgroundcolor='white')"
   ]
  },
  {
   "cell_type": "code",
   "execution_count": 24,
   "id": "939faf0c-4839-4ab1-ac5a-3146eecaf0dd",
   "metadata": {},
   "outputs": [
    {
     "name": "stderr",
     "output_type": "stream",
     "text": [
      "/opt/anaconda3/lib/python3.9/site-packages/numpy/core/_asarray.py:171: VisibleDeprecationWarning: Creating an ndarray from ragged nested sequences (which is a list-or-tuple of lists-or-tuples-or ndarrays with different lengths or shapes) is deprecated. If you meant to do this, you must specify 'dtype=object' when creating the ndarray.\n",
      "  return array(a, dtype, copy=False, order=order, subok=True)\n",
      "/opt/anaconda3/lib/python3.9/site-packages/numpy/core/_asarray.py:171: VisibleDeprecationWarning: Creating an ndarray from ragged nested sequences (which is a list-or-tuple of lists-or-tuples-or ndarrays with different lengths or shapes) is deprecated. If you meant to do this, you must specify 'dtype=object' when creating the ndarray.\n",
      "  return array(a, dtype, copy=False, order=order, subok=True)\n"
     ]
    },
    {
     "data": {
      "text/plain": [
       "Text([7.98584986], [928.265504], '(4)\\nT=928.3\\np=1.013')"
      ]
     },
     "execution_count": 24,
     "metadata": {},
     "output_type": "execute_result"
    },
    {
     "data": {
      "image/png": "[encoded data removed]",
      "text/plain": [
       "<Figure size 432x288 with 1 Axes>"
      ]
     },
     "metadata": {
      "needs_background": "light"
     },
     "output_type": "display_data"
    }
   ],
   "source": [
    "plt.close('all')\n",
    "plt.figure(1)\n",
    "plt.plot([s1,s1],[T1,T2],'r',linewidth=1.5)\n",
    "T = np.linspace(T2,T3,20,dtype=object)\n",
    "plt.plot(air.s(T=T,p=p2),T,'r',linewidth=1.5)\n",
    "plt.plot([s3,s3],[T3,T4],'r',linewidth=1.5)\n",
    "T = np.linspace(T1,T4,20)\n",
    "plt.plot(air.s(T=T,p=p1),T,'r--',linewidth=1.5)\n",
    "ax = plt.gca()\n",
    "ax.set_xlim([6.1,8.5])\n",
    "ax.set_ylim([200,2000])\n",
    "plt.xlabel('Entropy, s (kJ/kg/K)')\n",
    "plt.ylabel('Temperature, T (K)')\n",
    "plt.grid('on')\n",
    "plt.text(s1-.1,T1,'(1)\\nT={:.1f}\\np={:.3f}'.format(float(T1),float(p1)),\n",
    "    ha='right',backgroundcolor='white')\n",
    "plt.text(s1-.1,T2,'(2)\\nT={:.1f}\\np={:.3f}'.format(float(T2),float(p2)),\n",
    "    ha='right',backgroundcolor='white')\n",
    "plt.text(s3+.1,T3,'(3)\\nT={:.1f}\\np={:.3f}'.format(float(T3),float(p3)),\n",
    "    ha='left',backgroundcolor='white')\n",
    "plt.text(s3+.1,T4,'(4)\\nT={:.1f}\\np={:.3f}'.format(float(T4),float(p4)),\n",
    "    ha='left',backgroundcolor='white')"
   ]
  },
  {
   "cell_type": "markdown",
   "id": "411ef1b5-126f-4e0e-bd8c-c4b43ad3aae7",
   "metadata": {},
   "source": [
    "### Add a summary"
   ]
  },
  {
   "cell_type": "code",
   "execution_count": 25,
   "id": "a4ad4a4e-cbf7-4730-9a1c-0653e9cad672",
   "metadata": {},
   "outputs": [
    {
     "ename": "ValueError",
     "evalue": "Image size of 2289x261022 pixels is too large. It must be less than 2^16 in each direction.",
     "output_type": "error",
     "traceback": [
      "\u001b[0;31m---------------------------------------------------------------------------\u001b[0m",
      "\u001b[0;31mValueError\u001b[0m                                Traceback (most recent call last)",
      "\u001b[0;32m/opt/anaconda3/lib/python3.9/site-packages/IPython/core/formatters.py\u001b[0m in \u001b[0;36m__call__\u001b[0;34m(self, obj)\u001b[0m\n\u001b[1;32m    339\u001b[0m                 \u001b[0;32mpass\u001b[0m\u001b[0;34m\u001b[0m\u001b[0;34m\u001b[0m\u001b[0m\n\u001b[1;32m    340\u001b[0m             \u001b[0;32melse\u001b[0m\u001b[0;34m:\u001b[0m\u001b[0;34m\u001b[0m\u001b[0;34m\u001b[0m\u001b[0m\n\u001b[0;32m--> 341\u001b[0;31m                 \u001b[0;32mreturn\u001b[0m \u001b[0mprinter\u001b[0m\u001b[0;34m(\u001b[0m\u001b[0mobj\u001b[0m\u001b[0;34m)\u001b[0m\u001b[0;34m\u001b[0m\u001b[0;34m\u001b[0m\u001b[0m\n\u001b[0m\u001b[1;32m    342\u001b[0m             \u001b[0;31m# Finally look for special method names\u001b[0m\u001b[0;34m\u001b[0m\u001b[0;34m\u001b[0m\u001b[0m\n\u001b[1;32m    343\u001b[0m             \u001b[0mmethod\u001b[0m \u001b[0;34m=\u001b[0m \u001b[0mget_real_method\u001b[0m\u001b[0;34m(\u001b[0m\u001b[0mobj\u001b[0m\u001b[0;34m,\u001b[0m \u001b[0mself\u001b[0m\u001b[0;34m.\u001b[0m\u001b[0mprint_method\u001b[0m\u001b[0;34m)\u001b[0m\u001b[0;34m\u001b[0m\u001b[0;34m\u001b[0m\u001b[0m\n",
      "\u001b[0;32m/opt/anaconda3/lib/python3.9/site-packages/IPython/core/pylabtools.py\u001b[0m in \u001b[0;36mprint_figure\u001b[0;34m(fig, fmt, bbox_inches, base64, **kwargs)\u001b[0m\n\u001b[1;32m    149\u001b[0m         \u001b[0mFigureCanvasBase\u001b[0m\u001b[0;34m(\u001b[0m\u001b[0mfig\u001b[0m\u001b[0;34m)\u001b[0m\u001b[0;34m\u001b[0m\u001b[0;34m\u001b[0m\u001b[0m\n\u001b[1;32m    150\u001b[0m \u001b[0;34m\u001b[0m\u001b[0m\n\u001b[0;32m--> 151\u001b[0;31m     \u001b[0mfig\u001b[0m\u001b[0;34m.\u001b[0m\u001b[0mcanvas\u001b[0m\u001b[0;34m.\u001b[0m\u001b[0mprint_figure\u001b[0m\u001b[0;34m(\u001b[0m\u001b[0mbytes_io\u001b[0m\u001b[0;34m,\u001b[0m \u001b[0;34m**\u001b[0m\u001b[0mkw\u001b[0m\u001b[0;34m)\u001b[0m\u001b[0;34m\u001b[0m\u001b[0;34m\u001b[0m\u001b[0m\n\u001b[0m\u001b[1;32m    152\u001b[0m     \u001b[0mdata\u001b[0m \u001b[0;34m=\u001b[0m \u001b[0mbytes_io\u001b[0m\u001b[0;34m.\u001b[0m\u001b[0mgetvalue\u001b[0m\u001b[0;34m(\u001b[0m\u001b[0;34m)\u001b[0m\u001b[0;34m\u001b[0m\u001b[0;34m\u001b[0m\u001b[0m\n\u001b[1;32m    153\u001b[0m     \u001b[0;32mif\u001b[0m \u001b[0mfmt\u001b[0m \u001b[0;34m==\u001b[0m \u001b[0;34m'svg'\u001b[0m\u001b[0;34m:\u001b[0m\u001b[0;34m\u001b[0m\u001b[0;34m\u001b[0m\u001b[0m\n",
      "\u001b[0;32m/opt/anaconda3/lib/python3.9/site-packages/matplotlib/backend_bases.py\u001b[0m in \u001b[0;36mprint_figure\u001b[0;34m(self, filename, dpi, facecolor, edgecolor, orientation, format, bbox_inches, pad_inches, bbox_extra_artists, backend, **kwargs)\u001b[0m\n\u001b[1;32m   2253\u001b[0m                 \u001b[0;31m# force the figure dpi to 72), so we need to set it again here.\u001b[0m\u001b[0;34m\u001b[0m\u001b[0;34m\u001b[0m\u001b[0m\n\u001b[1;32m   2254\u001b[0m                 \u001b[0;32mwith\u001b[0m \u001b[0mcbook\u001b[0m\u001b[0;34m.\u001b[0m\u001b[0m_setattr_cm\u001b[0m\u001b[0;34m(\u001b[0m\u001b[0mself\u001b[0m\u001b[0;34m.\u001b[0m\u001b[0mfigure\u001b[0m\u001b[0;34m,\u001b[0m \u001b[0mdpi\u001b[0m\u001b[0;34m=\u001b[0m\u001b[0mdpi\u001b[0m\u001b[0;34m)\u001b[0m\u001b[0;34m:\u001b[0m\u001b[0;34m\u001b[0m\u001b[0;34m\u001b[0m\u001b[0m\n\u001b[0;32m-> 2255\u001b[0;31m                     result = print_method(\n\u001b[0m\u001b[1;32m   2256\u001b[0m                         \u001b[0mfilename\u001b[0m\u001b[0;34m,\u001b[0m\u001b[0;34m\u001b[0m\u001b[0;34m\u001b[0m\u001b[0m\n\u001b[1;32m   2257\u001b[0m                         \u001b[0mfacecolor\u001b[0m\u001b[0;34m=\u001b[0m\u001b[0mfacecolor\u001b[0m\u001b[0;34m,\u001b[0m\u001b[0;34m\u001b[0m\u001b[0;34m\u001b[0m\u001b[0m\n",
      "\u001b[0;32m/opt/anaconda3/lib/python3.9/site-packages/matplotlib/backend_bases.py\u001b[0m in \u001b[0;36mwrapper\u001b[0;34m(*args, **kwargs)\u001b[0m\n\u001b[1;32m   1667\u001b[0m             \u001b[0mkwargs\u001b[0m\u001b[0;34m.\u001b[0m\u001b[0mpop\u001b[0m\u001b[0;34m(\u001b[0m\u001b[0marg\u001b[0m\u001b[0;34m)\u001b[0m\u001b[0;34m\u001b[0m\u001b[0;34m\u001b[0m\u001b[0m\n\u001b[1;32m   1668\u001b[0m \u001b[0;34m\u001b[0m\u001b[0m\n\u001b[0;32m-> 1669\u001b[0;31m         \u001b[0;32mreturn\u001b[0m \u001b[0mfunc\u001b[0m\u001b[0;34m(\u001b[0m\u001b[0;34m*\u001b[0m\u001b[0margs\u001b[0m\u001b[0;34m,\u001b[0m \u001b[0;34m**\u001b[0m\u001b[0mkwargs\u001b[0m\u001b[0;34m)\u001b[0m\u001b[0;34m\u001b[0m\u001b[0;34m\u001b[0m\u001b[0m\n\u001b[0m\u001b[1;32m   1670\u001b[0m \u001b[0;34m\u001b[0m\u001b[0m\n\u001b[1;32m   1671\u001b[0m     \u001b[0;32mreturn\u001b[0m \u001b[0mwrapper\u001b[0m\u001b[0;34m\u001b[0m\u001b[0;34m\u001b[0m\u001b[0m\n",
      "\u001b[0;32m/opt/anaconda3/lib/python3.9/site-packages/matplotlib/backends/backend_agg.py\u001b[0m in \u001b[0;36mprint_png\u001b[0;34m(self, filename_or_obj, metadata, pil_kwargs, *args)\u001b[0m\n\u001b[1;32m    506\u001b[0m             \u001b[0;34m*\u001b[0m\u001b[0mmetadata\u001b[0m\u001b[0;34m*\u001b[0m\u001b[0;34m,\u001b[0m \u001b[0mincluding\u001b[0m \u001b[0mthe\u001b[0m \u001b[0mdefault\u001b[0m \u001b[0;34m'Software'\u001b[0m \u001b[0mkey\u001b[0m\u001b[0;34m.\u001b[0m\u001b[0;34m\u001b[0m\u001b[0;34m\u001b[0m\u001b[0m\n\u001b[1;32m    507\u001b[0m         \"\"\"\n\u001b[0;32m--> 508\u001b[0;31m         \u001b[0mFigureCanvasAgg\u001b[0m\u001b[0;34m.\u001b[0m\u001b[0mdraw\u001b[0m\u001b[0;34m(\u001b[0m\u001b[0mself\u001b[0m\u001b[0;34m)\u001b[0m\u001b[0;34m\u001b[0m\u001b[0;34m\u001b[0m\u001b[0m\n\u001b[0m\u001b[1;32m    509\u001b[0m         mpl.image.imsave(\n\u001b[1;32m    510\u001b[0m             \u001b[0mfilename_or_obj\u001b[0m\u001b[0;34m,\u001b[0m \u001b[0mself\u001b[0m\u001b[0;34m.\u001b[0m\u001b[0mbuffer_rgba\u001b[0m\u001b[0;34m(\u001b[0m\u001b[0;34m)\u001b[0m\u001b[0;34m,\u001b[0m \u001b[0mformat\u001b[0m\u001b[0;34m=\u001b[0m\u001b[0;34m\"png\"\u001b[0m\u001b[0;34m,\u001b[0m \u001b[0morigin\u001b[0m\u001b[0;34m=\u001b[0m\u001b[0;34m\"upper\"\u001b[0m\u001b[0;34m,\u001b[0m\u001b[0;34m\u001b[0m\u001b[0;34m\u001b[0m\u001b[0m\n",
      "\u001b[0;32m/opt/anaconda3/lib/python3.9/site-packages/matplotlib/backends/backend_agg.py\u001b[0m in \u001b[0;36mdraw\u001b[0;34m(self)\u001b[0m\n\u001b[1;32m    399\u001b[0m     \u001b[0;32mdef\u001b[0m \u001b[0mdraw\u001b[0m\u001b[0;34m(\u001b[0m\u001b[0mself\u001b[0m\u001b[0;34m)\u001b[0m\u001b[0;34m:\u001b[0m\u001b[0;34m\u001b[0m\u001b[0;34m\u001b[0m\u001b[0m\n\u001b[1;32m    400\u001b[0m         \u001b[0;31m# docstring inherited\u001b[0m\u001b[0;34m\u001b[0m\u001b[0;34m\u001b[0m\u001b[0m\n\u001b[0;32m--> 401\u001b[0;31m         \u001b[0mself\u001b[0m\u001b[0;34m.\u001b[0m\u001b[0mrenderer\u001b[0m \u001b[0;34m=\u001b[0m \u001b[0mself\u001b[0m\u001b[0;34m.\u001b[0m\u001b[0mget_renderer\u001b[0m\u001b[0;34m(\u001b[0m\u001b[0mcleared\u001b[0m\u001b[0;34m=\u001b[0m\u001b[0;32mTrue\u001b[0m\u001b[0;34m)\u001b[0m\u001b[0;34m\u001b[0m\u001b[0;34m\u001b[0m\u001b[0m\n\u001b[0m\u001b[1;32m    402\u001b[0m         \u001b[0;31m# Acquire a lock on the shared font cache.\u001b[0m\u001b[0;34m\u001b[0m\u001b[0;34m\u001b[0m\u001b[0m\n\u001b[1;32m    403\u001b[0m         \u001b[0;32mwith\u001b[0m \u001b[0mRendererAgg\u001b[0m\u001b[0;34m.\u001b[0m\u001b[0mlock\u001b[0m\u001b[0;34m,\u001b[0m\u001b[0;31m \u001b[0m\u001b[0;31m\\\u001b[0m\u001b[0;34m\u001b[0m\u001b[0;34m\u001b[0m\u001b[0m\n",
      "\u001b[0;32m/opt/anaconda3/lib/python3.9/site-packages/matplotlib/backends/backend_agg.py\u001b[0m in \u001b[0;36mget_renderer\u001b[0;34m(self, cleared)\u001b[0m\n\u001b[1;32m    415\u001b[0m                           and getattr(self, \"_lastKey\", None) == key)\n\u001b[1;32m    416\u001b[0m         \u001b[0;32mif\u001b[0m \u001b[0;32mnot\u001b[0m \u001b[0mreuse_renderer\u001b[0m\u001b[0;34m:\u001b[0m\u001b[0;34m\u001b[0m\u001b[0;34m\u001b[0m\u001b[0m\n\u001b[0;32m--> 417\u001b[0;31m             \u001b[0mself\u001b[0m\u001b[0;34m.\u001b[0m\u001b[0mrenderer\u001b[0m \u001b[0;34m=\u001b[0m \u001b[0mRendererAgg\u001b[0m\u001b[0;34m(\u001b[0m\u001b[0mw\u001b[0m\u001b[0;34m,\u001b[0m \u001b[0mh\u001b[0m\u001b[0;34m,\u001b[0m \u001b[0mself\u001b[0m\u001b[0;34m.\u001b[0m\u001b[0mfigure\u001b[0m\u001b[0;34m.\u001b[0m\u001b[0mdpi\u001b[0m\u001b[0;34m)\u001b[0m\u001b[0;34m\u001b[0m\u001b[0;34m\u001b[0m\u001b[0m\n\u001b[0m\u001b[1;32m    418\u001b[0m             \u001b[0mself\u001b[0m\u001b[0;34m.\u001b[0m\u001b[0m_lastKey\u001b[0m \u001b[0;34m=\u001b[0m \u001b[0mkey\u001b[0m\u001b[0;34m\u001b[0m\u001b[0;34m\u001b[0m\u001b[0m\n\u001b[1;32m    419\u001b[0m         \u001b[0;32melif\u001b[0m \u001b[0mcleared\u001b[0m\u001b[0;34m:\u001b[0m\u001b[0;34m\u001b[0m\u001b[0;34m\u001b[0m\u001b[0m\n",
      "\u001b[0;32m/opt/anaconda3/lib/python3.9/site-packages/matplotlib/backends/backend_agg.py\u001b[0m in \u001b[0;36m__init__\u001b[0;34m(self, width, height, dpi)\u001b[0m\n\u001b[1;32m     89\u001b[0m         \u001b[0mself\u001b[0m\u001b[0;34m.\u001b[0m\u001b[0mwidth\u001b[0m \u001b[0;34m=\u001b[0m \u001b[0mwidth\u001b[0m\u001b[0;34m\u001b[0m\u001b[0;34m\u001b[0m\u001b[0m\n\u001b[1;32m     90\u001b[0m         \u001b[0mself\u001b[0m\u001b[0;34m.\u001b[0m\u001b[0mheight\u001b[0m \u001b[0;34m=\u001b[0m \u001b[0mheight\u001b[0m\u001b[0;34m\u001b[0m\u001b[0;34m\u001b[0m\u001b[0m\n\u001b[0;32m---> 91\u001b[0;31m         \u001b[0mself\u001b[0m\u001b[0;34m.\u001b[0m\u001b[0m_renderer\u001b[0m \u001b[0;34m=\u001b[0m \u001b[0m_RendererAgg\u001b[0m\u001b[0;34m(\u001b[0m\u001b[0mint\u001b[0m\u001b[0;34m(\u001b[0m\u001b[0mwidth\u001b[0m\u001b[0;34m)\u001b[0m\u001b[0;34m,\u001b[0m \u001b[0mint\u001b[0m\u001b[0;34m(\u001b[0m\u001b[0mheight\u001b[0m\u001b[0;34m)\u001b[0m\u001b[0;34m,\u001b[0m \u001b[0mdpi\u001b[0m\u001b[0;34m)\u001b[0m\u001b[0;34m\u001b[0m\u001b[0;34m\u001b[0m\u001b[0m\n\u001b[0m\u001b[1;32m     92\u001b[0m         \u001b[0mself\u001b[0m\u001b[0;34m.\u001b[0m\u001b[0m_filter_renderers\u001b[0m \u001b[0;34m=\u001b[0m \u001b[0;34m[\u001b[0m\u001b[0;34m]\u001b[0m\u001b[0;34m\u001b[0m\u001b[0;34m\u001b[0m\u001b[0m\n\u001b[1;32m     93\u001b[0m \u001b[0;34m\u001b[0m\u001b[0m\n",
      "\u001b[0;31mValueError\u001b[0m: Image size of 2289x261022 pixels is too large. It must be less than 2^16 in each direction."
     ]
    },
    {
     "data": {
      "text/plain": [
       "<Figure size 432x288 with 1 Axes>"
      ]
     },
     "metadata": {
      "needs_background": "light"
     },
     "output_type": "display_data"
    }
   ],
   "source": [
    "plt.text(6.5,1200,\n",
    "\"\"\"$\\dot{{m}}$ = {:.3f}kg/s\n",
    "$p_r$={:.1f}\n",
    "$\\eta$={:.3f}\n",
    "$\\dot{{W}}_{{net}}$={:1}kW\"\"\".format(float(mdot),float(pr),float(n),float(Wnet)),\n",
    "    backgroundcolor='white')\n",
    "plt.title('Brayton Cycle T-s Diagram')\n",
    "\n",
    "plt.show()\n",
    "#plt.show(block=False)"
   ]
  },
  {
   "cell_type": "code",
   "execution_count": null,
   "id": "be107133-e844-450a-989a-829485915d80",
   "metadata": {},
   "outputs": [],
   "source": []
  }
 ],
 "metadata": {
  "kernelspec": {
   "display_name": "Python 3 (ipykernel)",
   "language": "python",
   "name": "python3"
  },
  "language_info": {
   "codemirror_mode": {
    "name": "ipython",
    "version": 3
   },
   "file_extension": ".py",
   "mimetype": "text/x-python",
   "name": "python",
   "nbconvert_exporter": "python",
   "pygments_lexer": "ipython3",
   "version": "3.9.7"
  }
 },
 "nbformat": 4,
 "nbformat_minor": 5
}
