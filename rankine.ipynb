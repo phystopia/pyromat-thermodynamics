{
 "cells": [
  {
   "cell_type": "markdown",
   "id": "9ef3f740-75a2-43a3-bcc7-1d69ecd6742d",
   "metadata": {
    "tags": []
   },
   "source": [
    "# A Rankine cycle analysis"
   ]
  },
  {
   "cell_type": "markdown",
   "id": "84f615b1-5d4e-4f5c-9e63-7b89047d1d12",
   "metadata": {},
   "source": [
    "Of all the thermodynamic engine cycles, arguably none has had so substantial impact on our society and culture as the Rankine cycle; though the Diesel and Otto cycles might have something to say about that. The Rankine cycle is sometimes known as the steam engine. In addition to driving the industrial revolution, fueling the rise of rail around the world, and powering the first ships that could \"sail\" into the wind, the Rankine cycle still provides most of the world's electricity in nuclear, coal, and even the back-end of combined-cycle gas turbine plants.<br><br>\n",
    "The Rankine cycle usually uses water as its working fluid. Despite its unfortunate corrosive properties, water is quite remarkable for its high specific heat and latent heat of vaporization. The Rankine cycle uses four or five steps to separate four or five states:<br><br>\n",
    "(1) a pump pressurizes liquid water from a low-pressure reservoir, <br>\n",
    "(2) a boiler heats the liquid water to a boil, <br>\n",
    "(2b) sometimes, a \"super-heater\" is added to continue heating the steam, <br>\n",
    "(3) a turbine or piston expands the steam to produce work, and <br>\n",
    "(4) a condenser cools the fluid back to a liquid before returning it to the reservoir. <br><br>\n",
    "Here is an example analysis to calculate the mass flow of water needed to produce 100kW with a boiler at 250psi, and a super-heater. The super-heater heat is calculated so that the piston/turbine output is a saturated vapor."
   ]
  },
  {
   "cell_type": "markdown",
   "id": "c8692447-bb92-46e5-9913-90f0f098d7e3",
   "metadata": {
    "tags": []
   },
   "source": [
    "# Rankine cycle analysis"
   ]
  },
  {
   "cell_type": "markdown",
   "id": "a0e6224c-7f34-465c-8ac1-185c4b6039a8",
   "metadata": {},
   "source": [
    "C.R. Martin (c) 2016-2018 <br>\n",
    "GPL v3.0 <br>\n",
    "Enjoy!"
   ]
  },
  {
   "cell_type": "markdown",
   "id": "ccec5daa-4259-428a-a349-f4fc85e98d7d",
   "metadata": {},
   "source": [
    "A Rankine cycle is a closed loop usually using water as the working fluid. A low-pressure reservoir contains liquid.  The liquid is pumped into a high pressure boiler, where steam is generated. Optionally, the steam is further super-heated beyond its saturation temperature.  The steam is then passed through a turbine (or piston) where useful work is extracted.  Finally, waste heat is rejected and the remaining steam is condensed into liquid before being returned to the reservoir."
   ]
  },
  {
   "cell_type": "raw",
   "id": "2907ba7a-c9c5-4839-b659-4359b1dcf0bd",
   "metadata": {},
   "source": [
    "(1 Reservoir) --> |Feed water pump| --> (2) --> |Boiler| --> (3)<br>\n",
    "    ^                                                         |<br>\n",
    "    |                                                         |<br>\n",
    "|Condenser| <-- (5) <-- |Turbine| <-- (4) <-- |Superheater| <-"
   ]
  },
  {
   "cell_type": "markdown",
   "id": "7b30092b-afe4-4e9c-9563-472ba5e4f908",
   "metadata": {},
   "source": [
    "Given the high and low pressures, this code determines the processes so that the turbine exit (5) is precisely saturated steam."
   ]
  },
  {
   "cell_type": "code",
   "execution_count": 1,
   "id": "f5aa6dd2-103b-4e50-8209-2b041bd88038",
   "metadata": {},
   "outputs": [],
   "source": [
    "import pyromat as pyro\n",
    "import numpy as np\n",
    "import matplotlib.pyplot as plt"
   ]
  },
  {
   "cell_type": "markdown",
   "id": "b7248a4b-b5b1-4adc-84af-8a8d6c0387ab",
   "metadata": {},
   "source": [
    "Use different color codes to change the color of the plots"
   ]
  },
  {
   "cell_type": "code",
   "execution_count": 2,
   "id": "0b3d314b-7638-4d1d-8628-eab61ac35129",
   "metadata": {},
   "outputs": [],
   "source": [
    "color = 'r'    # Red\n",
    "#color = 'b'   # Blue"
   ]
  },
  {
   "cell_type": "markdown",
   "id": "3000de96-0230-4183-88db-16eabff99042",
   "metadata": {},
   "source": [
    "This is a True/False flag to deactivate the plot text"
   ]
  },
  {
   "cell_type": "code",
   "execution_count": 3,
   "id": "64ef8f6b-67a1-415e-ad1c-2916f10e8f51",
   "metadata": {},
   "outputs": [],
   "source": [
    "show_text = True"
   ]
  },
  {
   "cell_type": "markdown",
   "id": "166f6db1-e00b-475a-b44f-eb003f04acd4",
   "metadata": {},
   "source": [
    "This is a True/False flag to allow over-plotting of previous results"
   ]
  },
  {
   "cell_type": "code",
   "execution_count": 4,
   "id": "d187cb2e-9427-46a1-b930-dfeeaaf830ac",
   "metadata": {},
   "outputs": [],
   "source": [
    "clear_plots = False"
   ]
  },
  {
   "cell_type": "markdown",
   "id": "4102ebf6-fbe2-42a0-8178-8bfd4c911e83",
   "metadata": {},
   "source": [
    "Liquid water reservoir is at ambient pressure"
   ]
  },
  {
   "cell_type": "code",
   "execution_count": 5,
   "id": "3f30436f-bad5-486d-84d5-82f05f0f9048",
   "metadata": {},
   "outputs": [],
   "source": [
    "p1 = 1.013"
   ]
  },
  {
   "cell_type": "markdown",
   "id": "6ade299b-9e0b-4155-98fd-92e9381110cc",
   "metadata": {},
   "source": [
    "Operating pressure of the boiler"
   ]
  },
  {
   "cell_type": "code",
   "execution_count": 6,
   "id": "f9623e69-195a-4b1a-8ea3-7a62b0acbf58",
   "metadata": {},
   "outputs": [],
   "source": [
    "p2 = 18.3   # 18.3 bar is roughly 250 psig\n",
    "#p2 = 11.4  # 11.4 bar is roughly 150 psig"
   ]
  },
  {
   "cell_type": "markdown",
   "id": "8cc4a5bd-db70-4a64-92f6-6eae6acd9848",
   "metadata": {},
   "source": [
    "How much work do we need?"
   ]
  },
  {
   "cell_type": "code",
   "execution_count": 7,
   "id": "30711be3-35d9-4c71-9727-d52829d41d70",
   "metadata": {},
   "outputs": [],
   "source": [
    "Wnet = 100. # Let's make a 100kW engine"
   ]
  },
  {
   "cell_type": "markdown",
   "id": "92dd9243-9b07-4169-a11c-06e4ba077d6f",
   "metadata": {},
   "source": [
    "Get the steam data"
   ]
  },
  {
   "cell_type": "code",
   "execution_count": 8,
   "id": "b54115ef-3d73-4257-80e1-90c8452ebd02",
   "metadata": {},
   "outputs": [],
   "source": [
    "steam = pyro.get('mp.H2O')"
   ]
  },
  {
   "cell_type": "markdown",
   "id": "8832dc4c-8a4f-4633-aa06-11603e327c6d",
   "metadata": {},
   "source": [
    "Assume the reservoir is a saturated liquid, as it would likely be coming out of the condenser.  In reality some supercooling is likely, but we will neglect it here. States (5) and (1) will straddle the dome"
   ]
  },
  {
   "cell_type": "code",
   "execution_count": 9,
   "id": "7463a451-575f-4df6-a7c9-fa77aab33669",
   "metadata": {},
   "outputs": [],
   "source": [
    "T1 = steam.Ts(p1)\n",
    "p5=p1   # Since it is spanning the done, (5) and (1) share T and p\n",
    "T5=T1\n",
    "h1,h5 = steam.hs(T=T1)\n",
    "s1,s5 = steam.ss(T=T1)\n",
    "d1,d5 = steam.ds(T=T1)"
   ]
  },
  {
   "cell_type": "markdown",
   "id": "fcb74e67-4ee4-4db1-a1dd-ce3febd8dda4",
   "metadata": {},
   "source": [
    "Isentropic compression of liquid water. It is common to assume that T1=T2 since liquid is very close to incompressible.  To compare results, remove the comment from the second line below."
   ]
  },
  {
   "cell_type": "code",
   "execution_count": 10,
   "id": "23f4bf00-3fa4-433a-b096-c054fdd2f6f2",
   "metadata": {},
   "outputs": [],
   "source": [
    "T2 = steam.T_s(p=p2,s=s1)\n",
    "#T2 = T1\n",
    "h2,s2,d2 = steam.hsd(T=T2,p=p2)"
   ]
  },
  {
   "cell_type": "markdown",
   "id": "926d945b-a3eb-4649-b23e-60c526db7ac7",
   "metadata": {},
   "source": [
    "The boiler will span the dome <br>\n",
    "s2s, h2s, and T2s are the points where the process enters the dome"
   ]
  },
  {
   "cell_type": "code",
   "execution_count": 11,
   "id": "6fa43b65-853e-4413-a2ed-d56001e88214",
   "metadata": {},
   "outputs": [],
   "source": [
    "T3 = steam.Ts(p=p2)\n",
    "p3 = p2\n",
    "p2s = p2\n",
    "T2s = T3\n",
    "s2s,s3 = steam.ss(T=T3) # these are faster with T and p\n",
    "h2s,h3 = steam.hs(T=T3) # specified\n",
    "d2s,d3 = steam.ds(T=T3)"
   ]
  },
  {
   "cell_type": "markdown",
   "id": "d67458dd-0f2a-4a7b-9c10-38b656b37f8f",
   "metadata": {},
   "source": [
    "The turbine is an isentropic expansion to the low pressure <br>\n",
    "The superheater will end with the same entropy as s5"
   ]
  },
  {
   "cell_type": "code",
   "execution_count": 12,
   "id": "9fbdbe3f-4f1a-4d05-b7fb-a309dd460947",
   "metadata": {},
   "outputs": [],
   "source": [
    "p4 = p3\n",
    "T4 = steam.T_s(s=s5,p=p4)\n",
    "h4,s4,d4 = steam.hsd(T=T4,p=p4)"
   ]
  },
  {
   "cell_type": "markdown",
   "id": "e1b53ebc-3235-4355-8be1-878839a3402e",
   "metadata": {},
   "source": [
    "State (5) is already determined"
   ]
  },
  {
   "cell_type": "markdown",
   "id": "ac0b49aa-d7b4-4260-a8fb-d5b82804a22a",
   "metadata": {},
   "source": [
    "All the states are known, now. <br>\n",
    "How much work did the feed water pump do? <br>\n",
    "This might also be approximated as volume flow times pressure change."
   ]
  },
  {
   "cell_type": "code",
   "execution_count": 13,
   "id": "64d9f5b7-2cfd-4a19-8c3b-542cf11d023b",
   "metadata": {},
   "outputs": [],
   "source": [
    "w12 = -(h2-h1)"
   ]
  },
  {
   "cell_type": "markdown",
   "id": "68e9b263-3fda-40dd-892b-27da5b60f19c",
   "metadata": {},
   "source": [
    "How much heat did the boiler add?"
   ]
  },
  {
   "cell_type": "code",
   "execution_count": 14,
   "id": "529bec10-a1f3-474d-88c6-fee23bec6171",
   "metadata": {},
   "outputs": [],
   "source": [
    "q23 = h3-h2"
   ]
  },
  {
   "cell_type": "markdown",
   "id": "fc34c648-22ab-4faf-9a12-8bd26128699c",
   "metadata": {},
   "source": [
    "How much heat did the superheater add?"
   ]
  },
  {
   "cell_type": "code",
   "execution_count": 15,
   "id": "847249c3-e50a-44b2-9653-a137b51488d6",
   "metadata": {},
   "outputs": [],
   "source": [
    "q34 = h4-h3"
   ]
  },
  {
   "cell_type": "markdown",
   "id": "ffcb7a9a-56df-4d5c-9022-6b13c35a3ad5",
   "metadata": {},
   "source": [
    "How much work did the turbine produce"
   ]
  },
  {
   "cell_type": "code",
   "execution_count": 16,
   "id": "1cb2b63d-1957-46f3-a5ed-24c4f71531f5",
   "metadata": {},
   "outputs": [],
   "source": [
    "w45 = -(h5-h4)"
   ]
  },
  {
   "cell_type": "markdown",
   "id": "03c18449-b61d-4c97-9e9d-37789534da6a",
   "metadata": {},
   "source": [
    "How much heat is rejected by the condenser?"
   ]
  },
  {
   "cell_type": "code",
   "execution_count": 17,
   "id": "592cdf5d-bdcd-43f4-9b26-269c0db02d4a",
   "metadata": {},
   "outputs": [],
   "source": [
    "q51 = h1-h5"
   ]
  },
  {
   "cell_type": "markdown",
   "id": "35d326af-a669-4ea3-9766-06e2b13b1293",
   "metadata": {},
   "source": [
    "calculate the net work per kg of water"
   ]
  },
  {
   "cell_type": "code",
   "execution_count": 18,
   "id": "29be9c21-2b78-4eb3-a149-1aaf125dbc71",
   "metadata": {},
   "outputs": [],
   "source": [
    "wnet = w45 + w12"
   ]
  },
  {
   "cell_type": "markdown",
   "id": "29a9744d-9f79-4086-ab93-c3caecff616a",
   "metadata": {},
   "source": [
    "calculate the total heat addition"
   ]
  },
  {
   "cell_type": "code",
   "execution_count": 19,
   "id": "85db01b9-bb75-4071-b8b6-2d2b42d21c87",
   "metadata": {},
   "outputs": [],
   "source": [
    "qh = q23 + q34"
   ]
  },
  {
   "cell_type": "markdown",
   "id": "390ef0ba-2daa-444b-bcc7-36ccf0bf46c7",
   "metadata": {},
   "source": [
    "calculate the mass flow required to size the engine"
   ]
  },
  {
   "cell_type": "code",
   "execution_count": 20,
   "id": "b1b8da3c-3e29-423a-ae14-91dffc0f3215",
   "metadata": {},
   "outputs": [],
   "source": [
    "mdot = Wnet/wnet"
   ]
  },
  {
   "cell_type": "markdown",
   "id": "19eb9f02-6abf-4acb-8521-342954a79cdc",
   "metadata": {},
   "source": [
    "calculate the engine's efficiency"
   ]
  },
  {
   "cell_type": "code",
   "execution_count": 21,
   "id": "b4cb8e2f-645c-4db2-866c-7c0d0b33ecd3",
   "metadata": {},
   "outputs": [],
   "source": [
    "n = wnet/qh"
   ]
  },
  {
   "cell_type": "markdown",
   "id": "5cc04473-639c-4b4e-984e-8e3018a631fe",
   "metadata": {},
   "source": [
    "heats"
   ]
  },
  {
   "cell_type": "code",
   "execution_count": 22,
   "id": "1cac538a-0515-4b75-8efe-cf7b43949f7b",
   "metadata": {},
   "outputs": [],
   "source": [
    "Qboil = q23 * mdot\n",
    "Qsuper = q34 * mdot"
   ]
  },
  {
   "cell_type": "markdown",
   "id": "0ee0a74a-4635-4362-b778-87a35ffc7961",
   "metadata": {},
   "source": [
    "## Generate some diagrams"
   ]
  },
  {
   "cell_type": "markdown",
   "id": "dad29c51-9a2b-40f5-a2e8-d46d0bf75b15",
   "metadata": {},
   "source": [
    "Let figure 1 be a T-s diagram"
   ]
  },
  {
   "cell_type": "code",
   "execution_count": 23,
   "id": "7bf8280b-c072-4fa4-bbd4-e46755943aa8",
   "metadata": {},
   "outputs": [
    {
     "data": {
      "text/plain": [
       "Text(0.5, 1.0, 'Rankine Cycle T-s Diagram')"
      ]
     },
     "execution_count": 23,
     "metadata": {},
     "output_type": "execute_result"
    },
    {
     "data": {
      "image/png": "[encoded data removed]",
      "text/plain": [
       "<Figure size 432x288 with 1 Axes>"
      ]
     },
     "metadata": {
      "needs_background": "light"
     },
     "output_type": "display_data"
    }
   ],
   "source": [
    "f1 = plt.figure(1)\n",
    "if clear_plots:\n",
    "    plt.clf()\n",
    "ax1 = f1.add_subplot(111)\n",
    "ax1.set_xlabel('Entropy, s (kJ/kg/K)')\n",
    "ax1.set_ylabel('Temperature, T (K)')\n",
    "ax1.set_title('Rankine Cycle T-s Diagram')"
   ]
  },
  {
   "cell_type": "markdown",
   "id": "231e8ea4-9bc7-4d41-b2bd-ac7df1f3f68f",
   "metadata": {},
   "source": [
    "Let figure 2 be a P-v diagram"
   ]
  },
  {
   "cell_type": "code",
   "execution_count": 24,
   "id": "388f7883-9fa8-43a7-954a-a333ed390e5d",
   "metadata": {},
   "outputs": [
    {
     "data": {
      "text/plain": [
       "Text(0.5, 1.0, 'Rankine Cycle p-v Diagram')"
      ]
     },
     "execution_count": 24,
     "metadata": {},
     "output_type": "execute_result"
    },
    {
     "data": {
      "image/png": "[encoded data removed]",
      "text/plain": [
       "<Figure size 432x288 with 1 Axes>"
      ]
     },
     "metadata": {
      "needs_background": "light"
     },
     "output_type": "display_data"
    }
   ],
   "source": [
    "f2 = plt.figure(2)\n",
    "if clear_plots:\n",
    "    plt.clf()\n",
    "ax2 = f2.add_subplot(111)\n",
    "ax2.set_ylabel('Pressure, p (bar)')\n",
    "ax2.set_xlabel('Volume, v (m$^3$/kg)')\n",
    "ax2.set_title('Rankine Cycle p-v Diagram')"
   ]
  },
  {
   "cell_type": "markdown",
   "id": "01f27272-4169-4428-9a50-abb100c2d5a9",
   "metadata": {},
   "source": [
    "Generate the dome on both plots"
   ]
  },
  {
   "cell_type": "code",
   "execution_count": 25,
   "id": "6f71ac76-a2bc-4491-a8e2-72c6d101d57f",
   "metadata": {},
   "outputs": [
    {
     "data": {
      "text/plain": [
       "[<matplotlib.lines.Line2D at 0x7fb309f62400>]"
      ]
     },
     "execution_count": 25,
     "metadata": {},
     "output_type": "execute_result"
    }
   ],
   "source": [
    "Tt,pt = steam.triple()\n",
    "Tc,pc = steam.critical()\n",
    "T = np.arange(Tt,Tc,2.5)\n",
    "p = steam.ps(T)\n",
    "dL,dV = steam.ds(T=T)\n",
    "sL,sV = steam.ss(T=T)\n",
    "ax1.plot(sL,T,'k')\n",
    "ax1.plot(sV,T,'k')\n",
    "ax2.plot(1./dL,p,'k')\n",
    "ax2.plot(1./dV,p,'k')"
   ]
  },
  {
   "cell_type": "markdown",
   "id": "20499256-7147-4a37-a6c1-76a76010dd7c",
   "metadata": {},
   "source": [
    "Process 1-2 (isentropic compression of a liquid)"
   ]
  },
  {
   "cell_type": "code",
   "execution_count": 26,
   "id": "61018f96-da5c-4ea9-a2c6-04e532718ef7",
   "metadata": {},
   "outputs": [
    {
     "data": {
      "text/plain": [
       "[<matplotlib.lines.Line2D at 0x7fb309f6cb20>]"
      ]
     },
     "execution_count": 26,
     "metadata": {},
     "output_type": "execute_result"
    }
   ],
   "source": [
    "p = np.array([p1,p2])\n",
    "T = np.array([T1,T2])\n",
    "d = np.array([d1,d2])\n",
    "s = np.array([s1,s2])\n",
    "ax1.plot(s,T,color,linewidth=1.5)\n",
    "ax2.plot(1./d,p,color,linewidth=1.5)"
   ]
  },
  {
   "cell_type": "markdown",
   "id": "d68624ad-bc97-4beb-9572-36a0359b4048",
   "metadata": {},
   "source": [
    "Process 2-2s (constant-p heat until saturation)"
   ]
  },
  {
   "cell_type": "code",
   "execution_count": 27,
   "id": "4522ffa8-f0f8-4005-a79f-a945d449d41e",
   "metadata": {},
   "outputs": [
    {
     "data": {
      "text/plain": [
       "[<matplotlib.lines.Line2D at 0x7fb309f6ce20>]"
      ]
     },
     "execution_count": 27,
     "metadata": {},
     "output_type": "execute_result"
    }
   ],
   "source": [
    "T = np.linspace(T2,T2s,10)\n",
    "p = p2 * np.ones(T.shape)\n",
    "s = steam.s(T=T,p=p)\n",
    "s[-1] = s2s # force the last points to be liquid - not vapor\n",
    "d[-1] = d2s # force the last points to be liquid - not vapor\n",
    "d = steam.d(T=T,p=p)\n",
    "ax1.plot(s,T,color,linewidth=1.5)\n",
    "ax2.plot(1./d,p,color,linewidth=1.5)"
   ]
  },
  {
   "cell_type": "markdown",
   "id": "0737e23d-c4ca-4bfb-af66-4ca931cd9457",
   "metadata": {},
   "source": [
    "Process 2s-3 (constant-p boiling)"
   ]
  },
  {
   "cell_type": "code",
   "execution_count": 28,
   "id": "dfd5233d-3129-44c9-8e23-1c87d96798c2",
   "metadata": {},
   "outputs": [
    {
     "data": {
      "text/plain": [
       "[<matplotlib.lines.Line2D at 0x7fb309b0fc10>]"
      ]
     },
     "execution_count": 28,
     "metadata": {},
     "output_type": "execute_result"
    }
   ],
   "source": [
    "ax1.plot([s2s,s3],[T2s,T3],color,linewidth=1.5)\n",
    "ax2.plot([1./d2s, 1./d3],[p2s,p3],color,linewidth=1.5)"
   ]
  },
  {
   "cell_type": "markdown",
   "id": "91fa3bd7-d5a0-4ebd-ba2f-8fcf3623d125",
   "metadata": {},
   "source": [
    "Process 3-4 (constant-p superheating)"
   ]
  },
  {
   "cell_type": "code",
   "execution_count": 29,
   "id": "e1af7edd-00a7-4070-8df0-1c59b9e439ce",
   "metadata": {},
   "outputs": [
    {
     "data": {
      "text/plain": [
       "[<matplotlib.lines.Line2D at 0x7fb307726940>]"
      ]
     },
     "execution_count": 29,
     "metadata": {},
     "output_type": "execute_result"
    }
   ],
   "source": [
    "T = np.linspace(T3,T4,20)\n",
    "p = p3*np.ones(T.shape)\n",
    "s = steam.s(T=T,p=p)\n",
    "d = steam.d(T=T,p=p)\n",
    "s[0] = s3\n",
    "d[0] = d3\n",
    "ax1.plot(s,T,color,linewidth=1.5)\n",
    "ax2.plot(1./d,p,color,linewidth=1.5)"
   ]
  },
  {
   "cell_type": "markdown",
   "id": "12eea619-acd1-4095-bc73-4c9ae19366a8",
   "metadata": {},
   "source": [
    "process 4-5 (isentropic expansion)"
   ]
  },
  {
   "cell_type": "code",
   "execution_count": 30,
   "id": "ee4018eb-3cda-402f-aefb-3bb940773d0c",
   "metadata": {},
   "outputs": [
    {
     "data": {
      "text/plain": [
       "[<matplotlib.lines.Line2D at 0x7fb309f0f130>]"
      ]
     },
     "execution_count": 30,
     "metadata": {},
     "output_type": "execute_result"
    }
   ],
   "source": [
    "ax1.plot([s4,s5],[T4,T5],color,linewidth=1.5)\n",
    "ax2.plot([1./d4,1./d5],[p4,p5],color,linewidth=1.5)\n",
    "#p = np.linspace(p4,p5,20)\n",
    "#T = np.zeros(p.shape)\n",
    "#for index in range(p.size):\n",
    "#    T[index],_ = steam.psolve(p=p[index],s=s4)\n",
    "#d = steam.d(T=T,p=p)\n",
    "#s = steam.s(T=T,p=p)\n",
    "#ax1.plot(s,T,'r',linewidth=1.5)\n",
    "#ax2.plot(1./d,p,'r',linewidth=1.5)"
   ]
  },
  {
   "cell_type": "markdown",
   "id": "25cd6e51-1059-4d75-8d29-cd9c298e004c",
   "metadata": {},
   "source": [
    "process 5-1 (constant-p heat rejection) <br>\n",
    "add the line across the dome"
   ]
  },
  {
   "cell_type": "code",
   "execution_count": 31,
   "id": "568515a9-fcb1-442f-8e33-c0e1a3cdb9e1",
   "metadata": {},
   "outputs": [
    {
     "data": {
      "text/plain": [
       "[<matplotlib.lines.Line2D at 0x7fb309f0f610>]"
      ]
     },
     "execution_count": 31,
     "metadata": {},
     "output_type": "execute_result"
    }
   ],
   "source": [
    "ax1.plot([s1,s5],[T1, T5],color,linewidth=1.5)\n",
    "ax2.plot([1./d1,1./d5],[p1,p5],color,linewidth=1.5)"
   ]
  },
  {
   "cell_type": "markdown",
   "id": "331ee21b-2345-4fea-b5a6-9e6b555935e4",
   "metadata": {},
   "source": [
    "Add some labels"
   ]
  },
  {
   "cell_type": "code",
   "execution_count": 32,
   "id": "23727231-09d2-45a9-bf89-d713851d85c5",
   "metadata": {},
   "outputs": [],
   "source": [
    "if show_text:\n",
    "    ax1.text(s1-2.5,T1,\n",
    "    \"\"\"(1) \n",
    "T={0:.1f}K\n",
    "s={1:.3f}kJ/kg/K\n",
    "(2)\n",
    "T={2:.1f}K\n",
    "s={3:.3f}kJ/kg/K\"\"\".format(float(T1),float(s1),float(T2),float(s2)))\n",
    "    ax1.text(s3-3,T3+20,\n",
    "    \"\"\"(3) \n",
    "T={0:.1f}K\n",
    "s={1:.3f}kJ/kg/K\"\"\".format(float(T3),float(s3)))\n",
    "    ax1.text(s4+.2,T4-100,\n",
    "    \"\"\"(4) \n",
    "T={0:.1f}K\n",
    "s={1:.3f}kJ/kg/K\"\"\".format(float(T4),float(s4)))\n",
    "    ax1.text(s5+.2,T5,\n",
    "    \"\"\"(5) \n",
    "T={0:.1f}K\n",
    "s={1:.3f}kJ/kg/K\"\"\".format(float(T5),float(s5)))\n",
    "    \n",
    "    v = 1./d1\n",
    "    ax2.text(v,p1/5.,\n",
    "    \"\"\"(1) \n",
    "p={0:.2f}bar\n",
    "v={1:f}m$^3$/kg\"\"\".format(float(p1),float(v)))\n",
    "    v = 1./d2\n",
    "    ax2.text(v*1.5,p2*1.1,\n",
    "    \"\"\"(2) \n",
    "p={0:.2f}bar\n",
    "v={1:f}m$^3$/kg\"\"\".format(float(p2),float(v)))\n",
    "    v = 1./d3\n",
    "    ax2.text(v,p3,\n",
    "    \"\"\"(3) \n",
    "p={0:.2f}bar\n",
    "v={1:f}m$^3$/kg\n",
    "(4)\n",
    "p={2:.2f}bar\n",
    "v={3:f}m$^3$/kg\"\"\".format(float(p3),float(v),float(p4),float(1./d4)))\n",
    "    v = 1./d5\n",
    "    ax2.text(v/5,p5/5,\n",
    "    \"\"\"(5) \n",
    "p={0:.2f}bar\n",
    "v={1:f}m$^3$/kg\"\"\".format(float(p5),float(v)))\n",
    "    \n",
    "    ax1.text(-.5,575,\"\"\"$\\dot{{m}}$ = {0:.3f}kg/s\n",
    "$\\eta$ = {1:.3f}\n",
    "$\\dot{{W}}_{{NET}}$ = {2:.0f}kW\n",
    "$\\dot{{Q}}_{{BOIL}}$ = {3:.1f}kW\n",
    "$\\dot{{Q}}_{{SUPER}}$ = {4:.1f}kW\"\"\".format(float(mdot),float(n),float(Wnet),float(Qboil),float(Qsuper)))\n",
    "\n",
    "ax1.grid('on')\n",
    "ax2.grid('on')\n",
    "ax2.set_xscale('log')\n",
    "ax2.set_yscale('log')\n",
    "\n",
    "ax1.set_xlim([-2,10])\n",
    "ax1.set_ylim([300,800])\n",
    "# adjust the volume scale\n",
    "ax2.set_xlim([5e-4, 10])\n",
    "ax2.set_ylim([.01,1000.])\n",
    "\n",
    "plt.show()\n",
    "#plt.show(block=False)"
   ]
  },
  {
   "cell_type": "code",
   "execution_count": null,
   "id": "b824027f-6b21-41c9-8108-4f0a4ec5c529",
   "metadata": {},
   "outputs": [],
   "source": []
  },
  {
   "cell_type": "code",
   "execution_count": null,
   "id": "11638929-1697-49b6-aaef-5625fa2ca2a7",
   "metadata": {},
   "outputs": [],
   "source": []
  }
 ],
 "metadata": {
  "kernelspec": {
   "display_name": "Python 3 (ipykernel)",
   "language": "python",
   "name": "python3"
  },
  "language_info": {
   "codemirror_mode": {
    "name": "ipython",
    "version": 3
   },
   "file_extension": ".py",
   "mimetype": "text/x-python",
   "name": "python",
   "nbconvert_exporter": "python",
   "pygments_lexer": "ipython3",
   "version": "3.9.7"
  }
 },
 "nbformat": 4,
 "nbformat_minor": 5
}
