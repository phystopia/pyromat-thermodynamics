{
 "cells": [
  {
   "cell_type": "markdown",
   "id": "8c734431-a8be-4a08-b1d7-8d0615d37a20",
   "metadata": {
    "tags": []
   },
   "source": [
    "# How to build a Thermodynamic Cycle with PYroMat"
   ]
  },
  {
   "cell_type": "markdown",
   "id": "3d5ae7a8-5031-48b1-b2b6-df8070619ebe",
   "metadata": {},
   "source": [
    "**EmirFirlar**, Steemit, 2018."
   ]
  },
  {
   "cell_type": "markdown",
   "id": "bbbdf0ba-ce68-496c-97ad-f8460792963c",
   "metadata": {},
   "source": [
    "https://steemit.com/utopian-io/@emirfirlar/how-to-build-thermodynamic-cycle-with-pyromat"
   ]
  },
  {
   "cell_type": "markdown",
   "id": "4de13732-e666-4be5-ac9d-3567c0a1d3b4",
   "metadata": {},
   "source": [
    "We import PYroMat first."
   ]
  },
  {
   "cell_type": "code",
   "execution_count": 85,
   "id": "97c314fa-ac65-4b70-9bc3-540416072c33",
   "metadata": {},
   "outputs": [],
   "source": [
    "import pyromat as pyro"
   ]
  },
  {
   "cell_type": "markdown",
   "id": "86948d33-cc52-4ad0-874b-8be809546060",
   "metadata": {},
   "source": [
    "Then, we import numpy."
   ]
  },
  {
   "cell_type": "code",
   "execution_count": 86,
   "id": "a0aaef7d-3f7f-48d4-8797-4557054b8033",
   "metadata": {},
   "outputs": [],
   "source": [
    "import numpy as np"
   ]
  },
  {
   "cell_type": "markdown",
   "id": "c724ddf8-b4ff-4694-85a7-d5412488f138",
   "metadata": {},
   "source": [
    "Now, to do the graphics we import matplotlib."
   ]
  },
  {
   "cell_type": "code",
   "execution_count": 87,
   "id": "478bd064-c6a4-43aa-a600-ce03da457dc8",
   "metadata": {},
   "outputs": [],
   "source": [
    "import matplotlib.pyplot as plt"
   ]
  },
  {
   "cell_type": "markdown",
   "id": "c5471b74-e952-4fbd-b27d-8fc9742f5c5b",
   "metadata": {},
   "source": [
    "The Bryton Cycle is an air cycle. Here, air is used as a refrigerant in the cycle. The Brayton refrigeration cycle consists of 4 state changes:\n",
    "\n",
    "(1-2): Adiabatic compression in compressor,\n",
    "\n",
    "(2-3): Refrigeration of air at constant pressure,\n",
    "\n",
    "(3-4): Reversible adiabatic expansion in turbine,\n",
    "\n",
    "(4-1): Heat conduction from air to refrigate air at constant pressure."
   ]
  },
  {
   "cell_type": "markdown",
   "id": "ba98cf8a-82c1-4330-a208-fdc2669eddc7",
   "metadata": {},
   "source": [
    "So first, we communicate with air data:"
   ]
  },
  {
   "cell_type": "code",
   "execution_count": 88,
   "id": "ab351c48-aa3e-4601-9354-d8fa71f79796",
   "metadata": {},
   "outputs": [],
   "source": [
    "air = pyro.get('ig.air')"
   ]
  },
  {
   "cell_type": "markdown",
   "id": "5dbe0b94-342b-4a6e-a77f-30770fb7eda4",
   "metadata": {},
   "source": [
    "At first, we determine the net power output of the turbine. Wnet is the output power we aim at. Let's take it to be 310 kW."
   ]
  },
  {
   "cell_type": "code",
   "execution_count": 89,
   "id": "4a96b58f-5eb7-46cb-a26e-3d1fb17cef59",
   "metadata": {},
   "outputs": [],
   "source": [
    "Wnet = 310."
   ]
  },
  {
   "cell_type": "markdown",
   "id": "18d84d20-3fc0-4ceb-ad25-bd59503482e7",
   "metadata": {
    "tags": []
   },
   "source": [
    "We will configure the unit of pressure to the system. *PYroMat* accepts bar as a pressure unit."
   ]
  },
  {
   "cell_type": "code",
   "execution_count": 90,
   "id": "2d3aeab4-fac0-41cb-b572-cf4f84043aa5",
   "metadata": {},
   "outputs": [],
   "source": [
    "pyro.config['unit_pressure'] = 'bar'"
   ]
  },
  {
   "cell_type": "markdown",
   "id": "c326d1e2-01a2-4043-bd90-1503a25daf34",
   "metadata": {},
   "source": [
    "Under normal conditions 1 atm of pressure is equal to 1.013 bar. So we will stablish our initial pressure as 1.013 bar. "
   ]
  },
  {
   "cell_type": "code",
   "execution_count": 91,
   "id": "4494abf9-ada8-46b2-879c-acc050e44708",
   "metadata": {},
   "outputs": [],
   "source": [
    "p1 = 1.013"
   ]
  },
  {
   "cell_type": "markdown",
   "id": "26fb40bc-9900-46be-89b8-25761ba9ea0b",
   "metadata": {},
   "source": [
    "We will configure the unit of temperature to the system. The unit will be Kelvin. "
   ]
  },
  {
   "cell_type": "code",
   "execution_count": 92,
   "id": "9a36c032-9ff6-4fc1-8b44-14a84ae9d431",
   "metadata": {},
   "outputs": [],
   "source": [
    "pyro.config['unit_temperature'] = 'K'"
   ]
  },
  {
   "cell_type": "markdown",
   "id": "5d8aa518-10a9-4bed-bd1a-f462b6bec7b8",
   "metadata": {},
   "source": [
    "We determine the initial temperature of the system. Let's take it to be 300 Kelvin."
   ]
  },
  {
   "cell_type": "code",
   "execution_count": 93,
   "id": "742a7c88-ede3-468b-baaf-da49aeea883a",
   "metadata": {},
   "outputs": [],
   "source": [
    "T1 = 300."
   ]
  },
  {
   "cell_type": "markdown",
   "id": "e35a8457-2ebb-482b-8658-5194ecd785e4",
   "metadata": {},
   "source": [
    "We determine the pressure ratio of the system. Let's take 10. For that, we will use the following command:"
   ]
  },
  {
   "cell_type": "code",
   "execution_count": 94,
   "id": "006351ee-c1e0-4c6f-ab52-668713919a2b",
   "metadata": {},
   "outputs": [],
   "source": [
    "pr = 10."
   ]
  },
  {
   "cell_type": "markdown",
   "id": "a42886c1-fe63-40dc-a540-fabe65f136a9",
   "metadata": {},
   "source": [
    "We configure the unit of entropy to the system. For that, we will use the following command:"
   ]
  },
  {
   "cell_type": "code",
   "execution_count": 95,
   "id": "88dbb330-723f-4bb4-84b3-39eb44f2b8c2",
   "metadata": {},
   "outputs": [],
   "source": [
    "pyro.config['unit_energy'] = 'kJ'"
   ]
  },
  {
   "cell_type": "markdown",
   "id": "d6ac9b32-0718-4a8b-8481-d65ff143905a",
   "metadata": {},
   "source": [
    "The first entropy value is the function of the T1 and p1 values. We run our entropy value. For that, we will use the following command:"
   ]
  },
  {
   "cell_type": "code",
   "execution_count": 96,
   "id": "a0b256ec-f461-4a23-a91d-60c536b785ac",
   "metadata": {},
   "outputs": [],
   "source": [
    "s1 = air.s(T1,p1)"
   ]
  },
  {
   "cell_type": "markdown",
   "id": "de1a148d-49a7-4c46-9cb7-3558619a8213",
   "metadata": {},
   "source": [
    "Our second pressure will be p1 x pressure ratio. For that, we will use the following command:"
   ]
  },
  {
   "cell_type": "code",
   "execution_count": 97,
   "id": "f948b37f-2101-4bae-a823-7b7748ef12a8",
   "metadata": {},
   "outputs": [],
   "source": [
    "p2 = p1*pr"
   ]
  },
  {
   "cell_type": "markdown",
   "id": "7ae6c734-cce1-48a5-9a7c-d79785f9b2e9",
   "metadata": {},
   "source": [
    "The second temperature value is the function of the s1 and p2 values. For that, we will use the following command:"
   ]
  },
  {
   "cell_type": "code",
   "execution_count": 98,
   "id": "4a01b6f8-87bd-4542-adf0-27141b5d63aa",
   "metadata": {},
   "outputs": [],
   "source": [
    "T2 = air.T_s(s=s1,p=p2)"
   ]
  },
  {
   "cell_type": "markdown",
   "id": "8c228ee7-c832-4342-b9cf-95833c9014c9",
   "metadata": {},
   "source": [
    "Compressor entry power is wc. It shows us how much power we spend. Formula of wc = h2 - h1 (h= enthalpy) For that, we will use the following command:"
   ]
  },
  {
   "cell_type": "code",
   "execution_count": 99,
   "id": "ce8959e6-92d4-4dd9-b037-4965d3ee873f",
   "metadata": {},
   "outputs": [],
   "source": [
    "wc = air.h(T2,p2) - air.h(T1,p1)"
   ]
  },
  {
   "cell_type": "markdown",
   "id": "4a9a9d73-448a-47e7-b5d1-d41e8b637aac",
   "metadata": {},
   "source": [
    "T3 is important for motor efficiency. The engine can burn if it is too hot. For that, we will use the following command:"
   ]
  },
  {
   "cell_type": "code",
   "execution_count": 100,
   "id": "6ea8e450-947f-4745-8e88-314ce0bc3137",
   "metadata": {},
   "outputs": [],
   "source": [
    "T3 = 1400."
   ]
  },
  {
   "cell_type": "markdown",
   "id": "befe81f9-d1aa-4431-88b2-5ce56ee3d527",
   "metadata": {},
   "source": [
    "(1-2) and (3-4) are isentropic processes. So; will be p2=p3 and p1=p4. For that, we will use the following command:"
   ]
  },
  {
   "cell_type": "code",
   "execution_count": 101,
   "id": "480b8917-859d-4aac-bf9c-ded28ccb2fb4",
   "metadata": {},
   "outputs": [],
   "source": [
    "p4 = p1\n",
    "p3 = p2"
   ]
  },
  {
   "cell_type": "markdown",
   "id": "bcbd06c7-2ba2-4028-bda6-51a2098b2047",
   "metadata": {},
   "source": [
    "Spent temperature is qh. It showing us how much heat we spend. Formula of qh = h3 - h2 . For that, we will use the following command:"
   ]
  },
  {
   "cell_type": "code",
   "execution_count": 102,
   "id": "a4334620-a777-4815-af81-6248601b8fac",
   "metadata": {},
   "outputs": [],
   "source": [
    "qh = air.h(T3,p3) - air.h(T2,p2)"
   ]
  },
  {
   "cell_type": "markdown",
   "id": "a492106d-4028-48c7-abdd-fbab6e36af72",
   "metadata": {},
   "source": [
    "The third entropy value is the function of the T3 and p3 values. We run our entropy value. For that, we will use the following command:"
   ]
  },
  {
   "cell_type": "code",
   "execution_count": 103,
   "id": "637700b2-1a71-4d81-bab6-d70ec257415c",
   "metadata": {},
   "outputs": [],
   "source": [
    "s3 = air.s(T3,p3)"
   ]
  },
  {
   "cell_type": "markdown",
   "id": "10322e52-5df0-481f-8d6b-be3d71e38f89",
   "metadata": {},
   "source": [
    "Because (3-4) is an isentropic process, s4 must be equal to s3. For that, we will use the following command:"
   ]
  },
  {
   "cell_type": "code",
   "execution_count": 104,
   "id": "f44cc394-3282-480a-bed0-1981dbf6c8a0",
   "metadata": {},
   "outputs": [],
   "source": [
    "s4 = s3"
   ]
  },
  {
   "cell_type": "markdown",
   "id": "6d6f0fd0-03cf-423d-804b-89f11607f91d",
   "metadata": {},
   "source": [
    "The fourth temperature value is the function of the s4 and p4 values. For that, we will use the following command:"
   ]
  },
  {
   "cell_type": "code",
   "execution_count": 105,
   "id": "6b8f3938-a14b-473f-9b7c-8fe3b59b14fb",
   "metadata": {},
   "outputs": [],
   "source": [
    "T4 = air.T_s(s=s4,p=p4)"
   ]
  },
  {
   "cell_type": "markdown",
   "id": "0c40f952-54b8-4b52-9465-90f68711bfda",
   "metadata": {},
   "source": [
    "Turbine entry power is wt. It showing us how much work we spend. Formula of wt = h3 - h4. For that, we will use the following command:"
   ]
  },
  {
   "cell_type": "code",
   "execution_count": 106,
   "id": "bba253a1-948e-4acf-8bf2-a986748acbc1",
   "metadata": {},
   "outputs": [],
   "source": [
    "wt = air.h(T3,p3) - air.h(T4,p4)"
   ]
  },
  {
   "cell_type": "markdown",
   "id": "0d659710-19a3-441a-912f-c4b2f8f748cf",
   "metadata": {},
   "source": [
    "wnet shows the net work. For that, we will use the following command:"
   ]
  },
  {
   "cell_type": "code",
   "execution_count": 107,
   "id": "1c099f97-2cac-4783-afdc-ed93accf5419",
   "metadata": {
    "tags": []
   },
   "outputs": [],
   "source": [
    " wnet = wt - wc"
   ]
  },
  {
   "cell_type": "markdown",
   "id": "0f7656b5-3c56-4403-af7a-e98f0dc5be87",
   "metadata": {},
   "source": [
    "mdot is the required mass flow. This is Output Power / Spend Work. For that, we will use the following command:"
   ]
  },
  {
   "cell_type": "code",
   "execution_count": 108,
   "id": "519c5315-acd9-47bd-ad0b-1106b0b1639b",
   "metadata": {},
   "outputs": [],
   "source": [
    "mdot = Wnet / wnet"
   ]
  },
  {
   "cell_type": "markdown",
   "id": "e56ffffe-f25e-45f9-839e-04ced3e39a7a",
   "metadata": {},
   "source": [
    "We configure the unit of matter to the system. For that, we will use the following command:"
   ]
  },
  {
   "cell_type": "code",
   "execution_count": 109,
   "id": "40025965-5fa7-4734-854f-09e752fc3843",
   "metadata": {},
   "outputs": [],
   "source": [
    "pyro.config['unit_matter'] = 'kg'"
   ]
  },
  {
   "cell_type": "markdown",
   "id": "825024b6-0dd5-405d-a838-78b30a12bdc2",
   "metadata": {},
   "source": [
    "n is the efficiency of system. Efficiency is spend net work / spent heat. For that, we will use the following command:"
   ]
  },
  {
   "cell_type": "code",
   "execution_count": 110,
   "id": "c237106f-d629-4ad0-929e-ce0dd4af0ce2",
   "metadata": {},
   "outputs": [],
   "source": [
    "n = wnet / qh"
   ]
  },
  {
   "cell_type": "markdown",
   "id": "d85c1ab2-94bf-4e16-91c3-5f5d876adf7e",
   "metadata": {},
   "source": [
    "So far we have defined the formulas of the Brayton cycle. We looked at how to import them. Now we will first build the T-s diagram. T-S diagram has a specific shape. In this diagram, we will build two separate sections. These are constant pressure heat function and isentropic compression line.\n",
    "\n",
    "We will build constant pressure heat function. It consists of parts (2-3) and (1-4). It is returning data at specified intervals. Numpy gives us this feature. For that, we will use the following command:"
   ]
  },
  {
   "cell_type": "code",
   "execution_count": 111,
   "id": "0a34c50c-c227-4076-a872-4d25e90a0b15",
   "metadata": {},
   "outputs": [
    {
     "data": {
      "text/plain": [
       "[<matplotlib.lines.Line2D at 0x7f97f8d4c130>]"
      ]
     },
     "execution_count": 111,
     "metadata": {},
     "output_type": "execute_result"
    },
    {
     "data": {
      "image/png": "[encoded data removed]",
      "text/plain": [
       "<Figure size 432x288 with 1 Axes>"
      ]
     },
     "metadata": {
      "needs_background": "light"
     },
     "output_type": "display_data"
    }
   ],
   "source": [
    "T = np.linspace(T2,T3)\n",
    "plt.plot(air.s(T=T,p=p2),T,'r',linewidth=1.5)\n",
    "T = np.linspace(T1,T4)\n",
    "plt.plot(air.s(T=T,p=p1),T,'r--',linewidth=1.5)"
   ]
  },
  {
   "cell_type": "markdown",
   "id": "ed409dc6-3671-4483-9d0c-c4c285ccac06",
   "metadata": {},
   "source": [
    "Now we will build isentropic compresion line. This is a vertical line. It consists of coordinates (s1,T1), (s1,T2) and (s3,T3), (s3,T4). For that, we will use the following command:"
   ]
  },
  {
   "cell_type": "code",
   "execution_count": 112,
   "id": "a142206b-e1ab-42f7-8336-4cada8dd90ef",
   "metadata": {},
   "outputs": [
    {
     "name": "stderr",
     "output_type": "stream",
     "text": [
      "/opt/anaconda3/lib/python3.9/site-packages/numpy/core/_asarray.py:171: VisibleDeprecationWarning: Creating an ndarray from ragged nested sequences (which is a list-or-tuple of lists-or-tuples-or ndarrays with different lengths or shapes) is deprecated. If you meant to do this, you must specify 'dtype=object' when creating the ndarray.\n",
      "  return array(a, dtype, copy=False, order=order, subok=True)\n"
     ]
    },
    {
     "data": {
      "text/plain": [
       "[<matplotlib.lines.Line2D at 0x7f97b25ffb20>]"
      ]
     },
     "execution_count": 112,
     "metadata": {},
     "output_type": "execute_result"
    },
    {
     "data": {
      "image/png": "[encoded data removed]",
      "text/plain": [
       "<Figure size 432x288 with 1 Axes>"
      ]
     },
     "metadata": {
      "needs_background": "light"
     },
     "output_type": "display_data"
    }
   ],
   "source": [
    "plt.plot([s1,s1],[T1,T2],'r',linewidth=1.5)\n",
    "plt.plot([s3,s3],[T3,T4],'r',linewidth=1.5)"
   ]
  },
  {
   "cell_type": "markdown",
   "id": "9759917d-7c7c-483c-96c0-6304ddeb44c8",
   "metadata": {},
   "source": [
    "We will finally define the axis bounds for this diagram. It specify start and end points. For that, we will use the following command:"
   ]
  },
  {
   "cell_type": "code",
   "execution_count": 113,
   "id": "b9bda009-bbc9-4754-880b-11cb61e1f105",
   "metadata": {},
   "outputs": [
    {
     "data": {
      "text/plain": [
       "(6.2, 8.0, 175.0, 1700.0)"
      ]
     },
     "execution_count": 113,
     "metadata": {},
     "output_type": "execute_result"
    },
    {
     "data": {
      "image/png": "[encoded data removed]",
      "text/plain": [
       "<Figure size 432x288 with 1 Axes>"
      ]
     },
     "metadata": {
      "needs_background": "light"
     },
     "output_type": "display_data"
    }
   ],
   "source": [
    "plt.axis([6.2,8 , 175,1700])"
   ]
  },
  {
   "cell_type": "markdown",
   "id": "2487a300-4966-4f15-8fce-edaf7a561d11",
   "metadata": {},
   "source": [
    "We will give names to the x and y axes. For that, we will use the following command:"
   ]
  },
  {
   "cell_type": "code",
   "execution_count": 114,
   "id": "e05b9122-ea8c-45d7-97b6-75e60c4db596",
   "metadata": {},
   "outputs": [
    {
     "data": {
      "image/png": "[encoded data removed]",
      "text/plain": [
       "<Figure size 432x288 with 1 Axes>"
      ]
     },
     "metadata": {
      "needs_background": "light"
     },
     "output_type": "display_data"
    }
   ],
   "source": [
    "plt.xlabel('Entropy, s (kJ/kg/K)')\n",
    "plt.ylabel('Temperature, T (K)')\n",
    "plt.grid('on')"
   ]
  },
  {
   "cell_type": "markdown",
   "id": "222dd493-50af-43f1-8af4-31cde4f79cda",
   "metadata": {},
   "source": [
    "We will adjust thickness of graphic lines and text. I preferred 1f and 4f. You can choose 3f or 6f if you want. I used white background. You can change this with another color if you want. For that, we will use the following command:"
   ]
  },
  {
   "cell_type": "code",
   "execution_count": 115,
   "id": "69f90fd8-562d-4442-91d2-ed9d16ca5b94",
   "metadata": {},
   "outputs": [],
   "source": [
    "# plt.text(s1-.1,T1,'(1)\\nT={:.1f}\\np={:.4f}'.format(T1,p1),\n",
    "#    ha='right',backgroundcolor='white')\n",
    "#plt.text(s1-.1,T2,'(2)\\nT={:.1f}\\np={:.4f}'.format(T2,p2),\n",
    "#    ha='right',backgroundcolor='white')\n",
    "#plt.text(s3+.1,T3,'(3)\\nT={:.1f}\\np={:.4f}'.format(T3,p3),\n",
    "#    ha='left',backgroundcolor='white')\n",
    "#plt.text(s3+.1,T4,'(4)\\nT={:.1f}\\np={:.4f}'.format(T4,p4),\n",
    "#    ha='left',backgroundcolor='white')\n",
    "#plt.text(6.3,1300,\n",
    "#\"\"\"$\\dot{{m}}$ = {:.4f}kg/s\n",
    "#$p_r$={:.1f}\n",
    "#$\\eta$={:.4f}\n",
    "#$\\dot{{W}}_{{net}}$={:1}kW\"\"\".format(mdot,pr,n,Wnet),\n",
    "#    backgroundcolor='white')"
   ]
  },
  {
   "cell_type": "markdown",
   "id": "d9e528fa-0ab2-4e96-b96a-09d3dd2ca152",
   "metadata": {},
   "source": [
    "We will finish the T-S diagram by typing its name. For that, we will use the following command:"
   ]
  },
  {
   "cell_type": "code",
   "execution_count": 116,
   "id": "95149301-822a-4c2c-9f1b-2e68f24bda39",
   "metadata": {},
   "outputs": [
    {
     "data": {
      "text/plain": [
       "Text(0.5, 1.0, 'Brayton Cycle T-s Graphic')"
      ]
     },
     "execution_count": 116,
     "metadata": {},
     "output_type": "execute_result"
    },
    {
     "data": {
      "image/png": "[encoded data removed]",
      "text/plain": [
       "<Figure size 432x288 with 1 Axes>"
      ]
     },
     "metadata": {
      "needs_background": "light"
     },
     "output_type": "display_data"
    }
   ],
   "source": [
    "plt.title('Brayton Cycle T-s Graphic')"
   ]
  },
  {
   "cell_type": "code",
   "execution_count": 117,
   "id": "7258f1b4-3b35-4b3b-adc2-3c4c1f0de70c",
   "metadata": {},
   "outputs": [
    {
     "name": "stderr",
     "output_type": "stream",
     "text": [
      "/opt/anaconda3/lib/python3.9/site-packages/numpy/core/_asarray.py:171: VisibleDeprecationWarning: Creating an ndarray from ragged nested sequences (which is a list-or-tuple of lists-or-tuples-or ndarrays with different lengths or shapes) is deprecated. If you meant to do this, you must specify 'dtype=object' when creating the ndarray.\n",
      "  return array(a, dtype, copy=False, order=order, subok=True)\n"
     ]
    },
    {
     "data": {
      "text/plain": [
       "Text(0.5, 1.0, 'Brayton Cycle T-s Graphic')"
      ]
     },
     "execution_count": 117,
     "metadata": {},
     "output_type": "execute_result"
    },
    {
     "data": {
      "image/png": "[encoded data removed]",
      "text/plain": [
       "<Figure size 432x288 with 1 Axes>"
      ]
     },
     "metadata": {
      "needs_background": "light"
     },
     "output_type": "display_data"
    }
   ],
   "source": [
    "T = np.linspace(T2,T3)\n",
    "plt.plot(air.s(T=T,p=p2),T,'r',linewidth=1.5)\n",
    "T = np.linspace(T1,T4)\n",
    "plt.plot(air.s(T=T,p=p1),T,'r--',linewidth=1.5)\n",
    "plt.plot([s1,s1],[T1,T2],'r',linewidth=1.5)\n",
    "plt.plot([s3,s3],[T3,T4],'r',linewidth=1.5)\n",
    "plt.axis([6.2,8 , 175,1700])\n",
    "plt.xlabel('Entropy, s (kJ/kg/K)')\n",
    "plt.ylabel('Temperature, T (K)')\n",
    "plt.grid('on')\n",
    "plt.title('Brayton Cycle T-s Graphic')"
   ]
  },
  {
   "cell_type": "markdown",
   "id": "db873c6f-56c4-4cc4-acc0-fb58d9df5b44",
   "metadata": {},
   "source": [
    "Now we can build the P-V diagram. We must first call our code for the second chart . Then we will upload the data. P-V diagram consists of point coordinates. We need to load the diagram data for this. For that, we will use the following command:"
   ]
  },
  {
   "cell_type": "code",
   "execution_count": 118,
   "id": "03b80d7a-27b9-4bd1-b380-3c9e77b1342a",
   "metadata": {},
   "outputs": [
    {
     "data": {
      "text/plain": [
       "<Figure size 432x288 with 0 Axes>"
      ]
     },
     "execution_count": 118,
     "metadata": {},
     "output_type": "execute_result"
    },
    {
     "data": {
      "text/plain": [
       "<Figure size 432x288 with 0 Axes>"
      ]
     },
     "metadata": {},
     "output_type": "display_data"
    }
   ],
   "source": [
    "plt.figure(2)\n",
    "#plt.plot([x1,x2],[y1,y2])"
   ]
  },
  {
   "cell_type": "markdown",
   "id": "7ce3ed49-2346-49cf-8c59-916fe982bc65",
   "metadata": {},
   "source": [
    "Now, we will build the limits. For that, we will use the following command:"
   ]
  },
  {
   "cell_type": "code",
   "execution_count": 119,
   "id": "12ed4989-5c5a-473a-9aec-6c4eaa2b7cf2",
   "metadata": {},
   "outputs": [
    {
     "data": {
      "image/png": "[encoded data removed]",
      "text/plain": [
       "<Figure size 432x288 with 1 Axes>"
      ]
     },
     "metadata": {
      "needs_background": "light"
     },
     "output_type": "display_data"
    }
   ],
   "source": [
    "plt.axis([0,2 , 0,10])\n",
    "plt.grid('on')"
   ]
  },
  {
   "cell_type": "markdown",
   "id": "38f78489-912a-4da5-91b4-d75f7b863215",
   "metadata": {},
   "source": [
    "We will name axes and diagram. For that, we will use the following command:"
   ]
  },
  {
   "cell_type": "code",
   "execution_count": 120,
   "id": "539379ed-1fa2-4bba-8639-a115c1dc6ea3",
   "metadata": {},
   "outputs": [
    {
     "data": {
      "text/plain": [
       "Text(0, 0.5, 'Pressure, P (bar)')"
      ]
     },
     "execution_count": 120,
     "metadata": {},
     "output_type": "execute_result"
    },
    {
     "data": {
      "image/png": "[encoded data removed]",
      "text/plain": [
       "<Figure size 432x288 with 1 Axes>"
      ]
     },
     "metadata": {
      "needs_background": "light"
     },
     "output_type": "display_data"
    }
   ],
   "source": [
    "plt.title('Brayton Cycle P-V Graphic')\n",
    "plt.xlabel('Volume, V (m3/kg)')\n",
    "plt.ylabel('Pressure, P (bar)')"
   ]
  },
  {
   "cell_type": "markdown",
   "id": "dead451e-239c-409a-8ed3-b85adaddb41b",
   "metadata": {},
   "source": [
    "Our output diagram will be as follows:"
   ]
  },
  {
   "cell_type": "markdown",
   "id": "1bb591e4-2da0-42db-b9ba-001eaf1a6d3a",
   "metadata": {},
   "source": [
    "We successfully built our P-v diagram. We will load the classic Bryton cycle diagram to understand how the Brayton cycle works. I will import the picture I made earlier as png. Matplotlib gives us this feature. I use the this codes for this:"
   ]
  },
  {
   "cell_type": "code",
   "execution_count": 122,
   "id": "9bb754b6-5c9e-4b4a-aa28-5e4513859f20",
   "metadata": {},
   "outputs": [
    {
     "data": {
      "text/plain": [
       "     config_file : ['/opt/anaconda3/lib/python3.9/site-packages/pyrom...\n",
       "  config_verbose : False\n",
       "         dat_dir : ['/opt/anaconda3/lib/python3.9/site-packages/pyrom...\n",
       " dat_exist_fatal : False\n",
       "   dat_overwrite : True\n",
       "   dat_recursive : True\n",
       "     dat_verbose : False\n",
       "           def_T : 298.15\n",
       "           def_p : 1.01325\n",
       "     install_dir : '/opt/anaconda3/lib/python3.9/site-packages/pyromat'\n",
       "         reg_dir : ['/opt/anaconda3/lib/python3.9/site-packages/pyrom...\n",
       " reg_exist_fatal : False\n",
       "   reg_overwrite : True\n",
       "     reg_verbose : False\n",
       "     unit_energy : 'kJ'\n",
       "      unit_force : 'N'\n",
       "     unit_length : 'm'\n",
       "       unit_mass : 'kg'\n",
       "     unit_matter : 'kg'\n",
       "      unit_molar : 'kmol'\n",
       "   unit_pressure : 'bar'\n",
       "unit_temperature : 'K'\n",
       "       unit_time : 's'\n",
       "     unit_volume : 'm3'\n",
       "         version : '2.1.10'"
      ]
     },
     "execution_count": 122,
     "metadata": {},
     "output_type": "execute_result"
    }
   ],
   "source": [
    "import pyromat as pm\n",
    "pm.config"
   ]
  },
  {
   "cell_type": "code",
   "execution_count": null,
   "id": "4845249a-10f9-458d-b67a-ea8685f3f395",
   "metadata": {},
   "outputs": [],
   "source": []
  }
 ],
 "metadata": {
  "kernelspec": {
   "display_name": "Python 3 (ipykernel)",
   "language": "python",
   "name": "python3"
  },
  "language_info": {
   "codemirror_mode": {
    "name": "ipython",
    "version": 3
   },
   "file_extension": ".py",
   "mimetype": "text/x-python",
   "name": "python",
   "nbconvert_exporter": "python",
   "pygments_lexer": "ipython3",
   "version": "3.9.7"
  }
 },
 "nbformat": 4,
 "nbformat_minor": 5
}
