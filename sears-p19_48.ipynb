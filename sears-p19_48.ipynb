{
 "cells": [
  {
   "cell_type": "markdown",
   "id": "22422a8a-d9cf-456e-8f4b-49f35995c089",
   "metadata": {},
   "source": [
    "# Problem 19-48, Sears - Zemansky."
   ]
  },
  {
   "cell_type": "markdown",
   "id": "7885e256-0b62-4e7f-b4ca-1adad6926073",
   "metadata": {},
   "source": [
    "YOUNG, Hugh D., FREEDMAN, Roger A. (2012). *University Physics*. 13th. ed., Pearson."
   ]
  },
  {
   "cell_type": "markdown",
   "id": "50cca28f-702a-4988-a0c7-df8fd8ad37f4",
   "metadata": {},
   "source": [
    "The graph in Fig. shows a pV-diagram for 3.25 moles of ideal helium (He) gas. Part ca of this process is isothermal. <br>\n",
    "(a) Find the pressure of the He at point a. <br>\n",
    "(b) Find the temperature of the He at points a, b, and c. <br>\n",
    "(c) How much heat entered or left the He during segments ab, bc, and ca? In each segment, did the heat enter or leave? <br>(d) By how much did the internal energy of the He change from a to b, from b to c, and from c to a? Indicate whether this energy increased or decreased."
   ]
  },
  {
   "cell_type": "code",
   "execution_count": 195,
   "id": "806885ac-3b01-4267-bb5c-42276bf181f6",
   "metadata": {},
   "outputs": [],
   "source": [
    "import pyromat as pm\n",
    "import numpy as np\n",
    "import matplotlib.pyplot as plt"
   ]
  },
  {
   "cell_type": "code",
   "execution_count": 196,
   "id": "60500bce-9155-4367-a095-f800812b3000",
   "metadata": {},
   "outputs": [],
   "source": [
    "#pm.info()"
   ]
  },
  {
   "cell_type": "code",
   "execution_count": 197,
   "id": "87299787-2737-40e5-b0b4-62afc6d9c758",
   "metadata": {},
   "outputs": [],
   "source": [
    "pm.config['unit_energy'] = 'kJ'\n",
    "pm.config['unit_matter'] = 'kg'\n",
    "pm.config['unit_pressure'] = 'kPa'\n",
    "pm.config['unit_temperature'] = 'K'"
   ]
  },
  {
   "cell_type": "code",
   "execution_count": 198,
   "id": "190a398a-3b45-455c-b326-fabd7576a860",
   "metadata": {},
   "outputs": [],
   "source": [
    "he = pm.get('ig.He')"
   ]
  },
  {
   "cell_type": "code",
   "execution_count": 212,
   "id": "74bf9334-8b25-4187-86b0-721c6d16cc8d",
   "metadata": {},
   "outputs": [
    {
     "name": "stdout",
     "output_type": "stream",
     "text": [
      "molecular weight:  4.0026 kg/kmol\n"
     ]
    }
   ],
   "source": [
    "print(\"molecular weight: \", he.mw(), \"kg/kmol\")"
   ]
  },
  {
   "cell_type": "markdown",
   "id": "4ed6d8f2-3a19-4af9-bfbd-566a92649d73",
   "metadata": {},
   "source": [
    "$$ m_{He} = M \\cdot N $$"
   ]
  },
  {
   "cell_type": "code",
   "execution_count": 200,
   "id": "9b4d2efa-85ee-4553-a1dd-c4da37e72d18",
   "metadata": {},
   "outputs": [
    {
     "name": "stdout",
     "output_type": "stream",
     "text": [
      "He mass:  0.01300845 kg\n"
     ]
    }
   ],
   "source": [
    "m_he = N * he.mw() #kg\n",
    "print(\"He mass: \", m_he, \"kg\")"
   ]
  },
  {
   "cell_type": "code",
   "execution_count": 201,
   "id": "4dcd200e-b9a0-4298-984a-005224824a7f",
   "metadata": {},
   "outputs": [],
   "source": [
    "Ru = 8.31447 #kJ/(Kmol*K)\n",
    "N = 3.25/1000 #kmol"
   ]
  },
  {
   "cell_type": "markdown",
   "id": "4fbd61dc-2161-40e4-bd68-5f70a5625e1c",
   "metadata": {},
   "source": [
    "## Tc"
   ]
  },
  {
   "cell_type": "markdown",
   "id": "e5adf4f1-bfb1-4a6c-8c92-74a7fea9e4c5",
   "metadata": {},
   "source": [
    "$$ T_c = \\frac{P_c \\cdot V_c}{N \\cdot R_u} $$"
   ]
  },
  {
   "cell_type": "code",
   "execution_count": 223,
   "id": "75390635-6bf9-43ee-a457-9382986aeab0",
   "metadata": {},
   "outputs": [
    {
     "name": "stdout",
     "output_type": "stream",
     "text": [
      "T_c =  296 K\n"
     ]
    }
   ],
   "source": [
    "Pc = 200 #kPa\n",
    "Vc = 0.04 #m3\n",
    "Tc = Pc * Vc / (N * Ru) #K\n",
    "print(\"T_c = \", round(Tc), \"K\")"
   ]
  },
  {
   "cell_type": "markdown",
   "id": "c06d18fb-febd-4cdc-965e-2da971bbe225",
   "metadata": {},
   "source": [
    "## Pa"
   ]
  },
  {
   "cell_type": "markdown",
   "id": "a824c3e3-8ff8-4e4e-9a09-91e442a22ddf",
   "metadata": {},
   "source": [
    "$$ P_a = \\frac{P_c \\cdot V_c}{V_a} $$"
   ]
  },
  {
   "cell_type": "code",
   "execution_count": 203,
   "id": "45ac4f8d-e306-4ea7-b9c6-0a3d68c9609a",
   "metadata": {},
   "outputs": [
    {
     "name": "stdout",
     "output_type": "stream",
     "text": [
      "P_a =  800.0 kPa\n"
     ]
    }
   ],
   "source": [
    "Va = 0.01 #m3\n",
    "Ta = Tc\n",
    "Pa = (Pc * Vc) / Va\n",
    "print(\"P_a = \", Pa, \"kPa\")"
   ]
  },
  {
   "cell_type": "markdown",
   "id": "5099d004-cc66-4a92-be65-91ddb834151b",
   "metadata": {},
   "source": [
    "## Pb"
   ]
  },
  {
   "cell_type": "markdown",
   "id": "f11f3201-639e-40b0-b0c7-02fc1b93c782",
   "metadata": {},
   "source": [
    "$$ T_b = \\frac{P_b}{P_c} \\cdot T_c$$"
   ]
  },
  {
   "cell_type": "code",
   "execution_count": 215,
   "id": "3f86a816-c0ee-474d-bb87-0144c4179e46",
   "metadata": {},
   "outputs": [
    {
     "name": "stdout",
     "output_type": "stream",
     "text": [
      "T_c = 1184  K\n"
     ]
    }
   ],
   "source": [
    "Pb = Pa\n",
    "Vb = Vc\n",
    "Tb = (Pb / Pc) * Tc\n",
    "print('T_c =', round(Tb),' K')"
   ]
  },
  {
   "cell_type": "markdown",
   "id": "d87289e8-ba26-4f6f-8119-b8c7c4e2c125",
   "metadata": {},
   "source": [
    "$$ Q_H $$"
   ]
  },
  {
   "cell_type": "markdown",
   "id": "5f632b70-3546-48a2-bd92-3702a5b86fbf",
   "metadata": {},
   "source": [
    "$$ Q_H = m_{He} \\cdot (h_b - h_a) $$"
   ]
  },
  {
   "cell_type": "code",
   "execution_count": null,
   "id": "1a6688e6-0873-439e-b5b0-131c1d6ec754",
   "metadata": {},
   "outputs": [],
   "source": [
    "QH = m_he * (he.h(Tb,Pb) - he.h(Ta,Pa))\n",
    "print(\"Q_H = \", round(QH[0],1), \"kJ\")"
   ]
  },
  {
   "cell_type": "markdown",
   "id": "4821688c-f884-4cd2-a15e-034d7f8f6f04",
   "metadata": {},
   "source": [
    "## QH"
   ]
  },
  {
   "cell_type": "markdown",
   "id": "90649d8d-5ed7-4038-adb4-1260f0f3c50b",
   "metadata": {},
   "source": [
    "$$ Q_H = m_{He} \\cdot c_p \\cdot (T_b - T_a) $$"
   ]
  },
  {
   "cell_type": "code",
   "execution_count": 225,
   "id": "c39635b9-0d00-475f-b905-d8c0491d6923",
   "metadata": {},
   "outputs": [
    {
     "name": "stdout",
     "output_type": "stream",
     "text": [
      "Q_H =  60.0 kJ\n"
     ]
    }
   ],
   "source": [
    "QH2 = m_he * he.cp() * (Tb - Ta)\n",
    "print(\"Q_H = \", round(QH2[0],1), \"kJ\")"
   ]
  },
  {
   "cell_type": "markdown",
   "id": "9ab77429-86fa-441c-bd5f-deff48ac3f3b",
   "metadata": {},
   "source": [
    "$$ \\Delta U = m_{He} \\cdot c_v \\cdot (T_b - T_a) $$"
   ]
  },
  {
   "cell_type": "code",
   "execution_count": 226,
   "id": "63e33baf-2424-4c55-a0f7-dd66f076d009",
   "metadata": {},
   "outputs": [
    {
     "name": "stdout",
     "output_type": "stream",
     "text": [
      "DU =  36.0 kJ\n"
     ]
    }
   ],
   "source": [
    "DU = m_he * he.cv() * (Tb - Ta)\n",
    "print(\"DU = \", round(DU[0],1), \"kJ\")"
   ]
  },
  {
   "cell_type": "markdown",
   "id": "c0a59a4c-29c7-439f-bba5-b0e52d887b6e",
   "metadata": {},
   "source": [
    "$$ W_{ab} = Q_H - \\Delta U $$"
   ]
  },
  {
   "cell_type": "code",
   "execution_count": 227,
   "id": "bcf91af5-4738-48ba-8dbf-5b211e264d9e",
   "metadata": {},
   "outputs": [
    {
     "name": "stdout",
     "output_type": "stream",
     "text": [
      "W_ab =  24.0 kJ\n"
     ]
    }
   ],
   "source": [
    "Wab = QH - DU\n",
    "print(\"W_ab = \", round(Wab[0],1), \"kJ\")"
   ]
  },
  {
   "cell_type": "markdown",
   "id": "4d19d24e-abd0-40e0-9617-2e0e1032df65",
   "metadata": {},
   "source": [
    "$$ P = \\frac{P_a \\cdot V_a}{V} $$"
   ]
  },
  {
   "cell_type": "code",
   "execution_count": 209,
   "id": "f425690c-3264-43a5-8b95-318ebc6fdeb3",
   "metadata": {},
   "outputs": [],
   "source": [
    "V = np.linspace(V1,V2,200,dtype=object)\n",
    "P = Pa*Va/V"
   ]
  },
  {
   "cell_type": "code",
   "execution_count": 210,
   "id": "52b193af-9187-406e-a329-ed1def0e6b44",
   "metadata": {},
   "outputs": [
    {
     "data": {
      "text/plain": [
       "Text(0.5, 0, 'Volume (m3)')"
      ]
     },
     "execution_count": 210,
     "metadata": {},
     "output_type": "execute_result"
    },
    {
     "data": {
      "image/png": "[encoded data removed]",
      "text/plain": [
       "<Figure size 1080x720 with 1 Axes>"
      ]
     },
     "metadata": {
      "needs_background": "light"
     },
     "output_type": "display_data"
    }
   ],
   "source": [
    "font = {'family' : 'Helvetica',\n",
    "        'size'   : 22}\n",
    "\n",
    "plt.figure(figsize=(15,10))\n",
    "plt.title('P-V Diagram')\n",
    "plt.rc('font', **font)\n",
    "plt.plot(V,P,'r',linewidth=1.5)\n",
    "plt.plot([Va,Vb],[Pa,Pb],'r',linewidth=1.5)\n",
    "plt.plot([Vb,Vc],[Pb,Pc],'r',linewidth=1.5)\n",
    "plt.ylabel('Pressure (kPa)')\n",
    "plt.xlabel('Volume (m3)')"
   ]
  }
 ],
 "metadata": {
  "kernelspec": {
   "display_name": "Python 3 (ipykernel)",
   "language": "python",
   "name": "python3"
  },
  "language_info": {
   "codemirror_mode": {
    "name": "ipython",
    "version": 3
   },
   "file_extension": ".py",
   "mimetype": "text/x-python",
   "name": "python",
   "nbconvert_exporter": "python",
   "pygments_lexer": "ipython3",
   "version": "3.9.7"
  }
 },
 "nbformat": 4,
 "nbformat_minor": 5
}
