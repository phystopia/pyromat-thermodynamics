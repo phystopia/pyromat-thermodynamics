{
 "cells": [
  {
   "cell_type": "markdown",
   "id": "3377da5d-8577-4e54-b42e-57853e4d4759",
   "metadata": {
    "tags": []
   },
   "source": [
    "# PYroMat Tutorial"
   ]
  },
  {
   "cell_type": "markdown",
   "id": "17e17a42-e037-4a55-ba0c-a0ee505fe5ff",
   "metadata": {
    "tags": []
   },
   "source": [
    "## Importing the package"
   ]
  },
  {
   "cell_type": "markdown",
   "id": "7cce61b6-e81b-4100-a834-a8a8931db4e0",
   "metadata": {},
   "source": [
    "Once PYroMat is [installed](http://www.pyromat.org/download.html), the package should be available at the Python command line as `pyromat`."
   ]
  },
  {
   "cell_type": "code",
   "execution_count": 52,
   "id": "a96e3ec3-4e9f-4cf7-aa18-41ba7ac67fda",
   "metadata": {},
   "outputs": [],
   "source": [
    "import pyromat as pm"
   ]
  },
  {
   "cell_type": "markdown",
   "id": "cc5290b5-d35e-4fb9-ab81-0676f44d58b2",
   "metadata": {},
   "source": [
    "Once PYroMat (`pm` for short) is imported, the `get` fuction will retrieve objects that represent individual species. For example, let's look at diatomic nitrogen, oxygen, and carbon dioxide."
   ]
  },
  {
   "cell_type": "code",
   "execution_count": 53,
   "id": "89374fdf-0a40-41c8-b027-b4631789ef14",
   "metadata": {
    "tags": []
   },
   "outputs": [],
   "source": [
    "N2 = pm.get('ig.N2')"
   ]
  },
  {
   "cell_type": "code",
   "execution_count": 54,
   "id": "0a6ba8a8-5d26-44e3-86b8-9254967ef5a6",
   "metadata": {
    "tags": []
   },
   "outputs": [],
   "source": [
    "O2 = pm.get('ig.O2')"
   ]
  },
  {
   "cell_type": "code",
   "execution_count": 55,
   "id": "1e3af9f9-d5dc-4621-bb15-6d7ecafe3c73",
   "metadata": {
    "tags": []
   },
   "outputs": [],
   "source": [
    "CO2 = pm.get('ig.CO2')"
   ]
  },
  {
   "cell_type": "markdown",
   "id": "e90629cb-bb2f-441d-beb6-bf59a882b108",
   "metadata": {},
   "source": [
    "The argument to the `get` function is the species ID. It is comprised of two parts: the chemical compound, e.g. \"N2,\" and the data collection to which it belongs, \"ig,\" for \"ideal gas.\""
   ]
  },
  {
   "cell_type": "markdown",
   "id": "e2bf7d69-dca3-453e-a434-09bb142c8daf",
   "metadata": {},
   "source": [
    "## Retrieving data"
   ]
  },
  {
   "cell_type": "markdown",
   "id": "6ee8a91e-7d96-48b5-80de-4fa4d063e034",
   "metadata": {},
   "source": [
    "The objects expose all the methods we need to access their properties. For example, this code retrieves molecular weight, enthalpy in kJ/kg, and entropy in kJ/kg/K. We'll talk more about units in just a moment."
   ]
  },
  {
   "cell_type": "code",
   "execution_count": 56,
   "id": "2157094b-f45a-439d-8f44-6f48358d2c8a",
   "metadata": {},
   "outputs": [
    {
     "data": {
      "text/plain": [
       "28.01348"
      ]
     },
     "execution_count": 56,
     "metadata": {},
     "output_type": "execute_result"
    }
   ],
   "source": [
    "N2.mw()"
   ]
  },
  {
   "cell_type": "code",
   "execution_count": 57,
   "id": "ff453a5e-482a-41be-b863-3d95e1d0a7b8",
   "metadata": {},
   "outputs": [
    {
     "data": {
      "text/plain": [
       "array([3588.07049914])"
      ]
     },
     "execution_count": 57,
     "metadata": {},
     "output_type": "execute_result"
    }
   ],
   "source": [
    "N2.h()"
   ]
  },
  {
   "cell_type": "code",
   "execution_count": 58,
   "id": "1d50296f-1a3b-4bfd-8ee7-ab4364fcf2d5",
   "metadata": {},
   "outputs": [
    {
     "data": {
      "text/plain": [
       "array([111.98585527])"
      ]
     },
     "execution_count": 58,
     "metadata": {},
     "output_type": "execute_result"
    }
   ],
   "source": [
    "N2.s()"
   ]
  },
  {
   "cell_type": "markdown",
   "id": "433af1fe-0bfd-4ec4-90df-b07c967c5e3d",
   "metadata": {},
   "source": [
    "But wait! Enthalpy and entropy are functions of temperature and pressure!\n",
    "\n",
    "All properties accept [keyword arguments](https://docs.python.org/3/tutorial/controlflow.html#keyword-arguments) that allow users to define the state in terms of a set of primary properties. For ideal gases, that means temperature, `T`, pressure, `p`, or density, `d`. For a multi-phase mixture, users can also specify quality,`x`.\n",
    "\n",
    "The command-line examples below all return the enthalpy of diatomic nitrogen at 496.5K and 3bar, but using different approaches to calling the enthalpy function."
   ]
  },
  {
   "cell_type": "code",
   "execution_count": 59,
   "id": "1e83f832-6a48-4dc0-a951-a2a3a8374c36",
   "metadata": {},
   "outputs": [
    {
     "data": {
      "text/plain": [
       "array([6840.25657575])"
      ]
     },
     "execution_count": 59,
     "metadata": {},
     "output_type": "execute_result"
    }
   ],
   "source": [
    "N2.h(T=496.5, p=3.)     # keywords T and p **best**"
   ]
  },
  {
   "cell_type": "code",
   "execution_count": 60,
   "id": "e310731c-44c7-4e40-8276-25ae83b32c8e",
   "metadata": {},
   "outputs": [
    {
     "data": {
      "text/plain": [
       "array([6840.25657575])"
      ]
     },
     "execution_count": 60,
     "metadata": {},
     "output_type": "execute_result"
    }
   ],
   "source": [
    "N2.h(T=496.5)           # p reverts to its default"
   ]
  },
  {
   "cell_type": "code",
   "execution_count": 61,
   "id": "8b3005b5-ede2-4ba2-b1ba-0b8e33bb94fc",
   "metadata": {},
   "outputs": [
    {
     "data": {
      "text/plain": [
       "array([6840.25657575])"
      ]
     },
     "execution_count": 61,
     "metadata": {},
     "output_type": "execute_result"
    }
   ],
   "source": [
    "N2.h(496.5, 3.)         # T and p as ordered args"
   ]
  },
  {
   "cell_type": "code",
   "execution_count": 62,
   "id": "d512702d-8e63-444a-b65f-49d350d66781",
   "metadata": {},
   "outputs": [
    {
     "data": {
      "text/plain": [
       "array([6840.25657575])"
      ]
     },
     "execution_count": 62,
     "metadata": {},
     "output_type": "execute_result"
    }
   ],
   "source": [
    "N2.h(496.5)             # p reverts to its default"
   ]
  },
  {
   "cell_type": "code",
   "execution_count": 63,
   "id": "34eb2107-ba89-47a0-8a2c-bc204ad6b6f4",
   "metadata": {},
   "outputs": [
    {
     "data": {
      "text/plain": [
       "array([6840.25657575])"
      ]
     },
     "execution_count": 63,
     "metadata": {},
     "output_type": "execute_result"
    }
   ],
   "source": [
    "N2.h(T=496.5, d=2.0358) # density instead of pressure"
   ]
  },
  {
   "cell_type": "markdown",
   "id": "c2320aab-1a3c-4176-acbb-1d636bce9b2d",
   "metadata": {},
   "source": [
    "In general, PYroMat is intended to be used with keywords and values specified, but it is also designed to do its best to interpret your meaning when you leave things out. In the above examples, when the keywords are missing or when one of the properties is missing, the method is reverted to defaults. When no keywords are specified, PYroMat assumes you are working in temperature and pressure `(T,p)` tuples. When one (or both) is omitted, it reverts to a default values (see the Configuration chapter of the [PYroMat Handbook](http://www.pyromat.org/pdf/handbook.pdf) for more information).\n",
    "\n",
    "This is a good point to note that the `h()` method returns a Numpy array instead of an ordinary float. All properties accept array-like arguments to temperature and pressure. PYroMat uses Numpy's [array broadcasting rules](https://docs.scipy.org/doc/numpy-1.13.0/user/basics.broadcasting.html) for operating on bulk data. This can come in handy for simulations where T and p might be big [multi-dimensional arrays](http://www.pyromat.org/doc_intro.html#arrays) in time and space."
   ]
  },
  {
   "cell_type": "code",
   "execution_count": null,
   "id": "917b0edf-114a-4264-8ce4-b504fd312202",
   "metadata": {},
   "outputs": [],
   "source": []
  },
  {
   "cell_type": "markdown",
   "id": "8110dd72-e59b-4bf5-b5d6-54c733da2f7b",
   "metadata": {},
   "source": [
    "## In-line documentation"
   ]
  },
  {
   "cell_type": "markdown",
   "id": "34fdbe61-936d-4058-ade0-260f507ab6f7",
   "metadata": {},
   "source": [
    "The in-line documentation describes the properties that are available and names the units used. For more detail on any individual property, just call up the in-line documentation for that method."
   ]
  },
  {
   "cell_type": "code",
   "execution_count": 64,
   "id": "125bceca-82df-4afd-97d3-68d52b343427",
   "metadata": {},
   "outputs": [
    {
     "name": "stdout",
     "output_type": "stream",
     "text": [
      "Help on ig2 in module builtins:\n",
      "\n",
      "ig2, ig.N2\n",
      "    The supporting data for this object were adapted from:\n",
      "    B. McBride, S. Gordon, M. Reno, \"Coefficients for Calculating \n",
      "    Thermodynamic and Transport Properties of Individual Species,\" NASA \n",
      "    Technical Memorandum 4513, 1993.\n",
      "\n"
     ]
    }
   ],
   "source": [
    "help(N2)"
   ]
  },
  {
   "cell_type": "code",
   "execution_count": 65,
   "id": "ebab39c6-ee17-4f9b-9f75-a8e530dee83a",
   "metadata": {},
   "outputs": [
    {
     "name": "stdout",
     "output_type": "stream",
     "text": [
      "Help on method h:\n",
      "\n",
      "h(*varg, **kwarg) method of builtins.ig2 instance\n",
      "    Enthalpy\n",
      "        h(T)   OR  h(p=p, d=d)\n",
      "    \n",
      "    Accepts any combination of state parameters that permit the calculation\n",
      "    of temperature.  Returns the enthalpy.  \n",
      "    \n",
      "    Missing parameters will calculated from PYroMat's default temperature\n",
      "    and pressure values in config['def_T'] and config['def_p'].\n",
      "    \n",
      "    Temperature in      [unit_temperature]\n",
      "    pressure in         [unit_pressure]\n",
      "    density in          [unit_matter / unit_volume]\n",
      "    Returns enthalpy in [unit_energy / unit_matter]\n",
      "\n"
     ]
    }
   ],
   "source": [
    "help(N2.h)"
   ]
  },
  {
   "cell_type": "markdown",
   "id": "a0f033a4-5893-4709-a9aa-38fc1ac81863",
   "metadata": {},
   "source": [
    "## Working with units"
   ]
  },
  {
   "cell_type": "markdown",
   "id": "f9878000-5e6d-498f-ad0a-b8c14c95597a",
   "metadata": {},
   "source": [
    "By default, all energy is in kJ, and intensive properties are by mass (in kg). Volume is in cubic meters, and molar units are in kmols. Pressure is in bar and temperature is in Kelvin. These units are pretty broadly used, but if developing thermodynamic codes teaches us anything, it is that no system of units is pleasing to every audience. PYroMat has a configuration object that, among other things, allows the user to change the system of units."
   ]
  },
  {
   "cell_type": "code",
   "execution_count": 66,
   "id": "db4efd22-19a2-41dd-8eed-9a6342693d38",
   "metadata": {},
   "outputs": [
    {
     "data": {
      "text/plain": [
       "array([101.00548051])"
      ]
     },
     "execution_count": 66,
     "metadata": {},
     "output_type": "execute_result"
    }
   ],
   "source": [
    "N2.s(T=700.,p=50.)"
   ]
  },
  {
   "cell_type": "code",
   "execution_count": 67,
   "id": "10e2be4e-8820-46e4-9aa6-4f3c1f8b163d",
   "metadata": {},
   "outputs": [],
   "source": [
    "pm.config['unit_temperature'] = 'F'"
   ]
  },
  {
   "cell_type": "code",
   "execution_count": 68,
   "id": "86f57d49-4749-4845-a5ae-da5eb0de4cd8",
   "metadata": {},
   "outputs": [
    {
     "data": {
      "text/plain": [
       "array([184.34349333])"
      ]
     },
     "execution_count": 68,
     "metadata": {},
     "output_type": "execute_result"
    }
   ],
   "source": [
    "N2.s(T=800.33,p=50.)*1.8    # 800.33F == 700K"
   ]
  },
  {
   "cell_type": "markdown",
   "id": "2bc4990d-032e-44dd-99b6-a45c3a4a4a3a",
   "metadata": {},
   "source": [
    "To know what the current settings are, just print the `pm.config` object."
   ]
  },
  {
   "cell_type": "code",
   "execution_count": 69,
   "id": "26774b20-b350-4547-833e-876db5e8675c",
   "metadata": {},
   "outputs": [
    {
     "data": {
      "text/plain": [
       "     config_file : ['/opt/anaconda3/lib/python3.9/site-packages/pyrom...\n",
       "  config_verbose : False\n",
       "         dat_dir : ['/opt/anaconda3/lib/python3.9/site-packages/pyrom...\n",
       " dat_exist_fatal : False\n",
       "   dat_overwrite : True\n",
       "   dat_recursive : True\n",
       "     dat_verbose : False\n",
       "           def_T : 298.15\n",
       "           def_p : 1.01325\n",
       "     install_dir : '/opt/anaconda3/lib/python3.9/site-packages/pyromat'\n",
       "         reg_dir : ['/opt/anaconda3/lib/python3.9/site-packages/pyrom...\n",
       " reg_exist_fatal : False\n",
       "   reg_overwrite : True\n",
       "     reg_verbose : False\n",
       "     unit_energy : 'kJ'\n",
       "      unit_force : 'N'\n",
       "     unit_length : 'm'\n",
       "       unit_mass : 'kg'\n",
       "     unit_matter : 'kmol'\n",
       "      unit_molar : 'kmol'\n",
       "   unit_pressure : 'bar'\n",
       "unit_temperature : 'F'\n",
       "       unit_time : 's'\n",
       "     unit_volume : 'm3'\n",
       "         version : '2.1.10'"
      ]
     },
     "execution_count": 69,
     "metadata": {},
     "output_type": "execute_result"
    }
   ],
   "source": [
    "pm.config"
   ]
  },
  {
   "cell_type": "markdown",
   "id": "8e0e320d-2af4-4eae-9ef4-45294c832278",
   "metadata": {},
   "source": [
    "Most of these are self-explanatory, but the subtle distinctions between `unit_mass`, `unit_molar`, and `unit_matter` definitely deserves some explanation. Mass and molar specify how mass and mole count will be specified in properties like molecular weight, but matter specifies how extensive properties like entropy and enthalpy will be reported. Unit matter can be in mass or molar units."
   ]
  },
  {
   "cell_type": "code",
   "execution_count": 70,
   "id": "9c9871dc-7182-492b-909a-86fff6bbcd3b",
   "metadata": {},
   "outputs": [
    {
     "data": {
      "text/plain": [
       "28.01348"
      ]
     },
     "execution_count": 70,
     "metadata": {},
     "output_type": "execute_result"
    }
   ],
   "source": [
    "N2.mw()"
   ]
  },
  {
   "cell_type": "code",
   "execution_count": 71,
   "id": "920f0e1d-aeec-43a2-a623-5747e55ad9c8",
   "metadata": {},
   "outputs": [
    {
     "data": {
      "text/plain": [
       "array([111.98585527])"
      ]
     },
     "execution_count": 71,
     "metadata": {},
     "output_type": "execute_result"
    }
   ],
   "source": [
    "N2.s()"
   ]
  },
  {
   "cell_type": "code",
   "execution_count": 72,
   "id": "e40f5a33-e6d8-4721-9789-8bd9dff9874b",
   "metadata": {},
   "outputs": [],
   "source": [
    "pm.config['unit_matter'] = 'kmol'"
   ]
  },
  {
   "cell_type": "code",
   "execution_count": 73,
   "id": "ddfae802-6f9f-42ae-8e73-3d6805fbfd76",
   "metadata": {},
   "outputs": [
    {
     "data": {
      "text/plain": [
       "array([111.98585527])"
      ]
     },
     "execution_count": 73,
     "metadata": {},
     "output_type": "execute_result"
    }
   ],
   "source": [
    "N2.s()"
   ]
  },
  {
   "cell_type": "code",
   "execution_count": 74,
   "id": "e3153c0d-e463-4636-8434-ad68fe2f7fe1",
   "metadata": {},
   "outputs": [
    {
     "data": {
      "text/plain": [
       "array([3.99757029])"
      ]
     },
     "execution_count": 74,
     "metadata": {},
     "output_type": "execute_result"
    }
   ],
   "source": [
    "N2.s()/N2.mw()"
   ]
  },
  {
   "cell_type": "markdown",
   "id": "b643586d-e202-402d-b48c-de484913b5c9",
   "metadata": {},
   "source": [
    "For a list of all units supported, the `units` module offers the `show()` function. This shows a space separated list of every string argument that the unit configuration parameters will accept. Matter is not shown because it can be either mass or molar units."
   ]
  },
  {
   "cell_type": "code",
   "execution_count": 75,
   "id": "2b09df39-5603-4c99-a395-cd9e035acbd1",
   "metadata": {},
   "outputs": [
    {
     "ename": "AttributeError",
     "evalue": "'dict' object has no attribute 'iteritems'",
     "output_type": "error",
     "traceback": [
      "\u001b[0;31m---------------------------------------------------------------------------\u001b[0m",
      "\u001b[0;31mAttributeError\u001b[0m                            Traceback (most recent call last)",
      "\u001b[0;32m/var/folders/0l/h55fmpnj56107xxc5gy6sn040000gn/T/ipykernel_27386/2175975160.py\u001b[0m in \u001b[0;36m<module>\u001b[0;34m\u001b[0m\n\u001b[0;32m----> 1\u001b[0;31m \u001b[0mpm\u001b[0m\u001b[0;34m.\u001b[0m\u001b[0munits\u001b[0m\u001b[0;34m.\u001b[0m\u001b[0mshow\u001b[0m\u001b[0;34m(\u001b[0m\u001b[0;34m)\u001b[0m\u001b[0;34m\u001b[0m\u001b[0;34m\u001b[0m\u001b[0m\n\u001b[0m",
      "\u001b[0;32m/opt/anaconda3/lib/python3.9/site-packages/pyromat/units.py\u001b[0m in \u001b[0;36mshow\u001b[0;34m()\u001b[0m\n\u001b[1;32m    581\u001b[0m \u001b[0;32mdef\u001b[0m \u001b[0mshow\u001b[0m\u001b[0;34m(\u001b[0m\u001b[0;34m)\u001b[0m\u001b[0;34m:\u001b[0m\u001b[0;34m\u001b[0m\u001b[0;34m\u001b[0m\u001b[0m\n\u001b[1;32m    582\u001b[0m     \u001b[0;34m\"\"\"Print a summary of all unit conversions available\"\"\"\u001b[0m\u001b[0;34m\u001b[0m\u001b[0;34m\u001b[0m\u001b[0m\n\u001b[0;32m--> 583\u001b[0;31m     \u001b[0;32mfor\u001b[0m \u001b[0mname\u001b[0m\u001b[0;34m,\u001b[0m\u001b[0mconv\u001b[0m \u001b[0;32min\u001b[0m \u001b[0mpyro\u001b[0m\u001b[0;34m.\u001b[0m\u001b[0munits\u001b[0m\u001b[0;34m.\u001b[0m\u001b[0m__dict__\u001b[0m\u001b[0;34m.\u001b[0m\u001b[0miteritems\u001b[0m\u001b[0;34m(\u001b[0m\u001b[0;34m)\u001b[0m\u001b[0;34m:\u001b[0m\u001b[0;34m\u001b[0m\u001b[0;34m\u001b[0m\u001b[0m\n\u001b[0m\u001b[1;32m    584\u001b[0m         \u001b[0;32mif\u001b[0m \u001b[0misinstance\u001b[0m\u001b[0;34m(\u001b[0m\u001b[0mconv\u001b[0m\u001b[0;34m,\u001b[0m\u001b[0mConversion\u001b[0m\u001b[0;34m)\u001b[0m\u001b[0;34m:\u001b[0m\u001b[0;34m\u001b[0m\u001b[0;34m\u001b[0m\u001b[0m\n\u001b[1;32m    585\u001b[0m             \u001b[0msys\u001b[0m\u001b[0;34m.\u001b[0m\u001b[0mstdout\u001b[0m\u001b[0;34m.\u001b[0m\u001b[0mwrite\u001b[0m\u001b[0;34m(\u001b[0m \u001b[0;34m'%15s : '\u001b[0m\u001b[0;34m%\u001b[0m\u001b[0mname\u001b[0m\u001b[0;34m)\u001b[0m\u001b[0;34m\u001b[0m\u001b[0;34m\u001b[0m\u001b[0m\n",
      "\u001b[0;31mAttributeError\u001b[0m: 'dict' object has no attribute 'iteritems'"
     ]
    }
   ],
   "source": [
    "pm.units.show()"
   ]
  },
  {
   "cell_type": "raw",
   "id": "87642723-f756-4e91-b3a2-ef23804aa21e",
   "metadata": {},
   "source": [
    "pm.units.show()\n",
    "          force : lb lbf kN N oz kgf \n",
    "         energy : BTU kJ J cal eV kcal BTU_ISO \n",
    "    temperature : K R eV C F \n",
    "       pressure : mmHg psi inHg MPa inH2O kPa Pa bar atm GPa torr mmH2O ksi \n",
    "          molar : Ncum NL Nm3 kmol scf n mol sci Ncc lbmol \n",
    "         volume : cumm cc mL L mm3 in3 gal UKgal cuin ft3 cuft USgal m3 cum \n",
    "         length : ft nm cm mm m km um mile in \n",
    "           mass : mg kg g oz lb lbm slug \n",
    "           time : s ms min hr ns year day us"
   ]
  },
  {
   "cell_type": "markdown",
   "id": "36d1061e-a249-47e0-8adf-4f7bb656401a",
   "metadata": {},
   "source": [
    "## Working with arrays"
   ]
  },
  {
   "cell_type": "markdown",
   "id": "3cb36c95-0842-49ef-89b7-897a48d4afa4",
   "metadata": {},
   "source": [
    "PYroMat natively supports [Numpy](https://numpy.org) arrays. Temperature and pressure arguments can be any array-like iterable."
   ]
  },
  {
   "cell_type": "code",
   "execution_count": 77,
   "id": "8083e1a3-c47b-4e5f-b11e-5133caeb460d",
   "metadata": {},
   "outputs": [],
   "source": [
    "import numpy as np"
   ]
  },
  {
   "cell_type": "code",
   "execution_count": 97,
   "id": "21cd82f1-cd73-4623-96be-494ed3b40ef3",
   "metadata": {},
   "outputs": [],
   "source": [
    "T = np.arange(100., 1100.,100.)"
   ]
  },
  {
   "cell_type": "code",
   "execution_count": 98,
   "id": "09e57939-a646-419d-9b6c-c0ece9c81258",
   "metadata": {},
   "outputs": [
    {
     "data": {
      "text/plain": [
       "array([  372.19966384,  1992.48522539,  3618.21383472,  5252.39930663,\n",
       "        6898.08254907,  8558.18278606, 10235.34878061, 11931.81005763,\n",
       "       13649.22812681, 15388.54770558])"
      ]
     },
     "execution_count": 98,
     "metadata": {},
     "output_type": "execute_result"
    }
   ],
   "source": [
    "N2.h(T)"
   ]
  },
  {
   "cell_type": "markdown",
   "id": "e4fc5e98-1a78-4fd1-8ea2-2a6bfeba7f6c",
   "metadata": {},
   "source": [
    "When parameters are mixed together, they must obey Numpy's rules for array [broadcasting](https://docs.scipy.org/doc/numpy-1.13.0/user/basics.broadcasting.html). For example, when T is a list and p is a scalar, the same pressure will be used at each temperature specified."
   ]
  },
  {
   "cell_type": "code",
   "execution_count": 107,
   "id": "4327fe7c-f312-456e-9fde-85c919e58e30",
   "metadata": {
    "tags": []
   },
   "outputs": [],
   "source": [
    "T = np.array([500., 550., 600.])"
   ]
  },
  {
   "cell_type": "code",
   "execution_count": 108,
   "id": "13b6241b-a802-450c-b651-c356aa98b600",
   "metadata": {},
   "outputs": [
    {
     "data": {
      "text/plain": [
       "array([500., 550., 600.])"
      ]
     },
     "execution_count": 108,
     "metadata": {},
     "output_type": "execute_result"
    }
   ],
   "source": [
    "T"
   ]
  },
  {
   "cell_type": "code",
   "execution_count": 100,
   "id": "91f06f28-205c-4782-850e-116e95db0a69",
   "metadata": {},
   "outputs": [],
   "source": [
    "p = 40.5"
   ]
  },
  {
   "cell_type": "code",
   "execution_count": 101,
   "id": "8a080b3e-52f8-49a5-8643-b5321688ca83",
   "metadata": {},
   "outputs": [
    {
     "data": {
      "text/plain": [
       "array([ 98.82110412,  99.66223501, 100.46652165])"
      ]
     },
     "execution_count": 101,
     "metadata": {},
     "output_type": "execute_result"
    }
   ],
   "source": [
    "N2.s(T,p)"
   ]
  },
  {
   "cell_type": "markdown",
   "id": "46d33ac4-8761-4dac-8ade-5e8450d97d9a",
   "metadata": {},
   "source": [
    "If we repeat the same steps, but with multiple pressures, we run into trouble. What would it mean, anyway, to have three temperatures and two pressures?"
   ]
  },
  {
   "cell_type": "code",
   "execution_count": 102,
   "id": "b5a9d296-a6d5-4319-91b4-2098ee9a2935",
   "metadata": {},
   "outputs": [],
   "source": [
    "p = np.array([40.5, 50.])"
   ]
  },
  {
   "cell_type": "code",
   "execution_count": 103,
   "id": "753e4a58-c9ba-4f7e-8597-a9e01250a257",
   "metadata": {},
   "outputs": [
    {
     "ename": "ValueError",
     "evalue": "shape mismatch: objects cannot be broadcast to a single shape",
     "output_type": "error",
     "traceback": [
      "\u001b[0;31m---------------------------------------------------------------------------\u001b[0m",
      "\u001b[0;31mValueError\u001b[0m                                Traceback (most recent call last)",
      "\u001b[0;32m/var/folders/0l/h55fmpnj56107xxc5gy6sn040000gn/T/ipykernel_27386/1933206438.py\u001b[0m in \u001b[0;36m<module>\u001b[0;34m\u001b[0m\n\u001b[0;32m----> 1\u001b[0;31m \u001b[0mN2\u001b[0m\u001b[0;34m.\u001b[0m\u001b[0ms\u001b[0m\u001b[0;34m(\u001b[0m\u001b[0mT\u001b[0m\u001b[0;34m,\u001b[0m\u001b[0mp\u001b[0m\u001b[0;34m)\u001b[0m\u001b[0;34m\u001b[0m\u001b[0;34m\u001b[0m\u001b[0m\n\u001b[0m",
      "\u001b[0;32m/opt/anaconda3/lib/python3.9/site-packages/pyromat/registry/ig2.py\u001b[0m in \u001b[0;36ms\u001b[0;34m(self, *varg, **kwarg)\u001b[0m\n\u001b[1;32m    818\u001b[0m \u001b[0;34m\u001b[0m\u001b[0m\n\u001b[1;32m    819\u001b[0m         \u001b[0;31m# Prep temperature and the result arrays\u001b[0m\u001b[0;34m\u001b[0m\u001b[0;34m\u001b[0m\u001b[0m\n\u001b[0;32m--> 820\u001b[0;31m         \u001b[0mT\u001b[0m\u001b[0;34m,\u001b[0m\u001b[0mp\u001b[0m \u001b[0;34m=\u001b[0m \u001b[0mself\u001b[0m\u001b[0;34m.\u001b[0m\u001b[0m_argparse\u001b[0m\u001b[0;34m(\u001b[0m\u001b[0;34m*\u001b[0m\u001b[0mvarg\u001b[0m\u001b[0;34m,\u001b[0m \u001b[0mtemperature\u001b[0m\u001b[0;34m=\u001b[0m\u001b[0;32mTrue\u001b[0m\u001b[0;34m,\u001b[0m \u001b[0mpressure\u001b[0m\u001b[0;34m=\u001b[0m\u001b[0;32mTrue\u001b[0m\u001b[0;34m,\u001b[0m \u001b[0;34m**\u001b[0m\u001b[0mkwarg\u001b[0m\u001b[0;34m)\u001b[0m\u001b[0;34m\u001b[0m\u001b[0;34m\u001b[0m\u001b[0m\n\u001b[0m\u001b[1;32m    821\u001b[0m         \u001b[0mout\u001b[0m \u001b[0;34m=\u001b[0m \u001b[0mself\u001b[0m\u001b[0;34m.\u001b[0m\u001b[0m_s\u001b[0m\u001b[0;34m(\u001b[0m\u001b[0mT\u001b[0m\u001b[0;34m)\u001b[0m\u001b[0;34m[\u001b[0m\u001b[0;36m0\u001b[0m\u001b[0;34m]\u001b[0m \u001b[0;34m-\u001b[0m \u001b[0mpm\u001b[0m\u001b[0;34m.\u001b[0m\u001b[0munits\u001b[0m\u001b[0;34m.\u001b[0m\u001b[0mconst_Ru\u001b[0m \u001b[0;34m*\u001b[0m \u001b[0mnp\u001b[0m\u001b[0;34m.\u001b[0m\u001b[0mlog\u001b[0m\u001b[0;34m(\u001b[0m\u001b[0mp\u001b[0m\u001b[0;34m/\u001b[0m\u001b[0mself\u001b[0m\u001b[0;34m.\u001b[0m\u001b[0mdata\u001b[0m\u001b[0;34m[\u001b[0m\u001b[0;34m'pref'\u001b[0m\u001b[0;34m]\u001b[0m\u001b[0;34m)\u001b[0m\u001b[0;34m\u001b[0m\u001b[0;34m\u001b[0m\u001b[0m\n\u001b[1;32m    822\u001b[0m         \u001b[0mpm\u001b[0m\u001b[0;34m.\u001b[0m\u001b[0munits\u001b[0m\u001b[0;34m.\u001b[0m\u001b[0menergy\u001b[0m\u001b[0;34m(\u001b[0m\u001b[0mout\u001b[0m\u001b[0;34m,\u001b[0m \u001b[0mfrom_units\u001b[0m\u001b[0;34m=\u001b[0m\u001b[0;34m'kJ'\u001b[0m\u001b[0;34m,\u001b[0m \u001b[0minplace\u001b[0m\u001b[0;34m=\u001b[0m\u001b[0;32mTrue\u001b[0m\u001b[0;34m)\u001b[0m\u001b[0;34m\u001b[0m\u001b[0;34m\u001b[0m\u001b[0m\n",
      "\u001b[0;32m/opt/anaconda3/lib/python3.9/site-packages/pyromat/registry/ig2.py\u001b[0m in \u001b[0;36m_argparse\u001b[0;34m(self, T, p, d, temperature, pressure, density)\u001b[0m\n\u001b[1;32m    109\u001b[0m             \u001b[0;32mif\u001b[0m \u001b[0mp\u001b[0m \u001b[0;32mis\u001b[0m \u001b[0;32mnot\u001b[0m \u001b[0;32mNone\u001b[0m\u001b[0;34m:\u001b[0m\u001b[0;34m\u001b[0m\u001b[0;34m\u001b[0m\u001b[0m\n\u001b[1;32m    110\u001b[0m                 \u001b[0;31m# Broadcast the arrays\u001b[0m\u001b[0;34m\u001b[0m\u001b[0;34m\u001b[0m\u001b[0m\n\u001b[0;32m--> 111\u001b[0;31m                 \u001b[0mT\u001b[0m\u001b[0;34m,\u001b[0m\u001b[0mp\u001b[0m \u001b[0;34m=\u001b[0m \u001b[0mnp\u001b[0m\u001b[0;34m.\u001b[0m\u001b[0mbroadcast_arrays\u001b[0m\u001b[0;34m(\u001b[0m\u001b[0mT\u001b[0m\u001b[0;34m,\u001b[0m\u001b[0mp\u001b[0m\u001b[0;34m)\u001b[0m\u001b[0;34m\u001b[0m\u001b[0;34m\u001b[0m\u001b[0m\n\u001b[0m\u001b[1;32m    112\u001b[0m                 \u001b[0;31m# Do we need density?\u001b[0m\u001b[0;34m\u001b[0m\u001b[0;34m\u001b[0m\u001b[0m\n\u001b[1;32m    113\u001b[0m                 \u001b[0;32mif\u001b[0m \u001b[0mdensity\u001b[0m\u001b[0;34m:\u001b[0m\u001b[0;34m\u001b[0m\u001b[0;34m\u001b[0m\u001b[0m\n",
      "\u001b[0;32m<__array_function__ internals>\u001b[0m in \u001b[0;36mbroadcast_arrays\u001b[0;34m(*args, **kwargs)\u001b[0m\n",
      "\u001b[0;32m/opt/anaconda3/lib/python3.9/site-packages/numpy/lib/stride_tricks.py\u001b[0m in \u001b[0;36mbroadcast_arrays\u001b[0;34m(subok, *args)\u001b[0m\n\u001b[1;32m    536\u001b[0m     \u001b[0margs\u001b[0m \u001b[0;34m=\u001b[0m \u001b[0;34m[\u001b[0m\u001b[0mnp\u001b[0m\u001b[0;34m.\u001b[0m\u001b[0marray\u001b[0m\u001b[0;34m(\u001b[0m\u001b[0m_m\u001b[0m\u001b[0;34m,\u001b[0m \u001b[0mcopy\u001b[0m\u001b[0;34m=\u001b[0m\u001b[0;32mFalse\u001b[0m\u001b[0;34m,\u001b[0m \u001b[0msubok\u001b[0m\u001b[0;34m=\u001b[0m\u001b[0msubok\u001b[0m\u001b[0;34m)\u001b[0m \u001b[0;32mfor\u001b[0m \u001b[0m_m\u001b[0m \u001b[0;32min\u001b[0m \u001b[0margs\u001b[0m\u001b[0;34m]\u001b[0m\u001b[0;34m\u001b[0m\u001b[0;34m\u001b[0m\u001b[0m\n\u001b[1;32m    537\u001b[0m \u001b[0;34m\u001b[0m\u001b[0m\n\u001b[0;32m--> 538\u001b[0;31m     \u001b[0mshape\u001b[0m \u001b[0;34m=\u001b[0m \u001b[0m_broadcast_shape\u001b[0m\u001b[0;34m(\u001b[0m\u001b[0;34m*\u001b[0m\u001b[0margs\u001b[0m\u001b[0;34m)\u001b[0m\u001b[0;34m\u001b[0m\u001b[0;34m\u001b[0m\u001b[0m\n\u001b[0m\u001b[1;32m    539\u001b[0m \u001b[0;34m\u001b[0m\u001b[0m\n\u001b[1;32m    540\u001b[0m     \u001b[0;32mif\u001b[0m \u001b[0mall\u001b[0m\u001b[0;34m(\u001b[0m\u001b[0marray\u001b[0m\u001b[0;34m.\u001b[0m\u001b[0mshape\u001b[0m \u001b[0;34m==\u001b[0m \u001b[0mshape\u001b[0m \u001b[0;32mfor\u001b[0m \u001b[0marray\u001b[0m \u001b[0;32min\u001b[0m \u001b[0margs\u001b[0m\u001b[0;34m)\u001b[0m\u001b[0;34m:\u001b[0m\u001b[0;34m\u001b[0m\u001b[0;34m\u001b[0m\u001b[0m\n",
      "\u001b[0;32m/opt/anaconda3/lib/python3.9/site-packages/numpy/lib/stride_tricks.py\u001b[0m in \u001b[0;36m_broadcast_shape\u001b[0;34m(*args)\u001b[0m\n\u001b[1;32m    418\u001b[0m     \u001b[0;31m# use the old-iterator because np.nditer does not handle size 0 arrays\u001b[0m\u001b[0;34m\u001b[0m\u001b[0;34m\u001b[0m\u001b[0m\n\u001b[1;32m    419\u001b[0m     \u001b[0;31m# consistently\u001b[0m\u001b[0;34m\u001b[0m\u001b[0;34m\u001b[0m\u001b[0m\n\u001b[0;32m--> 420\u001b[0;31m     \u001b[0mb\u001b[0m \u001b[0;34m=\u001b[0m \u001b[0mnp\u001b[0m\u001b[0;34m.\u001b[0m\u001b[0mbroadcast\u001b[0m\u001b[0;34m(\u001b[0m\u001b[0;34m*\u001b[0m\u001b[0margs\u001b[0m\u001b[0;34m[\u001b[0m\u001b[0;34m:\u001b[0m\u001b[0;36m32\u001b[0m\u001b[0;34m]\u001b[0m\u001b[0;34m)\u001b[0m\u001b[0;34m\u001b[0m\u001b[0;34m\u001b[0m\u001b[0m\n\u001b[0m\u001b[1;32m    421\u001b[0m     \u001b[0;31m# unfortunately, it cannot handle 32 or more arguments directly\u001b[0m\u001b[0;34m\u001b[0m\u001b[0;34m\u001b[0m\u001b[0m\n\u001b[1;32m    422\u001b[0m     \u001b[0;32mfor\u001b[0m \u001b[0mpos\u001b[0m \u001b[0;32min\u001b[0m \u001b[0mrange\u001b[0m\u001b[0;34m(\u001b[0m\u001b[0;36m32\u001b[0m\u001b[0;34m,\u001b[0m \u001b[0mlen\u001b[0m\u001b[0;34m(\u001b[0m\u001b[0margs\u001b[0m\u001b[0;34m)\u001b[0m\u001b[0;34m,\u001b[0m \u001b[0;36m31\u001b[0m\u001b[0;34m)\u001b[0m\u001b[0;34m:\u001b[0m\u001b[0;34m\u001b[0m\u001b[0;34m\u001b[0m\u001b[0m\n",
      "\u001b[0;31mValueError\u001b[0m: shape mismatch: objects cannot be broadcast to a single shape"
     ]
    }
   ],
   "source": [
    "N2.s(T,p)"
   ]
  },
  {
   "cell_type": "markdown",
   "id": "8ec8b972-d5fa-476e-bccd-7138838a5435",
   "metadata": {},
   "source": [
    "If T and p are to be arrays, they must be exactly the same shape or they must proceed in different dimensions."
   ]
  },
  {
   "cell_type": "code",
   "execution_count": 109,
   "id": "7eab324d-99d9-46cd-98ca-2c9beb7af735",
   "metadata": {},
   "outputs": [],
   "source": [
    "T = T.reshape((T.size,1))"
   ]
  },
  {
   "cell_type": "code",
   "execution_count": 110,
   "id": "48fd12bf-434c-4dbb-b221-0f3216a4a6cc",
   "metadata": {},
   "outputs": [
    {
     "data": {
      "text/plain": [
       "array([[ 98.82110412,  97.84775294],\n",
       "       [ 99.66223501,  98.68888382],\n",
       "       [100.46652165,  99.49317047]])"
      ]
     },
     "execution_count": 110,
     "metadata": {},
     "output_type": "execute_result"
    }
   ],
   "source": [
    "N2.s(T,p)"
   ]
  },
  {
   "cell_type": "code",
   "execution_count": 111,
   "id": "3fb00709-c7ea-44ce-be43-b2ae55ee6b46",
   "metadata": {},
   "outputs": [
    {
     "data": {
      "text/plain": [
       "array([[500.],\n",
       "       [550.],\n",
       "       [600.]])"
      ]
     },
     "execution_count": 111,
     "metadata": {},
     "output_type": "execute_result"
    }
   ],
   "source": [
    "T"
   ]
  },
  {
   "cell_type": "code",
   "execution_count": 112,
   "id": "efc31234-04fe-45da-9396-66f43bd88ca9",
   "metadata": {},
   "outputs": [
    {
     "data": {
      "text/plain": [
       "array([40.5, 50. ])"
      ]
     },
     "execution_count": 112,
     "metadata": {},
     "output_type": "execute_result"
    }
   ],
   "source": [
    "p"
   ]
  },
  {
   "cell_type": "markdown",
   "id": "03daed30-9c7e-4f05-9d0f-600179d6284d",
   "metadata": {},
   "source": [
    "This is just like populating a table for each combination of the temperature and pressure values. There are other funny multi-dimensional combinations that are supported, but we'll leave that to the Numpy documentation to cover."
   ]
  },
  {
   "cell_type": "markdown",
   "id": "9b348e34-be83-47e8-a01f-8645dc831ff2",
   "metadata": {},
   "source": [
    "Authored By:<br>\n",
    "Christopher R. Martin, Ph.D.<br>\n",
    "Associate Professor of Mechanical Engineering<br>\n",
    "The Pennsylvania State University, Altoona College<br>\n",
    "crm28@psu.edu<br>\n",
    "©2021 Released under the GPLv3 License"
   ]
  }
 ],
 "metadata": {
  "kernelspec": {
   "display_name": "Python 3 (ipykernel)",
   "language": "python",
   "name": "python3"
  },
  "language_info": {
   "codemirror_mode": {
    "name": "ipython",
    "version": 3
   },
   "file_extension": ".py",
   "mimetype": "text/x-python",
   "name": "python",
   "nbconvert_exporter": "python",
   "pygments_lexer": "ipython3",
   "version": "3.9.7"
  }
 },
 "nbformat": 4,
 "nbformat_minor": 5
}
